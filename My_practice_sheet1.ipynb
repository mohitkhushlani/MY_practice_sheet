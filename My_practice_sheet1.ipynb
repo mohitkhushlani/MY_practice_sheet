{
 "cells": [
  {
   "cell_type": "code",
   "execution_count": 1,
   "id": "043ad926",
   "metadata": {},
   "outputs": [
    {
     "ename": "SyntaxError",
     "evalue": "invalid syntax (Temp/ipykernel_43356/373542104.py, line 1)",
     "output_type": "error",
     "traceback": [
      "\u001b[1;36m  File \u001b[1;32m\"C:\\Users\\mkhus\\AppData\\Local\\Temp/ipykernel_43356/373542104.py\"\u001b[1;36m, line \u001b[1;32m1\u001b[0m\n\u001b[1;33m    conda install -c scikit-learn\u001b[0m\n\u001b[1;37m          ^\u001b[0m\n\u001b[1;31mSyntaxError\u001b[0m\u001b[1;31m:\u001b[0m invalid syntax\n"
     ]
    }
   ],
   "source": [
    "conda install -c scikit-learn\n",
    "conda install -c anaconda numpy\n",
    "conda install -c anaconda scipy"
   ]
  },
  {
   "cell_type": "code",
   "execution_count": 7,
   "id": "130dfde3",
   "metadata": {},
   "outputs": [
    {
     "name": "stdout",
     "output_type": "stream",
     "text": [
      "1 2 3 4 "
     ]
    }
   ],
   "source": [
    "for i in range(1,5):\n",
    "    print(i,end=' ')"
   ]
  },
  {
   "cell_type": "code",
   "execution_count": 24,
   "id": "033c9304",
   "metadata": {},
   "outputs": [
    {
     "name": "stdout",
     "output_type": "stream",
     "text": [
      "t value 2\n",
      "4\n",
      "1 2 3 4\n",
      "3 4 5\n",
      "2\n",
      "1 2 3 9\n",
      "14 15 23\n",
      "13\n"
     ]
    }
   ],
   "source": [
    "t=int(input('t value '))\n",
    "if (t<8 and t>0):\n",
    "    #for i in range(3):\n",
    "    for i in range(t):\n",
    "        n=int(input())\n",
    "        #for j in range(n):\n",
    "        a=list(map(int,input().split()))\n",
    "       # for k in range(n-1):\n",
    "        b=list(map(int,input().split()))\n",
    "        a.sort()\n",
    "        b.sort()\n",
    "        l=[]\n",
    "        for i in range(len(b)):\n",
    "            c=b[i]-a[i]\n",
    "            l.append(c)\n",
    "    l.sort()\n",
    "    print(l[0])\n",
    "            \n",
    "            "
   ]
  },
  {
   "cell_type": "code",
   "execution_count": 3,
   "id": "3346d59e",
   "metadata": {},
   "outputs": [
    {
     "name": "stdout",
     "output_type": "stream",
     "text": [
      "1 2 3 4 23 \n",
      "[1, 2, 3, 4, 23]\n"
     ]
    }
   ],
   "source": [
    "a=3\n",
    "print(a)\n"
   ]
  },
  {
   "cell_type": "code",
   "execution_count": 16,
   "id": "c6d9b558",
   "metadata": {},
   "outputs": [
    {
     "name": "stdout",
     "output_type": "stream",
     "text": [
      "3\n",
      "3\n",
      "3\n"
     ]
    }
   ],
   "source": [
    "a=[1,2,3]\n",
    "b=[4,5]\n",
    "l=[]\n",
    "for i in range(len(b)):\n",
    "    \n",
    "    c=b[i]-a[i]\n",
    "    l.append(c)\n",
    "    print(c)\n",
    "#l=l.sort()\n",
    "l.sort()\n",
    "print(l[0])"
   ]
  },
  {
   "cell_type": "code",
   "execution_count": null,
   "id": "50c7860f",
   "metadata": {},
   "outputs": [],
   "source": []
  },
  {
   "cell_type": "code",
   "execution_count": 34,
   "id": "7b23022c",
   "metadata": {},
   "outputs": [
    {
     "name": "stdout",
     "output_type": "stream",
     "text": [
      "2\n",
      "4\n",
      "1 2 3 4\n",
      "2 3 4\n",
      "3\n",
      "2 4 6\n",
      "5 7\n",
      "[3]\n",
      "3\n"
     ]
    }
   ],
   "source": [
    "t=int(input())\n",
    "if (t<8 and t>0):\n",
    "    #for i in range(3):\n",
    "    for i in range(t):\n",
    "        n=int(input())\n",
    "        #for j in range(n):\n",
    "        a=list(map(int,input().split()))\n",
    "       # for k in range(n-1):\n",
    "        b=list(map(int,input().split()))\n",
    "        a.sort()\n",
    "        b.sort()\n",
    "        l=[]\n",
    "        l1=[]\n",
    "        for i in range(len(b)):\n",
    "            c=b[i]-a[i]\n",
    "            l.append(c)\n",
    "        l.sort()\n",
    "        l1.append(l[0])\n",
    "        #print(l1)\n",
    "        l2=[]\n",
    "        for i in l1:\n",
    "            l2.append(i)\n",
    "    print(l2)\n",
    "    for i in l2:\n",
    "        print(i)\n",
    "            \n",
    "            \n",
    "        \n",
    "            \n",
    "            "
   ]
  },
  {
   "cell_type": "code",
   "execution_count": 1,
   "id": "204e8dde",
   "metadata": {},
   "outputs": [
    {
     "ename": "KeyboardInterrupt",
     "evalue": "Interrupted by user",
     "output_type": "error",
     "traceback": [
      "\u001b[1;31m---------------------------------------------------------------------------\u001b[0m",
      "\u001b[1;31mKeyboardInterrupt\u001b[0m                         Traceback (most recent call last)",
      "\u001b[1;32m~\\AppData\\Local\\Temp/ipykernel_18820/1658223301.py\u001b[0m in \u001b[0;36m<module>\u001b[1;34m\u001b[0m\n\u001b[1;32m----> 1\u001b[1;33m \u001b[0mT\u001b[0m\u001b[1;33m=\u001b[0m\u001b[0mint\u001b[0m\u001b[1;33m(\u001b[0m\u001b[0minput\u001b[0m\u001b[1;33m(\u001b[0m\u001b[1;33m)\u001b[0m\u001b[1;33m)\u001b[0m\u001b[1;33m\u001b[0m\u001b[1;33m\u001b[0m\u001b[0m\n\u001b[0m\u001b[0;32m      2\u001b[0m \u001b[1;32mfor\u001b[0m \u001b[0mc\u001b[0m \u001b[1;32min\u001b[0m \u001b[0mrange\u001b[0m\u001b[1;33m(\u001b[0m\u001b[0mT\u001b[0m\u001b[1;33m)\u001b[0m\u001b[1;33m:\u001b[0m\u001b[1;33m\u001b[0m\u001b[1;33m\u001b[0m\u001b[0m\n\u001b[0;32m      3\u001b[0m      \u001b[0mn\u001b[0m\u001b[1;33m=\u001b[0m\u001b[0mint\u001b[0m\u001b[1;33m(\u001b[0m\u001b[0minput\u001b[0m\u001b[1;33m(\u001b[0m\u001b[1;33m)\u001b[0m\u001b[1;33m)\u001b[0m\u001b[1;33m\u001b[0m\u001b[1;33m\u001b[0m\u001b[0m\n\u001b[0;32m      4\u001b[0m      \u001b[0mA\u001b[0m\u001b[1;33m=\u001b[0m\u001b[1;33m[\u001b[0m\u001b[0mint\u001b[0m\u001b[1;33m(\u001b[0m\u001b[0mx\u001b[0m\u001b[1;33m)\u001b[0m \u001b[1;32mfor\u001b[0m \u001b[0mx\u001b[0m \u001b[1;32min\u001b[0m \u001b[0minput\u001b[0m\u001b[1;33m(\u001b[0m\u001b[1;33m)\u001b[0m\u001b[1;33m.\u001b[0m\u001b[0msplit\u001b[0m\u001b[1;33m(\u001b[0m\u001b[1;33m)\u001b[0m\u001b[1;33m]\u001b[0m\u001b[1;33m\u001b[0m\u001b[1;33m\u001b[0m\u001b[0m\n\u001b[0;32m      5\u001b[0m      \u001b[0mB\u001b[0m\u001b[1;33m=\u001b[0m\u001b[1;33m[\u001b[0m\u001b[0mint\u001b[0m\u001b[1;33m(\u001b[0m\u001b[0mx\u001b[0m\u001b[1;33m)\u001b[0m \u001b[1;32mfor\u001b[0m \u001b[0mx\u001b[0m \u001b[1;32min\u001b[0m \u001b[0minput\u001b[0m\u001b[1;33m(\u001b[0m\u001b[1;33m)\u001b[0m\u001b[1;33m.\u001b[0m\u001b[0msplit\u001b[0m\u001b[1;33m(\u001b[0m\u001b[1;33m)\u001b[0m\u001b[1;33m]\u001b[0m\u001b[1;33m\u001b[0m\u001b[1;33m\u001b[0m\u001b[0m\n",
      "\u001b[1;32m~\\anaconda3\\lib\\site-packages\\ipykernel\\kernelbase.py\u001b[0m in \u001b[0;36mraw_input\u001b[1;34m(self, prompt)\u001b[0m\n\u001b[0;32m   1004\u001b[0m                 \u001b[1;34m\"raw_input was called, but this frontend does not support input requests.\"\u001b[0m\u001b[1;33m\u001b[0m\u001b[1;33m\u001b[0m\u001b[0m\n\u001b[0;32m   1005\u001b[0m             )\n\u001b[1;32m-> 1006\u001b[1;33m         return self._input_request(\n\u001b[0m\u001b[0;32m   1007\u001b[0m             \u001b[0mstr\u001b[0m\u001b[1;33m(\u001b[0m\u001b[0mprompt\u001b[0m\u001b[1;33m)\u001b[0m\u001b[1;33m,\u001b[0m\u001b[1;33m\u001b[0m\u001b[1;33m\u001b[0m\u001b[0m\n\u001b[0;32m   1008\u001b[0m             \u001b[0mself\u001b[0m\u001b[1;33m.\u001b[0m\u001b[0m_parent_ident\u001b[0m\u001b[1;33m[\u001b[0m\u001b[1;34m\"shell\"\u001b[0m\u001b[1;33m]\u001b[0m\u001b[1;33m,\u001b[0m\u001b[1;33m\u001b[0m\u001b[1;33m\u001b[0m\u001b[0m\n",
      "\u001b[1;32m~\\anaconda3\\lib\\site-packages\\ipykernel\\kernelbase.py\u001b[0m in \u001b[0;36m_input_request\u001b[1;34m(self, prompt, ident, parent, password)\u001b[0m\n\u001b[0;32m   1049\u001b[0m             \u001b[1;32mexcept\u001b[0m \u001b[0mKeyboardInterrupt\u001b[0m\u001b[1;33m:\u001b[0m\u001b[1;33m\u001b[0m\u001b[1;33m\u001b[0m\u001b[0m\n\u001b[0;32m   1050\u001b[0m                 \u001b[1;31m# re-raise KeyboardInterrupt, to truncate traceback\u001b[0m\u001b[1;33m\u001b[0m\u001b[1;33m\u001b[0m\u001b[0m\n\u001b[1;32m-> 1051\u001b[1;33m                 \u001b[1;32mraise\u001b[0m \u001b[0mKeyboardInterrupt\u001b[0m\u001b[1;33m(\u001b[0m\u001b[1;34m\"Interrupted by user\"\u001b[0m\u001b[1;33m)\u001b[0m \u001b[1;32mfrom\u001b[0m \u001b[1;32mNone\u001b[0m\u001b[1;33m\u001b[0m\u001b[1;33m\u001b[0m\u001b[0m\n\u001b[0m\u001b[0;32m   1052\u001b[0m             \u001b[1;32mexcept\u001b[0m \u001b[0mException\u001b[0m\u001b[1;33m:\u001b[0m\u001b[1;33m\u001b[0m\u001b[1;33m\u001b[0m\u001b[0m\n\u001b[0;32m   1053\u001b[0m                 \u001b[0mself\u001b[0m\u001b[1;33m.\u001b[0m\u001b[0mlog\u001b[0m\u001b[1;33m.\u001b[0m\u001b[0mwarning\u001b[0m\u001b[1;33m(\u001b[0m\u001b[1;34m\"Invalid Message:\"\u001b[0m\u001b[1;33m,\u001b[0m \u001b[0mexc_info\u001b[0m\u001b[1;33m=\u001b[0m\u001b[1;32mTrue\u001b[0m\u001b[1;33m)\u001b[0m\u001b[1;33m\u001b[0m\u001b[1;33m\u001b[0m\u001b[0m\n",
      "\u001b[1;31mKeyboardInterrupt\u001b[0m: Interrupted by user"
     ]
    }
   ],
   "source": [
    "T=int(input())\n",
    "for c in range(T):\n",
    "     n=int(input())\n",
    "     A=[int(x) for x in input().split()]\n",
    "     B=[int(x) for x in input().split()]\n",
    "     if len(A)==2:\n",
    "      if max(A)>B[0]:\n",
    "        print(B[0]-min(A))\n",
    "      else:\n",
    "        print(B[0]-max(A))\n",
    "      continue\n",
    "     A.sort()\n",
    "     B.sort()\n",
    "     n1=B[0]-A[0]\n",
    "     n2=B[0]-A[1]\n",
    "     if n2<=0:\n",
    "      print(n1)\n",
    "      continue\n",
    "     else:\n",
    "      f=0\n",
    "      for x in range(1,len(B)):\n",
    "       if B[x]-A[x+1]!=n2:\n",
    "        print(n1)\n",
    "        f=1\n",
    "        break\n",
    "      if(f==0):\n",
    "       print(n2)"
   ]
  },
  {
   "cell_type": "code",
   "execution_count": 1,
   "id": "2ebd555d",
   "metadata": {},
   "outputs": [
    {
     "ename": "KeyboardInterrupt",
     "evalue": "Interrupted by user",
     "output_type": "error",
     "traceback": [
      "\u001b[1;31m---------------------------------------------------------------------------\u001b[0m",
      "\u001b[1;31mKeyboardInterrupt\u001b[0m                         Traceback (most recent call last)",
      "\u001b[1;32m~\\AppData\\Local\\Temp/ipykernel_3000/3074950110.py\u001b[0m in \u001b[0;36m<module>\u001b[1;34m\u001b[0m\n\u001b[1;32m----> 1\u001b[1;33m \u001b[0mt\u001b[0m\u001b[1;33m=\u001b[0m\u001b[0mint\u001b[0m\u001b[1;33m(\u001b[0m\u001b[0minput\u001b[0m\u001b[1;33m(\u001b[0m\u001b[1;33m)\u001b[0m\u001b[1;33m)\u001b[0m\u001b[1;33m\u001b[0m\u001b[1;33m\u001b[0m\u001b[0m\n\u001b[0m\u001b[0;32m      2\u001b[0m \u001b[1;32mfor\u001b[0m \u001b[0mi\u001b[0m \u001b[1;32min\u001b[0m \u001b[0mrange\u001b[0m\u001b[1;33m(\u001b[0m\u001b[0mt\u001b[0m\u001b[1;33m)\u001b[0m\u001b[1;33m:\u001b[0m\u001b[1;33m\u001b[0m\u001b[1;33m\u001b[0m\u001b[0m\n\u001b[0;32m      3\u001b[0m     \u001b[0mn\u001b[0m\u001b[1;33m=\u001b[0m\u001b[0mint\u001b[0m\u001b[1;33m(\u001b[0m\u001b[0minput\u001b[0m\u001b[1;33m(\u001b[0m\u001b[1;33m)\u001b[0m\u001b[1;33m)\u001b[0m\u001b[1;33m\u001b[0m\u001b[1;33m\u001b[0m\u001b[0m\n\u001b[0;32m      4\u001b[0m     \u001b[0ma\u001b[0m\u001b[1;33m=\u001b[0m\u001b[1;33m[\u001b[0m\u001b[0mint\u001b[0m\u001b[1;33m(\u001b[0m\u001b[0mx\u001b[0m\u001b[1;33m)\u001b[0m \u001b[1;32mfor\u001b[0m \u001b[0mx\u001b[0m \u001b[1;32min\u001b[0m \u001b[0minput\u001b[0m\u001b[1;33m(\u001b[0m\u001b[1;33m)\u001b[0m\u001b[1;33m.\u001b[0m\u001b[0msplit\u001b[0m\u001b[1;33m(\u001b[0m\u001b[1;33m)\u001b[0m\u001b[1;33m]\u001b[0m\u001b[1;33m\u001b[0m\u001b[1;33m\u001b[0m\u001b[0m\n\u001b[0;32m      5\u001b[0m     \u001b[0mb\u001b[0m\u001b[1;33m=\u001b[0m\u001b[1;33m[\u001b[0m\u001b[0mint\u001b[0m\u001b[1;33m(\u001b[0m\u001b[0mx\u001b[0m\u001b[1;33m)\u001b[0m \u001b[1;32mfor\u001b[0m \u001b[0mx\u001b[0m \u001b[1;32min\u001b[0m \u001b[0minput\u001b[0m\u001b[1;33m(\u001b[0m\u001b[1;33m)\u001b[0m\u001b[1;33m.\u001b[0m\u001b[0msplit\u001b[0m\u001b[1;33m(\u001b[0m\u001b[1;33m)\u001b[0m\u001b[1;33m]\u001b[0m\u001b[1;33m\u001b[0m\u001b[1;33m\u001b[0m\u001b[0m\n",
      "\u001b[1;32m~\\anaconda3\\lib\\site-packages\\ipykernel\\kernelbase.py\u001b[0m in \u001b[0;36mraw_input\u001b[1;34m(self, prompt)\u001b[0m\n\u001b[0;32m   1004\u001b[0m                 \u001b[1;34m\"raw_input was called, but this frontend does not support input requests.\"\u001b[0m\u001b[1;33m\u001b[0m\u001b[1;33m\u001b[0m\u001b[0m\n\u001b[0;32m   1005\u001b[0m             )\n\u001b[1;32m-> 1006\u001b[1;33m         return self._input_request(\n\u001b[0m\u001b[0;32m   1007\u001b[0m             \u001b[0mstr\u001b[0m\u001b[1;33m(\u001b[0m\u001b[0mprompt\u001b[0m\u001b[1;33m)\u001b[0m\u001b[1;33m,\u001b[0m\u001b[1;33m\u001b[0m\u001b[1;33m\u001b[0m\u001b[0m\n\u001b[0;32m   1008\u001b[0m             \u001b[0mself\u001b[0m\u001b[1;33m.\u001b[0m\u001b[0m_parent_ident\u001b[0m\u001b[1;33m[\u001b[0m\u001b[1;34m\"shell\"\u001b[0m\u001b[1;33m]\u001b[0m\u001b[1;33m,\u001b[0m\u001b[1;33m\u001b[0m\u001b[1;33m\u001b[0m\u001b[0m\n",
      "\u001b[1;32m~\\anaconda3\\lib\\site-packages\\ipykernel\\kernelbase.py\u001b[0m in \u001b[0;36m_input_request\u001b[1;34m(self, prompt, ident, parent, password)\u001b[0m\n\u001b[0;32m   1049\u001b[0m             \u001b[1;32mexcept\u001b[0m \u001b[0mKeyboardInterrupt\u001b[0m\u001b[1;33m:\u001b[0m\u001b[1;33m\u001b[0m\u001b[1;33m\u001b[0m\u001b[0m\n\u001b[0;32m   1050\u001b[0m                 \u001b[1;31m# re-raise KeyboardInterrupt, to truncate traceback\u001b[0m\u001b[1;33m\u001b[0m\u001b[1;33m\u001b[0m\u001b[0m\n\u001b[1;32m-> 1051\u001b[1;33m                 \u001b[1;32mraise\u001b[0m \u001b[0mKeyboardInterrupt\u001b[0m\u001b[1;33m(\u001b[0m\u001b[1;34m\"Interrupted by user\"\u001b[0m\u001b[1;33m)\u001b[0m \u001b[1;32mfrom\u001b[0m \u001b[1;32mNone\u001b[0m\u001b[1;33m\u001b[0m\u001b[1;33m\u001b[0m\u001b[0m\n\u001b[0m\u001b[0;32m   1052\u001b[0m             \u001b[1;32mexcept\u001b[0m \u001b[0mException\u001b[0m\u001b[1;33m:\u001b[0m\u001b[1;33m\u001b[0m\u001b[1;33m\u001b[0m\u001b[0m\n\u001b[0;32m   1053\u001b[0m                 \u001b[0mself\u001b[0m\u001b[1;33m.\u001b[0m\u001b[0mlog\u001b[0m\u001b[1;33m.\u001b[0m\u001b[0mwarning\u001b[0m\u001b[1;33m(\u001b[0m\u001b[1;34m\"Invalid Message:\"\u001b[0m\u001b[1;33m,\u001b[0m \u001b[0mexc_info\u001b[0m\u001b[1;33m=\u001b[0m\u001b[1;32mTrue\u001b[0m\u001b[1;33m)\u001b[0m\u001b[1;33m\u001b[0m\u001b[1;33m\u001b[0m\u001b[0m\n",
      "\u001b[1;31mKeyboardInterrupt\u001b[0m: Interrupted by user"
     ]
    }
   ],
   "source": [
    "t=int(input())\n",
    "for i in range(t):\n",
    "    n=int(input())\n",
    "    a=[int(x) for x in input().split()]\n",
    "    b=[int(x) for x in input().split()]\n",
    "    a.sort()\n",
    "    b.sort()\n",
    "    n1=b[0]-a[0]\n",
    "    n2=b[0]-a[1]"
   ]
  },
  {
   "cell_type": "code",
   "execution_count": 41,
   "id": "4caa0e24",
   "metadata": {},
   "outputs": [],
   "source": [
    "#Week1 lecture codes\n",
    "#factors, GCD ,prime , Primes upto a given number, first m primes, diff b/w prmes\n",
    "\n",
    "def factor(n):                   #factor code\n",
    "    f=[]\n",
    "    for i in range(1,n+1):\n",
    "        if (n%i==0):\n",
    "            f.append(i)\n",
    "    return (f)\n",
    "def prime(n):\n",
    "    return(factor(n)==[1,n])\n",
    "def primeupto(m):\n",
    "    l=[]\n",
    "    for i in range (1,m+1):\n",
    "        if prime(i):\n",
    "            l.append(i)\n",
    "    return(l)\n",
    "def gcd(x,y):\n",
    "    for i in range(1, min(x,y)+1):\n",
    "        if (x%i==0) and (y%i==0):\n",
    "            cr=i\n",
    "    return(cr)\n",
    "def firstprimes(m):\n",
    "    (i,count,l)=(1,0,[])\n",
    "    while(count<m):\n",
    "        if(prime(i)):\n",
    "            (count,l)=(count+1,l+[i])\n",
    "        i+=1\n",
    "    return(l)\n",
    "def diffprime(n):\n",
    "    lastprime=2\n",
    "    pd={}\n",
    "    for i in range(3,n+1):\n",
    "        if prime(i):\n",
    "            d=i-lastprime\n",
    "            lastprime=i\n",
    "            if d in pd.keys():\n",
    "                pd[d]+=1\n",
    "            else:\n",
    "                pd[d]=1\n",
    "    return (pd)\n",
    "        "
   ]
  },
  {
   "cell_type": "code",
   "execution_count": 35,
   "id": "f14bbdb3",
   "metadata": {},
   "outputs": [
    {
     "data": {
      "text/plain": [
       "[1, 2, 5, 10]"
      ]
     },
     "execution_count": 35,
     "metadata": {},
     "output_type": "execute_result"
    }
   ],
   "source": [
    "factor(10)\n"
   ]
  },
  {
   "cell_type": "code",
   "execution_count": 36,
   "id": "f0d5ec44",
   "metadata": {},
   "outputs": [
    {
     "data": {
      "text/plain": [
       "True"
      ]
     },
     "execution_count": 36,
     "metadata": {},
     "output_type": "execute_result"
    }
   ],
   "source": [
    "prime(2)"
   ]
  },
  {
   "cell_type": "code",
   "execution_count": 32,
   "id": "75e1e1c0",
   "metadata": {},
   "outputs": [
    {
     "data": {
      "text/plain": [
       "[2, 3, 5, 7, 11, 13, 17, 19]"
      ]
     },
     "execution_count": 32,
     "metadata": {},
     "output_type": "execute_result"
    }
   ],
   "source": [
    "primeupto(20)"
   ]
  },
  {
   "cell_type": "code",
   "execution_count": 37,
   "id": "a62130b9",
   "metadata": {},
   "outputs": [
    {
     "data": {
      "text/plain": [
       "5"
      ]
     },
     "execution_count": 37,
     "metadata": {},
     "output_type": "execute_result"
    }
   ],
   "source": [
    "gcd(10,25)"
   ]
  },
  {
   "cell_type": "code",
   "execution_count": 49,
   "id": "d57a61d0",
   "metadata": {},
   "outputs": [
    {
     "data": {
      "text/plain": [
       "[2, 3, 5, 7, 11, 13, 17, 19, 23, 29, 31, 37, 41, 43, 47, 53, 59, 61, 67, 71]"
      ]
     },
     "execution_count": 49,
     "metadata": {},
     "output_type": "execute_result"
    }
   ],
   "source": [
    "firstprimes(20)"
   ]
  },
  {
   "cell_type": "code",
   "execution_count": 42,
   "id": "79079558",
   "metadata": {},
   "outputs": [
    {
     "data": {
      "text/plain": [
       "{1: 1, 2: 4, 4: 2}"
      ]
     },
     "execution_count": 42,
     "metadata": {},
     "output_type": "execute_result"
    }
   ],
   "source": [
    "diffprime(20)"
   ]
  },
  {
   "cell_type": "code",
   "execution_count": 43,
   "id": "3999ae67",
   "metadata": {},
   "outputs": [],
   "source": [
    "def diif1(m):\n",
    "    firstprime=2\n",
    "    pd={}\n",
    "    for i in range(3,m+1):\n",
    "        if (prime(i)):\n",
    "            d=i-firstprime\n",
    "            firstprime=i\n",
    "        if d in pd.keys():\n",
    "            pd[d]+=1\n",
    "        else:\n",
    "            pd[d]=1\n",
    "    return (pd)\n",
    "            "
   ]
  },
  {
   "cell_type": "code",
   "execution_count": 46,
   "id": "d7d5ebbf",
   "metadata": {},
   "outputs": [
    {
     "data": {
      "text/plain": [
       "{1: 2, 2: 12, 4: 4}"
      ]
     },
     "execution_count": 46,
     "metadata": {},
     "output_type": "execute_result"
    }
   ],
   "source": [
    "diif1(20)"
   ]
  },
  {
   "cell_type": "code",
   "execution_count": 47,
   "id": "ed8ec602",
   "metadata": {},
   "outputs": [],
   "source": [
    "def diffprime(n):\n",
    "    lastprime=2\n",
    "    pd={}\n",
    "    for i in range(3,n+1):\n",
    "        if prime(i):\n",
    "            d=i-lastprime\n",
    "            lastprime=i\n",
    "            if d in pd.keys():\n",
    "                pd[d]+=1\n",
    "            else:\n",
    "                pd[d]=1\n",
    "    return (pd)"
   ]
  },
  {
   "cell_type": "code",
   "execution_count": 48,
   "id": "82bb6771",
   "metadata": {},
   "outputs": [
    {
     "data": {
      "text/plain": [
       "{1: 1, 2: 4, 4: 2}"
      ]
     },
     "execution_count": 48,
     "metadata": {},
     "output_type": "execute_result"
    }
   ],
   "source": [
    "diffprime(20)"
   ]
  },
  {
   "cell_type": "code",
   "execution_count": 51,
   "id": "134dd2d8",
   "metadata": {},
   "outputs": [],
   "source": [
    "import time\n",
    "\n",
    "class TimerError(Exception):\n",
    "    \"\"\"A custom exception used to report errors in use of Timer class\"\"\"\n",
    "\n",
    "class Timer:\n",
    "    def __init__(self):\n",
    "        self._start_time = None\n",
    "        self._elapsed_time = None\n",
    "\n",
    "    def start(self):\n",
    "        \"\"\"Start a new timer\"\"\"\n",
    "        if self._start_time is not None:\n",
    "            raise TimerError(\"Timer is running. Use .stop()\")\n",
    "        self._start_time = time.perf_counter()\n",
    "\n",
    "    def stop(self):\n",
    "        \"\"\"Save the elapsed time and re-initialize timer\"\"\"\n",
    "        if self._start_time is None:\n",
    "           raise TimerError(\"Timer is not running. Use .start()\")\n",
    "        self._elapsed_time = time.perf_counter() - self._start_time\n",
    "        self._start_time = None\n",
    "\n",
    "    def elapsed(self):\n",
    "        \"\"\"Report elapsed time\"\"\"\n",
    "        if self._elapsed_time is None:\n",
    "           raise TimerError(\"Timer has not been run yet. Use .start()\")\n",
    "        return(self_elapsed_time)\n",
    "\n",
    "    def __str__(self):\n",
    "        \"\"\"print() prints elapsed time\"\"\"\n",
    "        return(str(self._elapsed_time))"
   ]
  },
  {
   "cell_type": "code",
   "execution_count": 52,
   "id": "701d6579",
   "metadata": {},
   "outputs": [
    {
     "name": "stdout",
     "output_type": "stream",
     "text": [
      "4 0.0026260999984515365\n",
      "5 0.010810600000695558\n",
      "6 0.09737630000017816\n",
      "7 0.7989046000002418\n",
      "8 8.298710999999457\n"
     ]
    }
   ],
   "source": [
    "t = Timer()\n",
    "for j in range(4,9):\n",
    "  t.start()  # Start the timer\n",
    "\n",
    "  # Run a trivial loop with 10^j iterations\n",
    "  n = 0\n",
    "  for i in range(10**j):\n",
    "    n = n+i\n",
    "  \n",
    "  t.stop()   # Stop the timer\n",
    "  print(j,t) # Report time taken for this value of j"
   ]
  },
  {
   "cell_type": "code",
   "execution_count": 57,
   "id": "24635c17",
   "metadata": {},
   "outputs": [
    {
     "data": {
      "text/plain": [
       "2"
      ]
     },
     "execution_count": 57,
     "metadata": {},
     "output_type": "execute_result"
    }
   ],
   "source": [
    "52%10"
   ]
  },
  {
   "cell_type": "code",
   "execution_count": 58,
   "id": "6a957146",
   "metadata": {},
   "outputs": [
    {
     "data": {
      "text/plain": [
       "0"
      ]
     },
     "execution_count": 58,
     "metadata": {},
     "output_type": "execute_result"
    }
   ],
   "source": [
    "2%2\n"
   ]
  },
  {
   "cell_type": "code",
   "execution_count": 55,
   "id": "e1347f09",
   "metadata": {},
   "outputs": [
    {
     "data": {
      "text/plain": [
       "0"
      ]
     },
     "execution_count": 55,
     "metadata": {},
     "output_type": "execute_result"
    }
   ],
   "source": [
    "5//10"
   ]
  },
  {
   "cell_type": "code",
   "execution_count": 59,
   "id": "9c56c1ed",
   "metadata": {},
   "outputs": [],
   "source": [
    "x=range(5)"
   ]
  },
  {
   "cell_type": "code",
   "execution_count": 60,
   "id": "1502823a",
   "metadata": {},
   "outputs": [
    {
     "name": "stdout",
     "output_type": "stream",
     "text": [
      "range(0, 5)\n"
     ]
    }
   ],
   "source": [
    "print(x)"
   ]
  },
  {
   "cell_type": "code",
   "execution_count": 62,
   "id": "a9f21d49",
   "metadata": {},
   "outputs": [],
   "source": [
    "s=0\n",
    "for i in range(5):\n",
    "    s+=i"
   ]
  },
  {
   "cell_type": "code",
   "execution_count": 64,
   "id": "03760462",
   "metadata": {},
   "outputs": [
    {
     "name": "stdout",
     "output_type": "stream",
     "text": [
      "4\n"
     ]
    }
   ],
   "source": [
    "print(i)"
   ]
  },
  {
   "cell_type": "code",
   "execution_count": 67,
   "id": "89a673ea",
   "metadata": {},
   "outputs": [
    {
     "name": "stdout",
     "output_type": "stream",
     "text": [
      "10\n"
     ]
    }
   ],
   "source": [
    "print(int(10.5))"
   ]
  },
  {
   "cell_type": "code",
   "execution_count": 69,
   "id": "2a66aca8",
   "metadata": {},
   "outputs": [
    {
     "name": "stdout",
     "output_type": "stream",
     "text": [
      "m\n"
     ]
    }
   ],
   "source": [
    "s='mohit'\n",
    "print(s[0:1])"
   ]
  },
  {
   "cell_type": "code",
   "execution_count": 70,
   "id": "6374afb6",
   "metadata": {},
   "outputs": [],
   "source": [
    "def f(s):\n",
    "    p=0\n",
    "    s.lower()\n",
    "    for i in range(len(s)):\n",
    "        if s[i] not in s[:i]:\n",
    "            p+=1\n",
    "    return p"
   ]
  },
  {
   "cell_type": "code",
   "execution_count": 75,
   "id": "8f0b8cc7",
   "metadata": {},
   "outputs": [
    {
     "data": {
      "text/plain": [
       "8"
      ]
     },
     "execution_count": 75,
     "metadata": {},
     "output_type": "execute_result"
    }
   ],
   "source": [
    "f('khushlani')"
   ]
  },
  {
   "cell_type": "code",
   "execution_count": 76,
   "id": "95365d89",
   "metadata": {},
   "outputs": [
    {
     "name": "stdout",
     "output_type": "stream",
     "text": [
      "5\n",
      "5\n"
     ]
    }
   ],
   "source": [
    "geek = input()\n",
    "print(geek)\n"
   ]
  },
  {
   "cell_type": "code",
   "execution_count": 81,
   "id": "05dc45c6",
   "metadata": {},
   "outputs": [],
   "source": [
    "def f(n):\n",
    "    s=0\n",
    "    for i in range(2,n):\n",
    "        if n%i==0 and i%2==1:\n",
    "            s+=1\n",
    "    return s\n",
    "        "
   ]
  },
  {
   "cell_type": "code",
   "execution_count": 83,
   "id": "ea5ee409",
   "metadata": {},
   "outputs": [
    {
     "data": {
      "text/plain": [
       "0"
      ]
     },
     "execution_count": 83,
     "metadata": {},
     "output_type": "execute_result"
    }
   ],
   "source": [
    "f(59)"
   ]
  },
  {
   "cell_type": "code",
   "execution_count": 80,
   "id": "883de68c",
   "metadata": {},
   "outputs": [
    {
     "name": "stdout",
     "output_type": "stream",
     "text": [
      "[2, 3, 4, 5, 6, 8, 9, 10, 11, 12, 15, 16, 18, 20, 22, 24, 25, 30, 32, 33, 36, 40, 44, 45, 48, 50, 55]\n"
     ]
    }
   ],
   "source": [
    "l=[]\n",
    "for i in range (2,60):\n",
    "    if (n%i==0):\n",
    "        l.append(i)\n",
    "print(l)"
   ]
  },
  {
   "cell_type": "code",
   "execution_count": 84,
   "id": "31182a6f",
   "metadata": {},
   "outputs": [
    {
     "data": {
      "text/plain": [
       "1"
      ]
     },
     "execution_count": 84,
     "metadata": {},
     "output_type": "execute_result"
    }
   ],
   "source": [
    "1%5"
   ]
  },
  {
   "cell_type": "code",
   "execution_count": 85,
   "id": "11d92ef3",
   "metadata": {},
   "outputs": [
    {
     "name": "stdout",
     "output_type": "stream",
     "text": [
      "1 2 3 4 "
     ]
    }
   ],
   "source": [
    "x=1\n",
    "while True:\n",
    "    if x%5==0:\n",
    "        break\n",
    "    print(x, end=' ')\n",
    "    x+=1"
   ]
  },
  {
   "cell_type": "code",
   "execution_count": 6,
   "id": "e00d18bd",
   "metadata": {},
   "outputs": [
    {
     "name": "stdout",
     "output_type": "stream",
     "text": [
      "Hello,  Good Morning\n"
     ]
    }
   ],
   "source": [
    "class person:\n",
    "    def __init__(self, name):\n",
    "        self.name=name\n",
    "    def say_hi(self):\n",
    "        print('Hello, ', self.name)\n",
    "p=person('Good Morning')\n",
    "p.say_hi()"
   ]
  },
  {
   "cell_type": "code",
   "execution_count": 88,
   "id": "2841225e",
   "metadata": {},
   "outputs": [
    {
     "name": "stdout",
     "output_type": "stream",
     "text": [
      "2\n",
      "error\n"
     ]
    }
   ],
   "source": [
    "a=[1,2,3]\n",
    "try:\n",
    "    print(a[1])\n",
    "    print(a[3])\n",
    "except:\n",
    "    print('error')"
   ]
  },
  {
   "cell_type": "code",
   "execution_count": 91,
   "id": "ea0934ff",
   "metadata": {},
   "outputs": [
    {
     "ename": "SyntaxError",
     "evalue": "invalid syntax (Temp/ipykernel_3000/4152017316.py, line 2)",
     "output_type": "error",
     "traceback": [
      "\u001b[1;36m  File \u001b[1;32m\"C:\\Users\\mkhus\\AppData\\Local\\Temp/ipykernel_3000/4152017316.py\"\u001b[1;36m, line \u001b[1;32m2\u001b[0m\n\u001b[1;33m    if(l.pop(0)==l.pop(-1): s=True\u001b[0m\n\u001b[1;37m                          ^\u001b[0m\n\u001b[1;31mSyntaxError\u001b[0m\u001b[1;31m:\u001b[0m invalid syntax\n"
     ]
    }
   ],
   "source": [
    "l=[1]\n",
    "if (l.pop(0)==l.pop(-1):\n",
    "s=True\n",
    "print(l)"
   ]
  },
  {
   "cell_type": "code",
   "execution_count": 92,
   "id": "9c39e547",
   "metadata": {},
   "outputs": [
    {
     "data": {
      "text/plain": [
       "10"
      ]
     },
     "execution_count": 92,
     "metadata": {},
     "output_type": "execute_result"
    }
   ],
   "source": [
    "130%24"
   ]
  },
  {
   "cell_type": "code",
   "execution_count": 97,
   "id": "907d35bc",
   "metadata": {},
   "outputs": [
    {
     "name": "stdout",
     "output_type": "stream",
     "text": [
      "2\n",
      "0\n"
     ]
    }
   ],
   "source": [
    "#count=0\n",
    "def gcd(m,n):\n",
    "    count=0\n",
    "    (a,b) = (max(m,n), min(m,n))\n",
    "    if a%b == 0:\n",
    "        return(b)\n",
    "    else:\n",
    "        count+=1\n",
    "        return(gcd(b,a%b))\n",
    "        \n",
    "print(gcd(24,130))\n",
    "print(count)"
   ]
  },
  {
   "cell_type": "code",
   "execution_count": 1,
   "id": "b0c24b04",
   "metadata": {},
   "outputs": [],
   "source": [
    "c=[[0 for i in range(3)] for j in range (3)]"
   ]
  },
  {
   "cell_type": "code",
   "execution_count": 2,
   "id": "03e7bacf",
   "metadata": {},
   "outputs": [
    {
     "name": "stdout",
     "output_type": "stream",
     "text": [
      "[[0, 0, 0], [0, 0, 0], [0, 0, 0]]\n"
     ]
    }
   ],
   "source": [
    "print(c)"
   ]
  },
  {
   "cell_type": "code",
   "execution_count": 3,
   "id": "1972536f",
   "metadata": {},
   "outputs": [
    {
     "data": {
      "text/plain": [
       "0"
      ]
     },
     "execution_count": 3,
     "metadata": {},
     "output_type": "execute_result"
    }
   ],
   "source": [
    "0//2"
   ]
  },
  {
   "cell_type": "code",
   "execution_count": 4,
   "id": "65a37185",
   "metadata": {},
   "outputs": [],
   "source": [
    "import itertools\n",
    "def find_Min_Difference(l,p):\n",
    "    l1=list(itertools.combinations(l, p))\n",
    "    l2=[]\n",
    "    for i in range(len(l1)):\n",
    "        l1[i]=sorted(l1[i])\n",
    "        l2.append(l1[i][p-1]-l1[i][0])\n",
    "    l2.sort()\n",
    "    return l2[0]"
   ]
  },
  {
   "cell_type": "code",
   "execution_count": 5,
   "id": "478ec4de",
   "metadata": {},
   "outputs": [],
   "source": [
    "def findLargest(arr):\n",
    "    if L[O] < L[-1]:\n",
    "        return L[-1]\n",
    "\n",
    "    M = L[O]\n",
    "    u = len(L)-1\n",
    "    l=0\n",
    "\n",
    "    while u >= l:\n",
    "        mid = (u+l)//2\n",
    "\n",
    "        if M < L[mid]:\n",
    "            M = L[mid]\n",
    "            l= mid+1\n",
    "            if L[l] < M:\n",
    "                break\n",
    "        else:\n",
    "            u = mid-1\n",
    "            if L[u] > M:\n",
    "                M = L[u]\n",
    "                break\n",
    "    return M\n"
   ]
  },
  {
   "cell_type": "code",
   "execution_count": 7,
   "id": "5901dc83",
   "metadata": {},
   "outputs": [],
   "source": [
    "def mergeInPlace(A,B):\n",
    "    a,b = len(A),len(B)\n",
    "\n",
    "    for j in range(b):\n",
    "        if B[j] < A[a-1]:\n",
    "            A.swap(a-1,B,j)\n",
    "\n",
    "            for i in range(a):\n",
    "                k=i\n",
    "                while(k > 0 and A[k] < A[k-1]):\n",
    "                    A.swap(k,A,k-1)\n",
    "                    k -= 1\n",
    "\n",
    "        for i in range(j+1):\n",
    "            k =i\n",
    "            while(k > 0 and B[k] < B[k-1]):\n",
    "                B.swap(k,B,k-1)\n",
    "                k -= 1\n"
   ]
  },
  {
   "cell_type": "code",
   "execution_count": 9,
   "id": "2c8cd492",
   "metadata": {},
   "outputs": [],
   "source": [
    "def insertionsort1(l):\n",
    "    L = [x for x in l]\n",
    "    n = len(L)\n",
    "    for i in range(n):\n",
    "        j=i\n",
    "        while(j> 0 and L[J][0] < L[j-1][0]):\n",
    "            (L[j],L[j-1])=(L[j-1],L[j])\n",
    "            j=j-1\n",
    "    return(L)\n",
    "\n",
    "\n",
    "\n",
    "def insertionsort2(l):\n",
    "    L = [x for x in l]\n",
    "    n= len(L)\n",
    "    for i in range(n):\n",
    "        j=i\n",
    "        while(j > 0):\n",
    "            if L[j][0] < L[j-1][0] or (L[j][0] == L[j-1][0] and int(L[j][1:3]) > int(L[j-1][1:3])):\n",
    "                (L[j],L[j-1])=(L[j-1],L[j])\n",
    "    return(L)\n",
    "def combinationSort(L):\n",
    "\n",
    "    L1 = insertionsort1(L)\n",
    "    L2 = insertionsort2(L)\n",
    "\n",
    " \n",
    "\n",
    "    return(L1,L2)\n"
   ]
  },
  {
   "cell_type": "code",
   "execution_count": 4,
   "id": "5e751263",
   "metadata": {},
   "outputs": [],
   "source": [
    "def prime(n):\n",
    "    for i in range (2,n):\n",
    "        if (n%i)!=0:\n",
    "            return True\n",
    "        else :\n",
    "            return False\n"
   ]
  },
  {
   "cell_type": "code",
   "execution_count": 5,
   "id": "275bf767",
   "metadata": {},
   "outputs": [],
   "source": [
    "prime(2)"
   ]
  },
  {
   "cell_type": "code",
   "execution_count": 20,
   "id": "e5a4ce25",
   "metadata": {},
   "outputs": [],
   "source": [
    "def factor(n):\n",
    "    p=[]\n",
    "    for i in range (1,n+1):\n",
    "        if(n%i==0):\n",
    "            p.append(i)\n",
    "    return(p)\n",
    "         "
   ]
  },
  {
   "cell_type": "code",
   "execution_count": 50,
   "id": "33cb7915",
   "metadata": {},
   "outputs": [
    {
     "data": {
      "text/plain": [
       "[1, 2, 3, 4, 6, 12]"
      ]
     },
     "execution_count": 50,
     "metadata": {},
     "output_type": "execute_result"
    }
   ],
   "source": [
    "factor(12)"
   ]
  },
  {
   "cell_type": "code",
   "execution_count": 27,
   "id": "3653b655",
   "metadata": {},
   "outputs": [],
   "source": [
    "def prime(m):\n",
    "    if (len(factor(m))==2):\n",
    "        return True "
   ]
  },
  {
   "cell_type": "code",
   "execution_count": 28,
   "id": "ab7a2f98",
   "metadata": {},
   "outputs": [
    {
     "data": {
      "text/plain": [
       "True"
      ]
     },
     "execution_count": 28,
     "metadata": {},
     "output_type": "execute_result"
    }
   ],
   "source": [
    "prime (5)"
   ]
  },
  {
   "cell_type": "code",
   "execution_count": 31,
   "id": "06276ba8",
   "metadata": {},
   "outputs": [],
   "source": [
    "from math import sqrt\n",
    "def prime(n):\n",
    "    if (n<2):\n",
    "        return False\n",
    "    for i in range(2,int(sqrt(n))+1):\n",
    "        if(n%i==0):\n",
    "            return False\n",
    "    return True"
   ]
  },
  {
   "cell_type": "code",
   "execution_count": 32,
   "id": "e604a57e",
   "metadata": {},
   "outputs": [
    {
     "data": {
      "text/plain": [
       "True"
      ]
     },
     "execution_count": 32,
     "metadata": {},
     "output_type": "execute_result"
    }
   ],
   "source": [
    "prime(5)"
   ]
  },
  {
   "cell_type": "code",
   "execution_count": 51,
   "id": "3dd158b4",
   "metadata": {},
   "outputs": [],
   "source": [
    "def prime_product(m):\n",
    "    l=[]\n",
    "    for i in range(2,m):\n",
    "        if (m%i==0):\n",
    "            l.append(i)\n",
    "    for i in l:\n",
    "        if (len(l)==2) and (prime(i)):\n",
    "            return True\n",
    "    return False\n",
    "            "
   ]
  },
  {
   "cell_type": "code",
   "execution_count": 52,
   "id": "af5523d8",
   "metadata": {},
   "outputs": [
    {
     "data": {
      "text/plain": [
       "False"
      ]
     },
     "execution_count": 52,
     "metadata": {},
     "output_type": "execute_result"
    }
   ],
   "source": [
    "prime_product(12)"
   ]
  },
  {
   "cell_type": "code",
   "execution_count": 55,
   "id": "bdf53abf",
   "metadata": {},
   "outputs": [
    {
     "name": "stdout",
     "output_type": "stream",
     "text": [
      "12\n",
      "False\n"
     ]
    }
   ],
   "source": [
    "from math import sqrt\n",
    "def prime(n):\n",
    "    if (n<2):\n",
    "        return False\n",
    "    for i in range(2,int(sqrt(n))+1):\n",
    "        if(n%i==0):\n",
    "            return False\n",
    "    return True\n",
    "def prime_product(m):\n",
    "    l=[]\n",
    "    for i in range(2,m):\n",
    "        if (m%i==0):\n",
    "            l.append(i)\n",
    "    for i in l:\n",
    "        if (len(l)==2) and (prime(i)):\n",
    "            return True\n",
    "    return False\n",
    "n = int(input())\n",
    "print(prime_product(n))"
   ]
  },
  {
   "cell_type": "code",
   "execution_count": 59,
   "id": "bbf550cf",
   "metadata": {},
   "outputs": [],
   "source": [
    "def del_char(s,c):\n",
    "    new=''\n",
    "    if (len(c)>1):\n",
    "        return(s)\n",
    "    for i in s:\n",
    "        if i!=c:\n",
    "            new+=i\n",
    "    return (new)\n",
    "            "
   ]
  },
  {
   "cell_type": "code",
   "execution_count": 60,
   "id": "95b75dc9",
   "metadata": {},
   "outputs": [
    {
     "data": {
      "text/plain": [
       "'mohtkhushlan'"
      ]
     },
     "execution_count": 60,
     "metadata": {},
     "output_type": "execute_result"
    }
   ],
   "source": [
    "del_char('mohitkhushlani','i')"
   ]
  },
  {
   "cell_type": "code",
   "execution_count": 67,
   "id": "0407b015",
   "metadata": {},
   "outputs": [],
   "source": [
    "def shuffle(L1,L2):\n",
    "    n1=len(L1)\n",
    "    n2=len(L2)\n",
    "    L=[0 for i in range (n1+n2)]\n",
    "    for i in range(len(L)):\n",
    "        if (i%2==0):\n",
    "            for j in L1:\n",
    "                L[i]+=j\n",
    "        else:\n",
    "            for k in L2:\n",
    "                L[i]+=k\n",
    "    return L"
   ]
  },
  {
   "cell_type": "code",
   "execution_count": 69,
   "id": "c3e743b2",
   "metadata": {},
   "outputs": [
    {
     "data": {
      "text/plain": [
       "[1, 9, 1, 9, 1]"
      ]
     },
     "execution_count": 69,
     "metadata": {},
     "output_type": "execute_result"
    }
   ],
   "source": [
    "shuffle([0,1],[1,3,5])"
   ]
  },
  {
   "cell_type": "code",
   "execution_count": 70,
   "id": "e1852742",
   "metadata": {},
   "outputs": [],
   "source": [
    "def shuffle(L1,L2):\n",
    "    n1=len(L1)\n",
    "    n2=len(L2)\n",
    "    L=[]\n",
    "    "
   ]
  },
  {
   "cell_type": "code",
   "execution_count": 96,
   "id": "25d67785",
   "metadata": {},
   "outputs": [],
   "source": [
    "def expanding(L):\n",
    "    l=[]\n",
    "    d=0\n",
    "    for i in range(len(L)-1):\n",
    "        d=L[i]-L[i+1]\n",
    "        l.append(abs(d))\n",
    "        d=0\n",
    "    if(all(l[i] < l[i + 1] for i in range(len(l)-1))):\n",
    "        return True\n",
    "    return False"
   ]
  },
  {
   "cell_type": "code",
   "execution_count": 97,
   "id": "c8a50c32",
   "metadata": {},
   "outputs": [
    {
     "data": {
      "text/plain": [
       "False"
      ]
     },
     "execution_count": 97,
     "metadata": {},
     "output_type": "execute_result"
    }
   ],
   "source": [
    "expanding([1,3,7,2,-3])"
   ]
  },
  {
   "cell_type": "code",
   "execution_count": 98,
   "id": "4164704a",
   "metadata": {},
   "outputs": [],
   "source": [
    "def sumsquare(L):\n",
    "    l=[]\n",
    "    osum=0\n",
    "    esum=0\n",
    "    for i in L:\n",
    "        if (i%2==0):\n",
    "            esum+=i*i\n",
    "        else:\n",
    "            osum+=i*i\n",
    "    return([osum,esum])\n",
    "        "
   ]
  },
  {
   "cell_type": "code",
   "execution_count": 99,
   "id": "0a1eb258",
   "metadata": {},
   "outputs": [
    {
     "data": {
      "text/plain": [
       "[35, 0]"
      ]
     },
     "execution_count": 99,
     "metadata": {},
     "output_type": "execute_result"
    }
   ],
   "source": [
    "sumsquare([1,3,5])"
   ]
  },
  {
   "cell_type": "code",
   "execution_count": 111,
   "id": "1b05b924",
   "metadata": {},
   "outputs": [],
   "source": [
    "from math import sqrt\n",
    "def prime(n):\n",
    "    if (n<2):\n",
    "        return False\n",
    "    for i in range(2,int(sqrt(n))+1):\n",
    "        if(n%i==0):\n",
    "            return False\n",
    "    return True\n",
    "def Goldbach(n):\n",
    "    l=[]\n",
    "    for i in range (3,n):\n",
    "        if (prime(i)):\n",
    "            if (prime(n-i) and (i<= n-i)):\n",
    "                l.append((i,n-i))\n",
    "                #print(l)\n",
    "    l=set(l)\n",
    "    return (list(l))"
   ]
  },
  {
   "cell_type": "code",
   "execution_count": 112,
   "id": "eac16422",
   "metadata": {},
   "outputs": [
    {
     "data": {
      "text/plain": [
       "[(3, 23), (7, 19), (13, 13)]"
      ]
     },
     "execution_count": 112,
     "metadata": {},
     "output_type": "execute_result"
    }
   ],
   "source": [
    "Goldbach(26)"
   ]
  },
  {
   "cell_type": "code",
   "execution_count": 127,
   "id": "c3376ca7",
   "metadata": {},
   "outputs": [],
   "source": [
    "def odd_one(L):\n",
    "    t=[]\n",
    "    if (type(L[0])==type(L[1])):\n",
    "        for i in range (1,len(L)-1):\n",
    "\n",
    "            if (type(L[i])!=type(L[i+1])):\n",
    "\n",
    "                return ((type(L[i+1])))\n",
    "    else:\n",
    "        return (type(L[0]))\n",
    "            \n",
    "        "
   ]
  },
  {
   "cell_type": "code",
   "execution_count": 135,
   "id": "098fa60f",
   "metadata": {},
   "outputs": [
    {
     "data": {
      "text/plain": [
       "float"
      ]
     },
     "execution_count": 135,
     "metadata": {},
     "output_type": "execute_result"
    }
   ],
   "source": [
    "odd_one([1.5,True,False,False,True,True])"
   ]
  },
  {
   "cell_type": "code",
   "execution_count": 9,
   "id": "d5526be9",
   "metadata": {},
   "outputs": [
    {
     "ename": "SyntaxError",
     "evalue": "invalid syntax (Temp/ipykernel_19628/154550275.py, line 6)",
     "output_type": "error",
     "traceback": [
      "\u001b[1;36m  File \u001b[1;32m\"C:\\Users\\mkhus\\AppData\\Local\\Temp/ipykernel_19628/154550275.py\"\u001b[1;36m, line \u001b[1;32m6\u001b[0m\n\u001b[1;33m    l.append('m')\u001b[0m\n\u001b[1;37m    ^\u001b[0m\n\u001b[1;31mSyntaxError\u001b[0m\u001b[1;31m:\u001b[0m invalid syntax\n"
     ]
    }
   ],
   "source": [
    "\n",
    "n=int(input())\n",
    "l=[]\n",
    "for i in range (n):\n",
    "    s=input('insert the name ')\n",
    "    rn=int(input('insert the roll com ')\n",
    "    l.append('m')\n",
    "print(l)"
   ]
  },
  {
   "cell_type": "code",
   "execution_count": 6,
   "id": "e269bebd",
   "metadata": {},
   "outputs": [
    {
     "name": "stdout",
     "output_type": "stream",
     "text": [
      "['m']\n"
     ]
    }
   ],
   "source": [
    "l=[]\n",
    "l.append('m')\n",
    "print(l)"
   ]
  },
  {
   "cell_type": "code",
   "execution_count": 12,
   "id": "b39e0422",
   "metadata": {
    "scrolled": true
   },
   "outputs": [
    {
     "name": "stdout",
     "output_type": "stream",
     "text": [
      "2\n",
      "mo\n",
      "1\n",
      "hit\n",
      "2\n",
      "1\n",
      "[('mo', 1), ('hit', 2)]\n"
     ]
    }
   ],
   "source": [
    "n=int(input())\n",
    "l=[]\n",
    "for i in range (n):\n",
    "    s=input()\n",
    "    rn=int(input())\n",
    "    l.append((s,rn))\n",
    "mn=l[0][1]\n",
    "for i in range (len(l)):\n",
    "    for j in range(i,len(l)):\n",
    "        if (l[i][1]<):\n",
    "            mn=l[i][1]\n",
    "print(mn)\n",
    "print(l)"
   ]
  },
  {
   "cell_type": "code",
   "execution_count": 11,
   "id": "bd0bc2cb",
   "metadata": {},
   "outputs": [],
   "source": [
    "def sortTuples(students):\n",
    "    n=len(students)\n",
    "    students=[]\n",
    "    \n",
    "    #print(l)\n",
    "    for i in range (n):\n",
    "        m=i\n",
    "        for j in range (i+1,n):\n",
    "            if(l[j][1]<l[m][1]):\n",
    "                m=j\n",
    "        (l[i],l[m])=(l[m],l[i])\n",
    "\n",
    "    for i in range (len(l)):\n",
    "        l[i]=tuple(l[i])\n",
    "    #print(l)\n",
    "    return students\n",
    "\n",
    "        \n",
    "        \n"
   ]
  },
  {
   "cell_type": "code",
   "execution_count": 12,
   "id": "ffc7d7c3",
   "metadata": {},
   "outputs": [
    {
     "data": {
      "text/plain": [
       "[]"
      ]
     },
     "execution_count": 12,
     "metadata": {},
     "output_type": "execute_result"
    }
   ],
   "source": [
    "sortTuples([('m',4),('o',3)])"
   ]
  },
  {
   "cell_type": "code",
   "execution_count": 17,
   "id": "b59b90e1",
   "metadata": {},
   "outputs": [
    {
     "name": "stdout",
     "output_type": "stream",
     "text": [
      "[[1, 1], [2, 2], [3, 4]]\n"
     ]
    }
   ],
   "source": [
    "l=[(1,1),(2,2),(3,4)]\n",
    "for i in range (len(l)):\n",
    "    l[i]=list(l[i])\n",
    "print(l)\n"
   ]
  },
  {
   "cell_type": "code",
   "execution_count": 22,
   "id": "fa7263d2",
   "metadata": {},
   "outputs": [],
   "source": [
    "def sortTuples(students):\n",
    "    n=len(students)\n",
    "    for i in range (n):\n",
    "        students[i]=list(students[i])\n",
    "    for i in range(n):\n",
    "        m=i\n",
    "        for j in range(i+1,n):\n",
    "            if(students[j][1]<students[m][1]):\n",
    "                m=j\n",
    "        (students[i],students[m])=(students[m],students[i])\n",
    "        \n",
    "    for i in range (n):\n",
    "        students[i]=tuple(students[i])\n",
    "    return students\n",
    "\n",
    "            "
   ]
  },
  {
   "cell_type": "code",
   "execution_count": 23,
   "id": "8e7e3c75",
   "metadata": {},
   "outputs": [
    {
     "data": {
      "text/plain": [
       "[('o', 3), ('m', 11)]"
      ]
     },
     "execution_count": 23,
     "metadata": {},
     "output_type": "execute_result"
    }
   ],
   "source": [
    "sortTuples([('m',11),('o',3)])"
   ]
  },
  {
   "cell_type": "code",
   "execution_count": 27,
   "id": "96694f74",
   "metadata": {},
   "outputs": [
    {
     "data": {
      "text/plain": [
       "55.0"
      ]
     },
     "execution_count": 27,
     "metadata": {},
     "output_type": "execute_result"
    }
   ],
   "source": [
    "220/4\n"
   ]
  },
  {
   "cell_type": "code",
   "execution_count": 7,
   "id": "c8144aa2",
   "metadata": {},
   "outputs": [
    {
     "name": "stdout",
     "output_type": "stream",
     "text": [
      "1234\n",
      "[1234]\n"
     ]
    }
   ],
   "source": []
  },
  {
   "cell_type": "code",
   "execution_count": 8,
   "id": "95b10deb",
   "metadata": {},
   "outputs": [],
   "source": [
    "def findIntersection(l1,l2):\n",
    "    l=[]\n",
    "    for i in l1:\n",
    "        if i in l2:\n",
    "            l.append(i)\n",
    "    return l"
   ]
  },
  {
   "cell_type": "code",
   "execution_count": 9,
   "id": "36830a6f",
   "metadata": {},
   "outputs": [
    {
     "data": {
      "text/plain": [
       "[2, 3]"
      ]
     },
     "execution_count": 9,
     "metadata": {},
     "output_type": "execute_result"
    }
   ],
   "source": [
    "findIntersection([1,2,3],[2,3,5,6])"
   ]
  },
  {
   "cell_type": "code",
   "execution_count": 10,
   "id": "75774ea2",
   "metadata": {},
   "outputs": [],
   "source": [
    "def subordinates(l):\n",
    "    count=0\n",
    "    sortedl=[]\n",
    "    tl=[]\n",
    "    n=len(l)\n",
    "    while n>1:\n",
    "        for i in range(n//2):\n",
    "            tl.append(())\n",
    "        n=n//2\n",
    "        "
   ]
  },
  {
   "cell_type": "code",
   "execution_count": 11,
   "id": "2ce2cd3b",
   "metadata": {},
   "outputs": [
    {
     "data": {
      "text/plain": [
       "2"
      ]
     },
     "execution_count": 11,
     "metadata": {},
     "output_type": "execute_result"
    }
   ],
   "source": [
    "5//2"
   ]
  },
  {
   "cell_type": "code",
   "execution_count": 12,
   "id": "55d2cd00",
   "metadata": {},
   "outputs": [],
   "source": [
    "def findPair(l,s):\n",
    "    l.sort()\n",
    "    l1=[]\n",
    "    for i in l:\n",
    "        for j in l:\n",
    "            l1.append(i+j)\n",
    "    if (s in l1):\n",
    "        return True\n",
    "    else :\n",
    "        return False"
   ]
  },
  {
   "cell_type": "code",
   "execution_count": 13,
   "id": "8d693732",
   "metadata": {},
   "outputs": [
    {
     "data": {
      "text/plain": [
       "True"
      ]
     },
     "execution_count": 13,
     "metadata": {},
     "output_type": "execute_result"
    }
   ],
   "source": [
    "findPair([1,2,3,4,5],3)"
   ]
  },
  {
   "cell_type": "code",
   "execution_count": 15,
   "id": "6aaaf806",
   "metadata": {},
   "outputs": [
    {
     "data": {
      "text/plain": [
       "[1, 22, 3, 22, 4]"
      ]
     },
     "execution_count": 15,
     "metadata": {},
     "output_type": "execute_result"
    }
   ],
   "source": [
    "[1,22]+[3,22,4]"
   ]
  },
  {
   "cell_type": "code",
   "execution_count": 16,
   "id": "4198c2be",
   "metadata": {},
   "outputs": [],
   "source": [
    "def listUnion(l1,l2):\n",
    "    s1=set(l1)\n",
    "    s2=set(l2)\n",
    "    u=s1.union(s2)\n",
    "    l=list(u)\n",
    "    l.sort()\n",
    "    return (l)"
   ]
  },
  {
   "cell_type": "code",
   "execution_count": 23,
   "id": "b766ec3b",
   "metadata": {},
   "outputs": [],
   "source": [
    "def listUnion(l1,l2):\n",
    "    cl=[]\n",
    "    for i in l1:\n",
    "        if i in l2:\n",
    "            cl.append(i)\n",
    "    l=l1+l2\n",
    "    for i in cl:\n",
    "        l.remove(i)\n",
    "    l.sort()\n",
    "    return (l)"
   ]
  },
  {
   "cell_type": "code",
   "execution_count": 24,
   "id": "d3cd6b2c",
   "metadata": {},
   "outputs": [
    {
     "data": {
      "text/plain": [
       "[1, 2, 3, 4, 5, 6]"
      ]
     },
     "execution_count": 24,
     "metadata": {},
     "output_type": "execute_result"
    }
   ],
   "source": [
    "listUnion([1,2,3],[4,5,6,2,1])"
   ]
  },
  {
   "cell_type": "code",
   "execution_count": 22,
   "id": "eb62d57e",
   "metadata": {},
   "outputs": [
    {
     "ename": "TypeError",
     "evalue": "unsupported operand type(s) for -: 'list' and 'list'",
     "output_type": "error",
     "traceback": [
      "\u001b[1;31m---------------------------------------------------------------------------\u001b[0m",
      "\u001b[1;31mTypeError\u001b[0m                                 Traceback (most recent call last)",
      "\u001b[1;32m~\\AppData\\Local\\Temp/ipykernel_21452/1637427397.py\u001b[0m in \u001b[0;36m<module>\u001b[1;34m\u001b[0m\n\u001b[1;32m----> 1\u001b[1;33m \u001b[1;33m[\u001b[0m\u001b[1;36m2\u001b[0m\u001b[1;33m]\u001b[0m\u001b[1;33m-\u001b[0m\u001b[1;33m[\u001b[0m\u001b[1;36m2\u001b[0m\u001b[1;33m]\u001b[0m\u001b[1;33m\u001b[0m\u001b[1;33m\u001b[0m\u001b[0m\n\u001b[0m",
      "\u001b[1;31mTypeError\u001b[0m: unsupported operand type(s) for -: 'list' and 'list'"
     ]
    }
   ],
   "source": [
    "[2]-[2]"
   ]
  },
  {
   "cell_type": "code",
   "execution_count": 36,
   "id": "e73dd40a",
   "metadata": {},
   "outputs": [
    {
     "name": "stdout",
     "output_type": "stream",
     "text": [
      "2\n",
      "1 2 3\n",
      "4 5 6\n",
      "[4, 5, 6]\n"
     ]
    }
   ],
   "source": [
    "t=int(input())\n",
    "for i in range(t):\n",
    "    l=list(map(int,input().split()))\n",
    "    "
   ]
  },
  {
   "cell_type": "code",
   "execution_count": 33,
   "id": "ed58eb8a",
   "metadata": {},
   "outputs": [
    {
     "name": "stdout",
     "output_type": "stream",
     "text": [
      "1 2 3 4\n",
      "[1, 2, 3, 4]\n"
     ]
    }
   ],
   "source": [
    "a=[int(x) for x in input().split(' ')]\n",
    "print(a)"
   ]
  },
  {
   "cell_type": "code",
   "execution_count": 35,
   "id": "affc8b9d",
   "metadata": {},
   "outputs": [
    {
     "name": "stdout",
     "output_type": "stream",
     "text": [
      "1 2 3 4\n",
      "[1, 2, 3, 4]\n"
     ]
    }
   ],
   "source": [
    "a=list(map(int,input().split()))\n",
    "print(a)"
   ]
  },
  {
   "cell_type": "code",
   "execution_count": 4,
   "id": "d9c293d8",
   "metadata": {},
   "outputs": [
    {
     "data": {
      "text/plain": [
       "'ohit'"
      ]
     },
     "execution_count": 4,
     "metadata": {},
     "output_type": "execute_result"
    }
   ],
   "source": [
    "'mohit'.lstrip('m ')"
   ]
  },
  {
   "cell_type": "code",
   "execution_count": 5,
   "id": "79ebb191",
   "metadata": {},
   "outputs": [],
   "source": [
    "p=[]"
   ]
  },
  {
   "cell_type": "code",
   "execution_count": 12,
   "id": "d953dbea",
   "metadata": {
    "scrolled": true
   },
   "outputs": [
    {
     "name": "stdout",
     "output_type": "stream",
     "text": [
      "2\n",
      "2\n",
      "2003\n",
      "['    2', ' 2', ' 2003']\n"
     ]
    }
   ],
   "source": [
    "p=['    2',' 2',' 2003']\n",
    "for i in p:\n",
    "    #print(i)\n",
    "    i=i.strip()\n",
    "    print(i)\n",
    "    \n",
    "print(p)"
   ]
  },
  {
   "cell_type": "code",
   "execution_count": 1,
   "id": "1596e651",
   "metadata": {},
   "outputs": [
    {
     "data": {
      "text/plain": [
       "['2', '2', '2003']"
      ]
     },
     "execution_count": 1,
     "metadata": {},
     "output_type": "execute_result"
    }
   ],
   "source": [
    "['2', '2', '2003']"
   ]
  },
  {
   "cell_type": "code",
   "execution_count": 6,
   "id": "070429d3",
   "metadata": {},
   "outputs": [
    {
     "name": "stdout",
     "output_type": "stream",
     "text": [
      "3\n",
      "[[], [], []]\n"
     ]
    }
   ],
   "source": [
    "n=int(input())\n",
    "g=[]\n",
    "for _ in range(n):\n",
    "    g.append(list([]))\n",
    "print(g)"
   ]
  },
  {
   "cell_type": "code",
   "execution_count": null,
   "id": "651808b9",
   "metadata": {},
   "outputs": [],
   "source": [
    "for i in range(0,1000000000):\n",
    "    if(i*i-i-180==0\n",
    "        print(n)\n",
    "        break"
   ]
  },
  {
   "cell_type": "code",
   "execution_count": 7,
   "id": "38c9f992",
   "metadata": {},
   "outputs": [
    {
     "data": {
      "text/plain": [
       "2"
      ]
     },
     "execution_count": 7,
     "metadata": {},
     "output_type": "execute_result"
    }
   ],
   "source": [
    "145%11\n"
   ]
  },
  {
   "cell_type": "code",
   "execution_count": 14,
   "id": "7023b8e6",
   "metadata": {},
   "outputs": [],
   "source": [
    "def binarysearchaAndComparisons(l,k):\n",
    "    left=0\n",
    "    right=len(l)-1\n",
    "    count=0\n",
    "    mid=(left+right)//2\n",
    "    if(len(l)>=1)\n",
    "\n",
    "        if (l[mid]==k):\n",
    "            count+=1\n",
    "            return (True,count)\n",
    "        elif:\n",
    "    \n",
    "            if (l[mid]>k):\n",
    "                count+=1\n",
    "                return binarysearchaAndComparisons(l[0:mid-1],count)\n",
    "            else:\n",
    "                count+=1\n",
    "                return binarysearchaAndComparisons(l[mid:],count)\n",
    "                \n",
    "        "
   ]
  },
  {
   "cell_type": "code",
   "execution_count": 15,
   "id": "8e00d5c0",
   "metadata": {},
   "outputs": [],
   "source": [
    "binarysearchaAndComparisons([1,2,3,4,5],7)"
   ]
  },
  {
   "cell_type": "code",
   "execution_count": 3,
   "id": "42e65f3e",
   "metadata": {},
   "outputs": [
    {
     "name": "stdout",
     "output_type": "stream",
     "text": [
      "[2, 3]\n"
     ]
    }
   ],
   "source": [
    "l=[1,2,3,4,5]\n",
    "print(l[1:3])"
   ]
  },
  {
   "cell_type": "code",
   "execution_count": 27,
   "id": "8170699b",
   "metadata": {},
   "outputs": [
    {
     "ename": "KeyboardInterrupt",
     "evalue": "Interrupted by user",
     "output_type": "error",
     "traceback": [
      "\u001b[1;31m---------------------------------------------------------------------------\u001b[0m",
      "\u001b[1;31mKeyboardInterrupt\u001b[0m                         Traceback (most recent call last)",
      "\u001b[1;32m~\\AppData\\Local\\Temp/ipykernel_23280/529084872.py\u001b[0m in \u001b[0;36m<module>\u001b[1;34m\u001b[0m\n\u001b[0;32m     16\u001b[0m             \u001b[0mleft\u001b[0m \u001b[1;33m=\u001b[0m \u001b[0mmid\u001b[0m \u001b[1;33m+\u001b[0m \u001b[1;36m1\u001b[0m\u001b[1;33m\u001b[0m\u001b[1;33m\u001b[0m\u001b[0m\n\u001b[0;32m     17\u001b[0m     \u001b[1;32mreturn\u001b[0m\u001b[1;33m(\u001b[0m\u001b[1;32mFalse\u001b[0m\u001b[1;33m,\u001b[0m \u001b[0mc\u001b[0m\u001b[1;33m)\u001b[0m\u001b[1;33m\u001b[0m\u001b[1;33m\u001b[0m\u001b[0m\n\u001b[1;32m---> 18\u001b[1;33m \u001b[0mL\u001b[0m \u001b[1;33m=\u001b[0m \u001b[1;33m[\u001b[0m\u001b[0mint\u001b[0m\u001b[1;33m(\u001b[0m\u001b[0mitem\u001b[0m\u001b[1;33m)\u001b[0m \u001b[1;32mfor\u001b[0m \u001b[0mitem\u001b[0m \u001b[1;32min\u001b[0m \u001b[0minput\u001b[0m\u001b[1;33m(\u001b[0m\u001b[1;33m)\u001b[0m\u001b[1;33m.\u001b[0m\u001b[0msplit\u001b[0m\u001b[1;33m(\u001b[0m\u001b[1;34m\", \"\u001b[0m\u001b[1;33m)\u001b[0m\u001b[1;33m]\u001b[0m\u001b[1;33m\u001b[0m\u001b[1;33m\u001b[0m\u001b[0m\n\u001b[0m\u001b[0;32m     19\u001b[0m \u001b[0mk\u001b[0m \u001b[1;33m=\u001b[0m \u001b[0mint\u001b[0m\u001b[1;33m(\u001b[0m\u001b[0minput\u001b[0m\u001b[1;33m(\u001b[0m\u001b[1;33m)\u001b[0m\u001b[1;33m)\u001b[0m\u001b[1;33m\u001b[0m\u001b[1;33m\u001b[0m\u001b[0m\n\u001b[0;32m     20\u001b[0m \u001b[0mfound\u001b[0m\u001b[1;33m,\u001b[0m \u001b[0mcomparisions\u001b[0m \u001b[1;33m=\u001b[0m \u001b[0mbinarySearchIndexAndComparisons\u001b[0m\u001b[1;33m(\u001b[0m\u001b[0mL\u001b[0m\u001b[1;33m,\u001b[0m\u001b[0mk\u001b[0m\u001b[1;33m)\u001b[0m\u001b[1;33m\u001b[0m\u001b[1;33m\u001b[0m\u001b[0m\n",
      "\u001b[1;32m~\\anaconda3\\lib\\site-packages\\ipykernel\\kernelbase.py\u001b[0m in \u001b[0;36mraw_input\u001b[1;34m(self, prompt)\u001b[0m\n\u001b[0;32m   1004\u001b[0m                 \u001b[1;34m\"raw_input was called, but this frontend does not support input requests.\"\u001b[0m\u001b[1;33m\u001b[0m\u001b[1;33m\u001b[0m\u001b[0m\n\u001b[0;32m   1005\u001b[0m             )\n\u001b[1;32m-> 1006\u001b[1;33m         return self._input_request(\n\u001b[0m\u001b[0;32m   1007\u001b[0m             \u001b[0mstr\u001b[0m\u001b[1;33m(\u001b[0m\u001b[0mprompt\u001b[0m\u001b[1;33m)\u001b[0m\u001b[1;33m,\u001b[0m\u001b[1;33m\u001b[0m\u001b[1;33m\u001b[0m\u001b[0m\n\u001b[0;32m   1008\u001b[0m             \u001b[0mself\u001b[0m\u001b[1;33m.\u001b[0m\u001b[0m_parent_ident\u001b[0m\u001b[1;33m[\u001b[0m\u001b[1;34m\"shell\"\u001b[0m\u001b[1;33m]\u001b[0m\u001b[1;33m,\u001b[0m\u001b[1;33m\u001b[0m\u001b[1;33m\u001b[0m\u001b[0m\n",
      "\u001b[1;32m~\\anaconda3\\lib\\site-packages\\ipykernel\\kernelbase.py\u001b[0m in \u001b[0;36m_input_request\u001b[1;34m(self, prompt, ident, parent, password)\u001b[0m\n\u001b[0;32m   1049\u001b[0m             \u001b[1;32mexcept\u001b[0m \u001b[0mKeyboardInterrupt\u001b[0m\u001b[1;33m:\u001b[0m\u001b[1;33m\u001b[0m\u001b[1;33m\u001b[0m\u001b[0m\n\u001b[0;32m   1050\u001b[0m                 \u001b[1;31m# re-raise KeyboardInterrupt, to truncate traceback\u001b[0m\u001b[1;33m\u001b[0m\u001b[1;33m\u001b[0m\u001b[0m\n\u001b[1;32m-> 1051\u001b[1;33m                 \u001b[1;32mraise\u001b[0m \u001b[0mKeyboardInterrupt\u001b[0m\u001b[1;33m(\u001b[0m\u001b[1;34m\"Interrupted by user\"\u001b[0m\u001b[1;33m)\u001b[0m \u001b[1;32mfrom\u001b[0m \u001b[1;32mNone\u001b[0m\u001b[1;33m\u001b[0m\u001b[1;33m\u001b[0m\u001b[0m\n\u001b[0m\u001b[0;32m   1052\u001b[0m             \u001b[1;32mexcept\u001b[0m \u001b[0mException\u001b[0m\u001b[1;33m:\u001b[0m\u001b[1;33m\u001b[0m\u001b[1;33m\u001b[0m\u001b[0m\n\u001b[0;32m   1053\u001b[0m                 \u001b[0mself\u001b[0m\u001b[1;33m.\u001b[0m\u001b[0mlog\u001b[0m\u001b[1;33m.\u001b[0m\u001b[0mwarning\u001b[0m\u001b[1;33m(\u001b[0m\u001b[1;34m\"Invalid Message:\"\u001b[0m\u001b[1;33m,\u001b[0m \u001b[0mexc_info\u001b[0m\u001b[1;33m=\u001b[0m\u001b[1;32mTrue\u001b[0m\u001b[1;33m)\u001b[0m\u001b[1;33m\u001b[0m\u001b[1;33m\u001b[0m\u001b[0m\n",
      "\u001b[1;31mKeyboardInterrupt\u001b[0m: Interrupted by user"
     ]
    }
   ],
   "source": [
    "def binarySearchIndexAndComparisons(L, k):\n",
    "    s = len(L)\n",
    "    if(s < 1):\n",
    "        return (False, 0)\n",
    "    left = 0\n",
    "    right = s - 1\n",
    "    c = 0\n",
    "    while(left <= right):\n",
    "        mid = (left + right)//2\n",
    "        c += 1\n",
    "        if (k == L[mid]):\n",
    "            return (True,c)\n",
    "        elif (k < L[mid]):\n",
    "            right = mid - 1\n",
    "        else:\n",
    "            left = mid + 1\n",
    "    return(False, c)\n",
    "L = [int(item) for item in input().split(\", \")]\n",
    "k = int(input())\n",
    "found, comparisions = binarySearchIndexAndComparisons(L,k)\n",
    "print (found, comparisions)"
   ]
  },
  {
   "cell_type": "code",
   "execution_count": 24,
   "id": "8640e180",
   "metadata": {},
   "outputs": [],
   "source": [
    "2, 6, 8, 11, 17, 23, 33, 44, 46, 50, 65\n",
    "11"
   ]
  },
  {
   "cell_type": "code",
   "execution_count": null,
   "id": "839a879a",
   "metadata": {},
   "outputs": [],
   "source": [
    "lis=[]\n",
    "t=int(input())\n",
    "while t>0:\n",
    "    n=int(input())\n",
    "    lis.append(n)\n",
    "    t-=1\n",
    "lis.sort()\n",
    "for i in range(0,len(lis)):\n",
    "    print(lis[i])"
   ]
  },
  {
   "cell_type": "code",
   "execution_count": 39,
   "id": "8a871e86",
   "metadata": {},
   "outputs": [
    {
     "name": "stdout",
     "output_type": "stream",
     "text": [
      "2\n",
      "2 5 2\n",
      "NO\n",
      "[7, 4, 7]\n",
      "1 2 3\n",
      "YES\n",
      "[3, 4, 5]\n"
     ]
    }
   ],
   "source": [
    "n=int(input())\n",
    "for i in range(n):\n",
    "    l=[int(k) for k in input().split(' ')]\n",
    "    L=[]\n",
    "    #for i in range (len(l)):\n",
    "    L.append(l[0]+l[1])\n",
    "    L.append(l[0]+l[2])\n",
    "    L.append(l[1]+l[2])\n",
    "    #for i in range (len(L)-1):\n",
    "    for i in L:\n",
    "        \n",
    "        if(i in l):\n",
    "            print('YES')\n",
    "            break\n",
    "        else:\n",
    "            print('NO')\n",
    "            break\n",
    "        \n"
   ]
  },
  {
   "cell_type": "markdown",
   "id": "895314e3",
   "metadata": {},
   "source": [
    "T = int(input())\n",
    "for tc in range(T):\n",
    "    A, B, C = map(int, input().split(' '))\n",
    "    if (A + B == C or A + C == B or B + C == A):\n",
    "        print(\"YES\")\n",
    "    else:\n",
    "        print(\"NO\")"
   ]
  },
  {
   "cell_type": "code",
   "execution_count": 33,
   "id": "e32f216c",
   "metadata": {},
   "outputs": [
    {
     "name": "stdout",
     "output_type": "stream",
     "text": [
      "2\n",
      "2 5 2\n",
      "NO\n",
      "1 2 3\n",
      "YES\n"
     ]
    }
   ],
   "source": [
    "T = int(input())\n",
    "for tc in range(T):\n",
    "    A, B, C = map(int, input().split(' '))\n",
    "    if (A + B == C or A + C == B or B + C == A):\n",
    "        print(\"YES\")\n",
    "    else:\n",
    "        print(\"NO\")"
   ]
  },
  {
   "cell_type": "code",
   "execution_count": 41,
   "id": "f177acb7",
   "metadata": {},
   "outputs": [],
   "source": [
    "r=3\n",
    "countDict = dict.fromkeys(range(r), 0)"
   ]
  },
  {
   "cell_type": "code",
   "execution_count": 42,
   "id": "4eab086a",
   "metadata": {},
   "outputs": [
    {
     "name": "stdout",
     "output_type": "stream",
     "text": [
      "{0: 0, 1: 0, 2: 0}\n"
     ]
    }
   ],
   "source": [
    "print(countDict)"
   ]
  },
  {
   "cell_type": "code",
   "execution_count": 43,
   "id": "70a6b35a",
   "metadata": {},
   "outputs": [],
   "source": [
    "def sortInRange(L, r):\n",
    "# Create a dictionary with r keys for each integer in range r, initialize every value to 0\n",
    "    \n",
    "    countDict = dict.fromkeys(range(r), 0)\n",
    "    \n",
    "    # Iterate over the array and count each integer in the list\n",
    "    \n",
    "    for num in L:\n",
    "        countDict[num] += 1\n",
    "    index=0\n",
    "    for key in countDict.keys():\n",
    "        for i in range(countDict[key]):\n",
    "            L[index] = key\n",
    "            index += 1"
   ]
  },
  {
   "cell_type": "code",
   "execution_count": 44,
   "id": "59f30348",
   "metadata": {},
   "outputs": [
    {
     "ename": "SyntaxError",
     "evalue": "invalid syntax (Temp/ipykernel_23280/233465183.py, line 5)",
     "output_type": "error",
     "traceback": [
      "\u001b[1;36m  File \u001b[1;32m\"C:\\Users\\mkhus\\AppData\\Local\\Temp/ipykernel_23280/233465183.py\"\u001b[1;36m, line \u001b[1;32m5\u001b[0m\n\u001b[1;33m    for\u001b[0m\n\u001b[1;37m        ^\u001b[0m\n\u001b[1;31mSyntaxError\u001b[0m\u001b[1;31m:\u001b[0m invalid syntax\n"
     ]
    }
   ],
   "source": [
    "def sort1(l):\n",
    "    L=[x for x in l]\n",
    "    l1=[]\n",
    "    for i in L:\n",
    "        for \n",
    "        \n",
    "        \n",
    "        "
   ]
  },
  {
   "cell_type": "code",
   "execution_count": 48,
   "id": "e39123bf",
   "metadata": {},
   "outputs": [],
   "source": [
    "def insertionsort1(l):\n",
    "    L = [x for x in l]\n",
    "    n = len(L)\n",
    "    for i in range(n):\n",
    "        j=i\n",
    "        print(j)\n",
    "        while(j> 0 and L[j][0] < L[j-1][0]):\n",
    "            (L[j],L[j-1])=(L[j-1],L[j])\n",
    "            j=j-1\n",
    "            \n",
    "    return(L)\n"
   ]
  },
  {
   "cell_type": "code",
   "execution_count": 49,
   "id": "d1410b88",
   "metadata": {},
   "outputs": [
    {
     "name": "stdout",
     "output_type": "stream",
     "text": [
      "0\n",
      "1\n",
      "2\n",
      "3\n",
      "4\n"
     ]
    },
    {
     "data": {
      "text/plain": [
       "['a67', 'b88', 'd55', 'e4', 'f33']"
      ]
     },
     "execution_count": 49,
     "metadata": {},
     "output_type": "execute_result"
    }
   ],
   "source": [
    "insertionsort1(['f33','e4','d55','a67','b88'])"
   ]
  },
  {
   "cell_type": "code",
   "execution_count": 53,
   "id": "cbd3b649",
   "metadata": {},
   "outputs": [
    {
     "name": "stdout",
     "output_type": "stream",
     "text": [
      "['b67', 'b8', 'd55', 'e4', 'f33']\n"
     ]
    }
   ],
   "source": [
    "b=(['f33','e4','d55','b67','b8'])\n",
    "b.sort()\n",
    "print(b)"
   ]
  },
  {
   "cell_type": "code",
   "execution_count": 54,
   "id": "63fb311a",
   "metadata": {},
   "outputs": [],
   "source": [
    "#python\n",
    "import string\n",
    "def combinationSort(strList):\n",
    "  # Create a dictionary with 26 keys from characters 'a' to 'z', each key has an empty list as value.\n",
    "  groups = {k: [] for k in string.ascii_lowercase}\n",
    "\n",
    "  # Using this dictionary to group strings with same initial character.  \n",
    "  for i in range(len(strList)):\n",
    "    char=strList[i][0]\n",
    "    groups[char].append(strList[i])\n",
    "  \n",
    "  strList=[]\n",
    "  # Recreate the list from all the strings in groups, iterating on groups from a to z.\n",
    "  for char in groups.keys():\n",
    "    for s in groups[char]:\n",
    "      strList.append(s)\n",
    "  \n",
    "  L1 = strList.copy() # Saving intermediate result to return later.\n",
    "  i = 1\n",
    "  left = 0\n",
    "  # As there can be no more than 100 strings with same initial character.\n",
    "  # Using insertion sort within group.\n",
    "  while i<len(strList):\n",
    "    right = i\n",
    "    while(right>left and strList[right][0] == strList[right-1][0] and int(strList[right-1][1:])<int(strList[right][1:])):\n",
    "      strList[right], strList[right-1] = strList[right-1], strList[right]\n",
    "      right -= 1\n",
    "    i += 1\n",
    "  \n",
    "  return L1, strList"
   ]
  },
  {
   "cell_type": "code",
   "execution_count": 59,
   "id": "d1a0a670",
   "metadata": {},
   "outputs": [
    {
     "name": "stdout",
     "output_type": "stream",
     "text": [
      "[2, 4, 5, 7, 8]\n",
      "8\n"
     ]
    }
   ],
   "source": [
    "l=[7,8,2,4,5]\n",
    "\n",
    "#1st step h ki last or 1st elemnt ko compare karna h nd karte jana h \n",
    "#fr har element ka index ekk ekk kam karte jana h \n",
    "#then fr check karna h 1t and last element\n",
    "#jab 1st lement last element se chota ho jae tab rukna h nd list ka last element print karna h \n",
    "first=l[0]\n",
    "last=l[-1]\n",
    "while (first>last):\n",
    "    \n",
    "    for i in range (0,len(l)-1):\n",
    "        l[i]=l[i+1]\n",
    "    l[-1]=first\n",
    "    first=l[0]\n",
    "    last=l[-1]\n",
    "        \n",
    "print(l)\n",
    "print(l[-1])\n"
   ]
  },
  {
   "cell_type": "code",
   "execution_count": 1,
   "id": "da7d33ea",
   "metadata": {},
   "outputs": [
    {
     "ename": "IndentationError",
     "evalue": "expected an indented block (Temp/ipykernel_11860/435009323.py, line 14)",
     "output_type": "error",
     "traceback": [
      "\u001b[1;36m  File \u001b[1;32m\"C:\\Users\\mkhus\\AppData\\Local\\Temp/ipykernel_11860/435009323.py\"\u001b[1;36m, line \u001b[1;32m14\u001b[0m\n\u001b[1;33m    if(component[i] == c):\u001b[0m\n\u001b[1;37m    ^\u001b[0m\n\u001b[1;31mIndentationError\u001b[0m\u001b[1;31m:\u001b[0m expected an indented block\n"
     ]
    }
   ],
   "source": [
    "def FiberLink(distance_map):\n",
    "    (edges, component, t, l, s) = (list(), dict(), list(), list(distance_map.keys()), 0)\n",
    "    for u in l:\n",
    "        edges.extend((d,u,v) for (v,d) in distance_map[u])\n",
    "        component[u] = u\n",
    "    edges.sort()\n",
    "    \n",
    "    for [d,u,v] in edges:\n",
    "        if(component[u] != component[v]):\n",
    "            t.append((u,v))\n",
    "            c = component[u]\n",
    "            s += d\n",
    "            for i in l:\n",
    "        if(component[i] == c):\n",
    "    component[i] = component[v]\n",
    "    return(s)"
   ]
  },
  {
   "cell_type": "code",
   "execution_count": 8,
   "id": "23ba4b51",
   "metadata": {},
   "outputs": [
    {
     "name": "stdout",
     "output_type": "stream",
     "text": [
      "1 2 3 4\n",
      "[1, 2, 3, 4]\n"
     ]
    }
   ],
   "source": [
    "a=[int(x) for x in input().replace('  ',' ').strip().split(' ')]\n",
    "print(a)"
   ]
  },
  {
   "cell_type": "code",
   "execution_count": 15,
   "id": "d653844f",
   "metadata": {},
   "outputs": [
    {
     "name": "stdout",
     "output_type": "stream",
     "text": [
      "1\n",
      "2\n",
      "1\n",
      "3\n",
      "4\n"
     ]
    }
   ],
   "source": [
    "\n",
    "a=[1,  2, 1 ,    3, 4]\n",
    "for i in a:\n",
    "    print(i)\n"
   ]
  },
  {
   "cell_type": "code",
   "execution_count": 22,
   "id": "413710d2",
   "metadata": {},
   "outputs": [
    {
     "name": "stdout",
     "output_type": "stream",
     "text": [
      "1\n"
     ]
    }
   ],
   "source": [
    "a=[1,2,3,4]\n",
    "b=[2,3,4,1]\n",
    "count=0\n",
    "for i in a:\n",
    "    if (i in b):\n",
    "        count+=1\n",
    "if (count==len(a)):\n",
    "    print(1)\n",
    "else:\n",
    "    print(0)"
   ]
  },
  {
   "cell_type": "code",
   "execution_count": 23,
   "id": "01af49aa",
   "metadata": {},
   "outputs": [],
   "source": [
    "def areEqual(arr1, arr2, n):\n",
    " \n",
    "    # If lengths of array are not\n",
    "    # equal means array are not equal\n",
    "    \n",
    "    b1 = A[0]\n",
    "    b2 = B[0]\n",
    "     \n",
    "    # find xor of all elements\n",
    "    for i in range(1, n - 1):\n",
    "        b1 ^= arr1[i]\n",
    " \n",
    "    for i in range(1, m - 1):\n",
    "        b2 ^= arr2[i]\n",
    " \n",
    "    all_xor = b1 ^ b2\n",
    "     \n",
    "    # If all elements were same then xor will be zero\n",
    "    if(all_xor == 0):\n",
    "        return True\n",
    " \n",
    "    return False"
   ]
  },
  {
   "cell_type": "code",
   "execution_count": 24,
   "id": "31a71f92",
   "metadata": {},
   "outputs": [
    {
     "ename": "SyntaxError",
     "evalue": "invalid syntax (Temp/ipykernel_11860/1256004269.py, line 11)",
     "output_type": "error",
     "traceback": [
      "\u001b[1;36m  File \u001b[1;32m\"C:\\Users\\mkhus\\AppData\\Local\\Temp/ipykernel_11860/1256004269.py\"\u001b[1;36m, line \u001b[1;32m11\u001b[0m\n\u001b[1;33m    for i in range len(a):\u001b[0m\n\u001b[1;37m                   ^\u001b[0m\n\u001b[1;31mSyntaxError\u001b[0m\u001b[1;31m:\u001b[0m invalid syntax\n"
     ]
    }
   ],
   "source": [
    "a=[3,4,5,6]\n",
    "#each element represents the max number of jumps from that element find the min number of jumps required\n",
    "#if element is zero and you havent reached the end then return -1\n",
    "\n",
    "\n",
    "# 1st condition of reaching the end \n",
    "#2nd condition of index out of range \n",
    "\n",
    "end=a[-1]\n",
    "count=0\n",
    "for i in range len(a):\n",
    "    \n",
    "    a=a[a[]:]\n",
    "    \n",
    "\n"
   ]
  },
  {
   "cell_type": "code",
   "execution_count": 31,
   "id": "f67efadb",
   "metadata": {},
   "outputs": [
    {
     "name": "stdout",
     "output_type": "stream",
     "text": [
      "1   2\n",
      "['1', '2']\n"
     ]
    }
   ],
   "source": [
    "a=input().split()\n",
    "print(a)"
   ]
  },
  {
   "cell_type": "code",
   "execution_count": 32,
   "id": "4ca7d5f9",
   "metadata": {},
   "outputs": [
    {
     "name": "stdout",
     "output_type": "stream",
     "text": [
      "2\n",
      "1 2\n",
      "1\n",
      "3 4\n",
      "3\n"
     ]
    }
   ],
   "source": [
    "# cook your dish here\n",
    "t=int(input())\n",
    "for i in range(t):\n",
    "    a,b=map(int,input().split())\n",
    "    print(min(a,b))"
   ]
  },
  {
   "cell_type": "code",
   "execution_count": 33,
   "id": "496a4082",
   "metadata": {},
   "outputs": [],
   "source": [
    "a='aaa'\n",
    "b='bab'\n",
    "if(a==b):\n",
    "    print(0)\n",
    "    \n",
    "    \n",
    "    \n",
    "\n"
   ]
  },
  {
   "cell_type": "code",
   "execution_count": 37,
   "id": "5e393f24",
   "metadata": {},
   "outputs": [
    {
     "data": {
      "text/plain": [
       "'mohiut'"
      ]
     },
     "execution_count": 37,
     "metadata": {},
     "output_type": "execute_result"
    }
   ],
   "source": [
    "'mohiut'.replace(a,b)"
   ]
  },
  {
   "cell_type": "code",
   "execution_count": 38,
   "id": "73ceecad",
   "metadata": {},
   "outputs": [
    {
     "data": {
      "text/plain": [
       "'mahit'"
      ]
     },
     "execution_count": 38,
     "metadata": {},
     "output_type": "execute_result"
    }
   ],
   "source": [
    "'mohit'.replace('o','a')"
   ]
  },
  {
   "cell_type": "code",
   "execution_count": 41,
   "id": "009b3def",
   "metadata": {},
   "outputs": [
    {
     "name": "stdout",
     "output_type": "stream",
     "text": [
      "5\n",
      "mohit\n",
      "khush\n"
     ]
    }
   ],
   "source": [
    "m='mohit'\n",
    "k='khush'\n",
    "c=0\n",
    "for i in range(len(m)):\n",
    "    if(m!=k):\n",
    "        m.replace(m[i],k[i])\n",
    "        c+=1\n",
    "    else:\n",
    "        break\n",
    "print(c)\n",
    "    \n",
    "\n"
   ]
  },
  {
   "cell_type": "code",
   "execution_count": 42,
   "id": "e96e5f58",
   "metadata": {},
   "outputs": [
    {
     "ename": "KeyboardInterrupt",
     "evalue": "Interrupted by user",
     "output_type": "error",
     "traceback": [
      "\u001b[1;31m---------------------------------------------------------------------------\u001b[0m",
      "\u001b[1;31mKeyboardInterrupt\u001b[0m                         Traceback (most recent call last)",
      "\u001b[1;32m~\\AppData\\Local\\Temp/ipykernel_11860/86763331.py\u001b[0m in \u001b[0;36m<module>\u001b[1;34m\u001b[0m\n\u001b[1;32m----> 1\u001b[1;33m \u001b[0mt\u001b[0m\u001b[1;33m=\u001b[0m\u001b[0mint\u001b[0m\u001b[1;33m(\u001b[0m\u001b[0minput\u001b[0m\u001b[1;33m(\u001b[0m\u001b[1;33m)\u001b[0m\u001b[1;33m)\u001b[0m\u001b[1;33m\u001b[0m\u001b[1;33m\u001b[0m\u001b[0m\n\u001b[0m\u001b[0;32m      2\u001b[0m \u001b[1;32mfor\u001b[0m \u001b[0mi\u001b[0m \u001b[1;32min\u001b[0m \u001b[0mrange\u001b[0m\u001b[1;33m(\u001b[0m\u001b[0mt\u001b[0m\u001b[1;33m)\u001b[0m\u001b[1;33m:\u001b[0m\u001b[1;33m\u001b[0m\u001b[1;33m\u001b[0m\u001b[0m\n\u001b[0;32m      3\u001b[0m     \u001b[0mn\u001b[0m\u001b[1;33m=\u001b[0m\u001b[0mint\u001b[0m\u001b[1;33m(\u001b[0m\u001b[0minput\u001b[0m\u001b[1;33m(\u001b[0m\u001b[1;33m)\u001b[0m\u001b[1;33m)\u001b[0m\u001b[1;33m\u001b[0m\u001b[1;33m\u001b[0m\u001b[0m\n\u001b[0;32m      4\u001b[0m     \u001b[0ma\u001b[0m\u001b[1;33m=\u001b[0m\u001b[0minput\u001b[0m\u001b[1;33m(\u001b[0m\u001b[1;33m)\u001b[0m\u001b[1;33m.\u001b[0m\u001b[0mlower\u001b[0m\u001b[1;33m(\u001b[0m\u001b[1;33m)\u001b[0m\u001b[1;33m\u001b[0m\u001b[1;33m\u001b[0m\u001b[0m\n\u001b[0;32m      5\u001b[0m     \u001b[0mb\u001b[0m\u001b[1;33m=\u001b[0m\u001b[0minput\u001b[0m\u001b[1;33m(\u001b[0m\u001b[1;33m)\u001b[0m\u001b[1;33m.\u001b[0m\u001b[0mlower\u001b[0m\u001b[1;33m(\u001b[0m\u001b[1;33m)\u001b[0m\u001b[1;33m\u001b[0m\u001b[1;33m\u001b[0m\u001b[0m\n",
      "\u001b[1;32m~\\anaconda3\\lib\\site-packages\\ipykernel\\kernelbase.py\u001b[0m in \u001b[0;36mraw_input\u001b[1;34m(self, prompt)\u001b[0m\n\u001b[0;32m   1004\u001b[0m                 \u001b[1;34m\"raw_input was called, but this frontend does not support input requests.\"\u001b[0m\u001b[1;33m\u001b[0m\u001b[1;33m\u001b[0m\u001b[0m\n\u001b[0;32m   1005\u001b[0m             )\n\u001b[1;32m-> 1006\u001b[1;33m         return self._input_request(\n\u001b[0m\u001b[0;32m   1007\u001b[0m             \u001b[0mstr\u001b[0m\u001b[1;33m(\u001b[0m\u001b[0mprompt\u001b[0m\u001b[1;33m)\u001b[0m\u001b[1;33m,\u001b[0m\u001b[1;33m\u001b[0m\u001b[1;33m\u001b[0m\u001b[0m\n\u001b[0;32m   1008\u001b[0m             \u001b[0mself\u001b[0m\u001b[1;33m.\u001b[0m\u001b[0m_parent_ident\u001b[0m\u001b[1;33m[\u001b[0m\u001b[1;34m\"shell\"\u001b[0m\u001b[1;33m]\u001b[0m\u001b[1;33m,\u001b[0m\u001b[1;33m\u001b[0m\u001b[1;33m\u001b[0m\u001b[0m\n",
      "\u001b[1;32m~\\anaconda3\\lib\\site-packages\\ipykernel\\kernelbase.py\u001b[0m in \u001b[0;36m_input_request\u001b[1;34m(self, prompt, ident, parent, password)\u001b[0m\n\u001b[0;32m   1049\u001b[0m             \u001b[1;32mexcept\u001b[0m \u001b[0mKeyboardInterrupt\u001b[0m\u001b[1;33m:\u001b[0m\u001b[1;33m\u001b[0m\u001b[1;33m\u001b[0m\u001b[0m\n\u001b[0;32m   1050\u001b[0m                 \u001b[1;31m# re-raise KeyboardInterrupt, to truncate traceback\u001b[0m\u001b[1;33m\u001b[0m\u001b[1;33m\u001b[0m\u001b[0m\n\u001b[1;32m-> 1051\u001b[1;33m                 \u001b[1;32mraise\u001b[0m \u001b[0mKeyboardInterrupt\u001b[0m\u001b[1;33m(\u001b[0m\u001b[1;34m\"Interrupted by user\"\u001b[0m\u001b[1;33m)\u001b[0m \u001b[1;32mfrom\u001b[0m \u001b[1;32mNone\u001b[0m\u001b[1;33m\u001b[0m\u001b[1;33m\u001b[0m\u001b[0m\n\u001b[0m\u001b[0;32m   1052\u001b[0m             \u001b[1;32mexcept\u001b[0m \u001b[0mException\u001b[0m\u001b[1;33m:\u001b[0m\u001b[1;33m\u001b[0m\u001b[1;33m\u001b[0m\u001b[0m\n\u001b[0;32m   1053\u001b[0m                 \u001b[0mself\u001b[0m\u001b[1;33m.\u001b[0m\u001b[0mlog\u001b[0m\u001b[1;33m.\u001b[0m\u001b[0mwarning\u001b[0m\u001b[1;33m(\u001b[0m\u001b[1;34m\"Invalid Message:\"\u001b[0m\u001b[1;33m,\u001b[0m \u001b[0mexc_info\u001b[0m\u001b[1;33m=\u001b[0m\u001b[1;32mTrue\u001b[0m\u001b[1;33m)\u001b[0m\u001b[1;33m\u001b[0m\u001b[1;33m\u001b[0m\u001b[0m\n",
      "\u001b[1;31mKeyboardInterrupt\u001b[0m: Interrupted by user"
     ]
    }
   ],
   "source": [
    "t=int(input())\n",
    "for i in range(t):\n",
    "    n=int(input())\n",
    "    a=input().lower()\n",
    "    b=input().lower()\n",
    "    \n",
    "    \n",
    "    \n",
    "    "
   ]
  },
  {
   "cell_type": "code",
   "execution_count": 44,
   "id": "ecc8b515",
   "metadata": {},
   "outputs": [
    {
     "data": {
      "text/plain": [
       "4"
      ]
     },
     "execution_count": 44,
     "metadata": {},
     "output_type": "execute_result"
    }
   ],
   "source": [
    "14%5"
   ]
  },
  {
   "cell_type": "code",
   "execution_count": 51,
   "id": "4a21200b",
   "metadata": {},
   "outputs": [
    {
     "name": "stdout",
     "output_type": "stream",
     "text": [
      "1 2 3\n",
      "['1', '2', '3']\n"
     ]
    }
   ],
   "source": [
    "n=input().split()\n",
    "print(n)"
   ]
  },
  {
   "cell_type": "code",
   "execution_count": 54,
   "id": "10a49cc2",
   "metadata": {},
   "outputs": [
    {
     "name": "stdout",
     "output_type": "stream",
     "text": [
      "1 2 3\n",
      "[1, 2, 3]\n"
     ]
    }
   ],
   "source": [
    "n=[int(i) for i in input().split()]\n",
    "print(n)"
   ]
  },
  {
   "cell_type": "code",
   "execution_count": 62,
   "id": "7240c6ca",
   "metadata": {},
   "outputs": [
    {
     "name": "stdout",
     "output_type": "stream",
     "text": [
      "2\n",
      "5 10\n",
      "3 5 3 2 1\n",
      "11010\n",
      "4 6\n",
      "10 8 6 4\n",
      "0010\n"
     ]
    }
   ],
   "source": [
    "t=int(input())# k is money and n is ppl \n",
    "for i in range(t):\n",
    "    n,k=map(int,input().split())\n",
    "    N=[int(i) for i in input().split()]\n",
    "    l=[]\n",
    "    for i in N:\n",
    "        if(k-i>-1):\n",
    "            l.append(1)\n",
    "            k=k-i\n",
    "        else:\n",
    "            l.append(0)\n",
    "    for i in l:\n",
    "        print(i,end='')\n",
    "    print()\n",
    "    \n",
    "#2\n",
    "#5 10\n",
    "#3 5 3 2 1\n",
    "#4 6\n",
    "#10 8 6 4"
   ]
  },
  {
   "cell_type": "code",
   "execution_count": 68,
   "id": "ba204d94",
   "metadata": {},
   "outputs": [
    {
     "name": "stdout",
     "output_type": "stream",
     "text": [
      "2\n",
      "1 2 2 1 3 4\n",
      "1\n"
     ]
    },
    {
     "ename": "KeyboardInterrupt",
     "evalue": "Interrupted by user",
     "output_type": "error",
     "traceback": [
      "\u001b[1;31m---------------------------------------------------------------------------\u001b[0m",
      "\u001b[1;31mKeyboardInterrupt\u001b[0m                         Traceback (most recent call last)",
      "\u001b[1;32m~\\AppData\\Local\\Temp/ipykernel_11860/1555644623.py\u001b[0m in \u001b[0;36m<module>\u001b[1;34m\u001b[0m\n\u001b[0;32m      1\u001b[0m \u001b[0mt\u001b[0m\u001b[1;33m=\u001b[0m\u001b[0mint\u001b[0m\u001b[1;33m(\u001b[0m\u001b[0minput\u001b[0m\u001b[1;33m(\u001b[0m\u001b[1;33m)\u001b[0m\u001b[1;33m)\u001b[0m\u001b[1;33m\u001b[0m\u001b[1;33m\u001b[0m\u001b[0m\n\u001b[0;32m      2\u001b[0m \u001b[1;32mfor\u001b[0m \u001b[0mi\u001b[0m \u001b[1;32min\u001b[0m \u001b[0mrange\u001b[0m\u001b[1;33m(\u001b[0m\u001b[0mt\u001b[0m\u001b[1;33m)\u001b[0m\u001b[1;33m:\u001b[0m\u001b[1;33m\u001b[0m\u001b[1;33m\u001b[0m\u001b[0m\n\u001b[1;32m----> 3\u001b[1;33m     \u001b[0mF\u001b[0m\u001b[1;33m=\u001b[0m\u001b[1;33m[\u001b[0m\u001b[0mint\u001b[0m\u001b[1;33m(\u001b[0m\u001b[0mi\u001b[0m\u001b[1;33m)\u001b[0m \u001b[1;32mfor\u001b[0m \u001b[0mi\u001b[0m \u001b[1;32min\u001b[0m \u001b[0minput\u001b[0m\u001b[1;33m(\u001b[0m\u001b[1;33m)\u001b[0m\u001b[1;33m.\u001b[0m\u001b[0msplit\u001b[0m\u001b[1;33m(\u001b[0m\u001b[1;33m)\u001b[0m\u001b[1;33m]\u001b[0m\u001b[1;33m\u001b[0m\u001b[1;33m\u001b[0m\u001b[0m\n\u001b[0m\u001b[0;32m      4\u001b[0m     \u001b[1;32mif\u001b[0m \u001b[1;33m(\u001b[0m\u001b[0mF\u001b[0m\u001b[1;33m[\u001b[0m\u001b[1;36m0\u001b[0m\u001b[1;33m]\u001b[0m \u001b[1;32mand\u001b[0m \u001b[0mF\u001b[0m\u001b[1;33m[\u001b[0m\u001b[1;36m1\u001b[0m\u001b[1;33m]\u001b[0m \u001b[1;32min\u001b[0m \u001b[1;33m(\u001b[0m\u001b[0mF\u001b[0m\u001b[1;33m[\u001b[0m\u001b[1;36m2\u001b[0m\u001b[1;33m:\u001b[0m\u001b[1;36m4\u001b[0m\u001b[1;33m]\u001b[0m\u001b[1;33m)\u001b[0m\u001b[1;33m)\u001b[0m\u001b[1;33m:\u001b[0m\u001b[1;33m\u001b[0m\u001b[1;33m\u001b[0m\u001b[0m\n\u001b[0;32m      5\u001b[0m         \u001b[0mprint\u001b[0m\u001b[1;33m(\u001b[0m\u001b[1;36m1\u001b[0m\u001b[1;33m)\u001b[0m\u001b[1;33m\u001b[0m\u001b[1;33m\u001b[0m\u001b[0m\n",
      "\u001b[1;32m~\\anaconda3\\lib\\site-packages\\ipykernel\\kernelbase.py\u001b[0m in \u001b[0;36mraw_input\u001b[1;34m(self, prompt)\u001b[0m\n\u001b[0;32m   1004\u001b[0m                 \u001b[1;34m\"raw_input was called, but this frontend does not support input requests.\"\u001b[0m\u001b[1;33m\u001b[0m\u001b[1;33m\u001b[0m\u001b[0m\n\u001b[0;32m   1005\u001b[0m             )\n\u001b[1;32m-> 1006\u001b[1;33m         return self._input_request(\n\u001b[0m\u001b[0;32m   1007\u001b[0m             \u001b[0mstr\u001b[0m\u001b[1;33m(\u001b[0m\u001b[0mprompt\u001b[0m\u001b[1;33m)\u001b[0m\u001b[1;33m,\u001b[0m\u001b[1;33m\u001b[0m\u001b[1;33m\u001b[0m\u001b[0m\n\u001b[0;32m   1008\u001b[0m             \u001b[0mself\u001b[0m\u001b[1;33m.\u001b[0m\u001b[0m_parent_ident\u001b[0m\u001b[1;33m[\u001b[0m\u001b[1;34m\"shell\"\u001b[0m\u001b[1;33m]\u001b[0m\u001b[1;33m,\u001b[0m\u001b[1;33m\u001b[0m\u001b[1;33m\u001b[0m\u001b[0m\n",
      "\u001b[1;32m~\\anaconda3\\lib\\site-packages\\ipykernel\\kernelbase.py\u001b[0m in \u001b[0;36m_input_request\u001b[1;34m(self, prompt, ident, parent, password)\u001b[0m\n\u001b[0;32m   1049\u001b[0m             \u001b[1;32mexcept\u001b[0m \u001b[0mKeyboardInterrupt\u001b[0m\u001b[1;33m:\u001b[0m\u001b[1;33m\u001b[0m\u001b[1;33m\u001b[0m\u001b[0m\n\u001b[0;32m   1050\u001b[0m                 \u001b[1;31m# re-raise KeyboardInterrupt, to truncate traceback\u001b[0m\u001b[1;33m\u001b[0m\u001b[1;33m\u001b[0m\u001b[0m\n\u001b[1;32m-> 1051\u001b[1;33m                 \u001b[1;32mraise\u001b[0m \u001b[0mKeyboardInterrupt\u001b[0m\u001b[1;33m(\u001b[0m\u001b[1;34m\"Interrupted by user\"\u001b[0m\u001b[1;33m)\u001b[0m \u001b[1;32mfrom\u001b[0m \u001b[1;32mNone\u001b[0m\u001b[1;33m\u001b[0m\u001b[1;33m\u001b[0m\u001b[0m\n\u001b[0m\u001b[0;32m   1052\u001b[0m             \u001b[1;32mexcept\u001b[0m \u001b[0mException\u001b[0m\u001b[1;33m:\u001b[0m\u001b[1;33m\u001b[0m\u001b[1;33m\u001b[0m\u001b[0m\n\u001b[0;32m   1053\u001b[0m                 \u001b[0mself\u001b[0m\u001b[1;33m.\u001b[0m\u001b[0mlog\u001b[0m\u001b[1;33m.\u001b[0m\u001b[0mwarning\u001b[0m\u001b[1;33m(\u001b[0m\u001b[1;34m\"Invalid Message:\"\u001b[0m\u001b[1;33m,\u001b[0m \u001b[0mexc_info\u001b[0m\u001b[1;33m=\u001b[0m\u001b[1;32mTrue\u001b[0m\u001b[1;33m)\u001b[0m\u001b[1;33m\u001b[0m\u001b[1;33m\u001b[0m\u001b[0m\n",
      "\u001b[1;31mKeyboardInterrupt\u001b[0m: Interrupted by user"
     ]
    }
   ],
   "source": [
    "t=int(input())\n",
    "for i in range(t):\n",
    "    F=[int(i) for i in input().split()]\n",
    "    r=[F[0],F[1]]\n",
    "    A=[F[2],F[3]]\n",
    "    B=[F[4],F[5]]\n",
    "    if (F[0] in A and r[1] in A ):\n",
    "        print(1)\n",
    "    elif(r[0] in B and r[1] in B):\n",
    "        print(2)\n",
    "    else:\n",
    "        print(0)\n",
    "            \n",
    "    "
   ]
  },
  {
   "cell_type": "code",
   "execution_count": 71,
   "id": "e62d3737",
   "metadata": {},
   "outputs": [
    {
     "name": "stdout",
     "output_type": "stream",
     "text": [
      "2\n",
      "1 2 3\n",
      "2 3 1\n",
      "SLOTH\n",
      "1 2 3\n",
      "1 2 3\n",
      "TIE\n"
     ]
    }
   ],
   "source": [
    "t=int(input())#SLOTH DRAGON TIE\n",
    "for i in range(t):\n",
    "    d=[int(i) for i in input().split()]\n",
    "    s=[int(i) for i in input().split()]\n",
    "    d_sum=sum(d)\n",
    "    s_sum=sum(s)\n",
    "    if(d_sum>s_sum):\n",
    "        print('DRAGON')\n",
    "    elif(d_sum<s_sum):\n",
    "        print('SLOTH')\n",
    "    elif(d_sum==s_sum):\n",
    "        if(d[0]>s[0]):\n",
    "            print('DRAGON')\n",
    "        elif(d[0]<s[0]):\n",
    "            print('SLOTH')\n",
    "        elif(d[0]==s[0]):\n",
    "            if(d[1]>s[1]):\n",
    "                print('DRAGON')\n",
    "            elif(d[1]<s[1]):\n",
    "                print('SLOTH')\n",
    "            elif(d[1]==d[1]):\n",
    "                if(d[2]>s[2]):\n",
    "                    print('DRAGON')\n",
    "                elif(d[2]<s[2]):\n",
    "                    print('SLOTH')\n",
    "                else:\n",
    "                    print('TIE')\n",
    "                \n",
    "            \n",
    "            \n",
    "            "
   ]
  },
  {
   "cell_type": "code",
   "execution_count": 76,
   "id": "8ea4fe36",
   "metadata": {},
   "outputs": [
    {
     "name": "stdout",
     "output_type": "stream",
     "text": [
      "1\n",
      "3\n",
      "1\n",
      "1\n",
      "2\n",
      "2\n"
     ]
    }
   ],
   "source": [
    "t=int(input())\n",
    "for i in range(t):\n",
    "    n=int(input())\n",
    "    l=[]\n",
    "    #if(n%2==0):\n",
    "        \n",
    "    for i in range(n):\n",
    "        d=int(input())\n",
    "        l.append(d)\n",
    "    for i in l:\n",
    "        if((l.count(i))%2!=0):\n",
    "            print(i)\n",
    "        "
   ]
  },
  {
   "cell_type": "code",
   "execution_count": 78,
   "id": "850be547",
   "metadata": {},
   "outputs": [
    {
     "data": {
      "text/plain": [
       "2"
      ]
     },
     "execution_count": 78,
     "metadata": {},
     "output_type": "execute_result"
    }
   ],
   "source": [
    "1\n",
    "3\n",
    "#element\n",
    "1\n",
    "1\n",
    "2\n",
    "#count\n",
    "2\n",
    "2\n",
    "1\n",
    "\n",
    "1\n",
    "3\n",
    "\n",
    "1\n",
    "1\n",
    "2\n",
    "\n",
    "2\n"
   ]
  },
  {
   "cell_type": "code",
   "execution_count": 79,
   "id": "7733601c",
   "metadata": {},
   "outputs": [
    {
     "ename": "KeyboardInterrupt",
     "evalue": "Interrupted by user",
     "output_type": "error",
     "traceback": [
      "\u001b[1;31m---------------------------------------------------------------------------\u001b[0m",
      "\u001b[1;31mKeyboardInterrupt\u001b[0m                         Traceback (most recent call last)",
      "\u001b[1;32m~\\AppData\\Local\\Temp/ipykernel_11860/496044139.py\u001b[0m in \u001b[0;36m<module>\u001b[1;34m\u001b[0m\n\u001b[1;32m----> 1\u001b[1;33m \u001b[0mt\u001b[0m\u001b[1;33m=\u001b[0m\u001b[0mint\u001b[0m\u001b[1;33m(\u001b[0m\u001b[0minput\u001b[0m\u001b[1;33m(\u001b[0m\u001b[1;33m)\u001b[0m\u001b[1;33m)\u001b[0m\u001b[1;33m\u001b[0m\u001b[1;33m\u001b[0m\u001b[0m\n\u001b[0m\u001b[0;32m      2\u001b[0m \u001b[1;32mfor\u001b[0m \u001b[0mi\u001b[0m \u001b[1;32min\u001b[0m \u001b[0mrange\u001b[0m\u001b[1;33m(\u001b[0m\u001b[0mt\u001b[0m\u001b[1;33m)\u001b[0m\u001b[1;33m:\u001b[0m\u001b[1;33m\u001b[0m\u001b[1;33m\u001b[0m\u001b[0m\n\u001b[0;32m      3\u001b[0m     \u001b[0mn\u001b[0m\u001b[1;33m=\u001b[0m\u001b[0mint\u001b[0m\u001b[1;33m(\u001b[0m\u001b[0minput\u001b[0m\u001b[1;33m(\u001b[0m\u001b[1;33m)\u001b[0m\u001b[1;33m)\u001b[0m\u001b[1;33m\u001b[0m\u001b[1;33m\u001b[0m\u001b[0m\n\u001b[0;32m      4\u001b[0m     \u001b[0ml\u001b[0m\u001b[1;33m=\u001b[0m\u001b[1;33m[\u001b[0m\u001b[1;33m]\u001b[0m\u001b[1;33m\u001b[0m\u001b[1;33m\u001b[0m\u001b[0m\n\u001b[0;32m      5\u001b[0m     \u001b[1;31m#if(n%2==0):\u001b[0m\u001b[1;33m\u001b[0m\u001b[1;33m\u001b[0m\u001b[0m\n",
      "\u001b[1;32m~\\anaconda3\\lib\\site-packages\\ipykernel\\kernelbase.py\u001b[0m in \u001b[0;36mraw_input\u001b[1;34m(self, prompt)\u001b[0m\n\u001b[0;32m   1004\u001b[0m                 \u001b[1;34m\"raw_input was called, but this frontend does not support input requests.\"\u001b[0m\u001b[1;33m\u001b[0m\u001b[1;33m\u001b[0m\u001b[0m\n\u001b[0;32m   1005\u001b[0m             )\n\u001b[1;32m-> 1006\u001b[1;33m         return self._input_request(\n\u001b[0m\u001b[0;32m   1007\u001b[0m             \u001b[0mstr\u001b[0m\u001b[1;33m(\u001b[0m\u001b[0mprompt\u001b[0m\u001b[1;33m)\u001b[0m\u001b[1;33m,\u001b[0m\u001b[1;33m\u001b[0m\u001b[1;33m\u001b[0m\u001b[0m\n\u001b[0;32m   1008\u001b[0m             \u001b[0mself\u001b[0m\u001b[1;33m.\u001b[0m\u001b[0m_parent_ident\u001b[0m\u001b[1;33m[\u001b[0m\u001b[1;34m\"shell\"\u001b[0m\u001b[1;33m]\u001b[0m\u001b[1;33m,\u001b[0m\u001b[1;33m\u001b[0m\u001b[1;33m\u001b[0m\u001b[0m\n",
      "\u001b[1;32m~\\anaconda3\\lib\\site-packages\\ipykernel\\kernelbase.py\u001b[0m in \u001b[0;36m_input_request\u001b[1;34m(self, prompt, ident, parent, password)\u001b[0m\n\u001b[0;32m   1049\u001b[0m             \u001b[1;32mexcept\u001b[0m \u001b[0mKeyboardInterrupt\u001b[0m\u001b[1;33m:\u001b[0m\u001b[1;33m\u001b[0m\u001b[1;33m\u001b[0m\u001b[0m\n\u001b[0;32m   1050\u001b[0m                 \u001b[1;31m# re-raise KeyboardInterrupt, to truncate traceback\u001b[0m\u001b[1;33m\u001b[0m\u001b[1;33m\u001b[0m\u001b[0m\n\u001b[1;32m-> 1051\u001b[1;33m                 \u001b[1;32mraise\u001b[0m \u001b[0mKeyboardInterrupt\u001b[0m\u001b[1;33m(\u001b[0m\u001b[1;34m\"Interrupted by user\"\u001b[0m\u001b[1;33m)\u001b[0m \u001b[1;32mfrom\u001b[0m \u001b[1;32mNone\u001b[0m\u001b[1;33m\u001b[0m\u001b[1;33m\u001b[0m\u001b[0m\n\u001b[0m\u001b[0;32m   1052\u001b[0m             \u001b[1;32mexcept\u001b[0m \u001b[0mException\u001b[0m\u001b[1;33m:\u001b[0m\u001b[1;33m\u001b[0m\u001b[1;33m\u001b[0m\u001b[0m\n\u001b[0;32m   1053\u001b[0m                 \u001b[0mself\u001b[0m\u001b[1;33m.\u001b[0m\u001b[0mlog\u001b[0m\u001b[1;33m.\u001b[0m\u001b[0mwarning\u001b[0m\u001b[1;33m(\u001b[0m\u001b[1;34m\"Invalid Message:\"\u001b[0m\u001b[1;33m,\u001b[0m \u001b[0mexc_info\u001b[0m\u001b[1;33m=\u001b[0m\u001b[1;32mTrue\u001b[0m\u001b[1;33m)\u001b[0m\u001b[1;33m\u001b[0m\u001b[1;33m\u001b[0m\u001b[0m\n",
      "\u001b[1;31mKeyboardInterrupt\u001b[0m: Interrupted by user"
     ]
    }
   ],
   "source": [
    "t=int(input())\n",
    "for i in range(t):\n",
    "    n=int(input())\n",
    "    l=[]\n",
    "    #if(n%2==0):\n",
    "        \n",
    "    for i in range(n):\n",
    "        d=int(input())\n",
    "        l.append(d)\n",
    "    for i in l:\n",
    "        if((l.count(i))%2!=0):\n",
    "            print(i)"
   ]
  },
  {
   "cell_type": "code",
   "execution_count": 82,
   "id": "6438b11f",
   "metadata": {},
   "outputs": [
    {
     "name": "stdout",
     "output_type": "stream",
     "text": [
      "8\n"
     ]
    }
   ],
   "source": [
    "l=[2,3,4,5,9,7]\n",
    "print(max(l)-min(l)+1)"
   ]
  },
  {
   "cell_type": "code",
   "execution_count": 83,
   "id": "079e11b7",
   "metadata": {},
   "outputs": [
    {
     "name": "stdout",
     "output_type": "stream",
     "text": [
      "Sorted order is :  2 3 4 6 7 8 8 "
     ]
    }
   ],
   "source": [
    "# Python program to implement Pigeonhole Sort */\n",
    "\n",
    "# source code : \"https://en.wikibooks.org/wiki/\n",
    "# Algorithm_Implementation/Sorting/Pigeonhole_sort\"\n",
    "def pigeonhole_sort(a):\n",
    "\t# size of range of values in the list\n",
    "\t# (ie, number of pigeonholes we need)\n",
    "\tmy_min = min(a)\n",
    "\tmy_max = max(a)\n",
    "\tsize = my_max - my_min + 1\n",
    "\n",
    "\t# our list of pigeonholes\n",
    "\tholes = [0] * size\n",
    "\n",
    "\t# Populate the pigeonholes.\n",
    "\tfor x in a:\n",
    "\t\tassert type(x) is int, \"integers only please\"\n",
    "\t\tholes[x - my_min] += 1\n",
    "\n",
    "\t# Put the elements back into the array in order.\n",
    "\ti = 0\n",
    "\tfor count in range(size):\n",
    "\t\twhile holes[count] > 0:\n",
    "\t\t\tholes[count] -= 1\n",
    "\t\t\ta[i] = count + my_min\n",
    "\t\t\ti += 1\n",
    "\t\t\t\n",
    "\n",
    "a = [8, 3, 2, 7, 4, 6, 8]\n",
    "print(\"Sorted order is : \", end = ' ')\n",
    "\n",
    "pigeonhole_sort(a)\n",
    "\t\t\n",
    "for i in range(0, len(a)):\n",
    "\tprint(a[i], end = ' ')\n",
    "\t\n"
   ]
  },
  {
   "cell_type": "code",
   "execution_count": 86,
   "id": "bdebd771",
   "metadata": {},
   "outputs": [
    {
     "name": "stdout",
     "output_type": "stream",
     "text": [
      "9   2   8   [0, 0, 0, 0, 0, 0, 0, 0]\n"
     ]
    }
   ],
   "source": [
    "l=[2,3,4,5,9,2,3,4,7,6]\n",
    "m1=max(l)\n",
    "m2=min(l)\n",
    "ra=m1-m2+1\n",
    "holes=[0]*ra\n",
    "for x in l:\n",
    "    holes[x-m2]+=1\n",
    "print(m1, \" \", m2,\" \", ra,\" \",holes)\n",
    "\n",
    "\n"
   ]
  },
  {
   "cell_type": "code",
   "execution_count": 87,
   "id": "598365ec",
   "metadata": {},
   "outputs": [
    {
     "data": {
      "text/plain": [
       "11"
      ]
     },
     "execution_count": 87,
     "metadata": {},
     "output_type": "execute_result"
    }
   ],
   "source": [
    "100-90+1"
   ]
  },
  {
   "cell_type": "code",
   "execution_count": 95,
   "id": "19d2f4de",
   "metadata": {},
   "outputs": [],
   "source": [
    "#pigeon_hole sorting\n",
    "def ps(a):\n",
    "    my_min=min(a)\n",
    "    my_max=max(a)\n",
    "    ra=my_max-my_min+1\n",
    "    holes=[0]*ra\n",
    "    for x in a:\n",
    "        assert type(x) is int\n",
    "        holes[x-my_min]+=1\n",
    "    i=0\n",
    "    for count in range(ra):\n",
    "        while (holes[count]>0):\n",
    "            holes[count]-=1\n",
    "            a[i]=count+my_min\n",
    "            i+=1\n",
    "    return (a)\n",
    "        \n",
    "        "
   ]
  },
  {
   "cell_type": "code",
   "execution_count": 96,
   "id": "222e8708",
   "metadata": {},
   "outputs": [
    {
     "data": {
      "text/plain": [
       "[2, 2, 3, 3, 4, 4, 5, 6, 7, 9]"
      ]
     },
     "execution_count": 96,
     "metadata": {},
     "output_type": "execute_result"
    }
   ],
   "source": [
    "ps([2,3,4,5,9,2,3,4,7,6])"
   ]
  },
  {
   "cell_type": "code",
   "execution_count": 16,
   "id": "8ebb67c7",
   "metadata": {},
   "outputs": [],
   "source": [
    "#techie delight\n",
    "#two sum using sorting technique\n",
    "\n",
    "def two_sum(l,target):\n",
    "    \n",
    "    l.sort()\n",
    "    (low,high)=(0,len(l)-1)\n",
    "    while low<high:\n",
    "        if(l[low]+l[high]==target):\n",
    "            print('got it', (l[low],l[high]))\n",
    "        if (l[low]+l[high]<target):\n",
    "            low+=1\n",
    "        else:\n",
    "            high-=1\n",
    "    if(low>high or low==high):\n",
    "        print('better luck next time')\n",
    "    "
   ]
  },
  {
   "cell_type": "raw",
   "id": "8569224a",
   "metadata": {},
   "source": []
  },
  {
   "cell_type": "code",
   "execution_count": 17,
   "id": "bd2b22bb",
   "metadata": {},
   "outputs": [
    {
     "name": "stdout",
     "output_type": "stream",
     "text": [
      "better luck next time\n"
     ]
    }
   ],
   "source": [
    "two_sum([1,2,3,4,52,65,22,90],1000)"
   ]
  },
  {
   "cell_type": "code",
   "execution_count": 18,
   "id": "6dbd42c8",
   "metadata": {},
   "outputs": [
    {
     "name": "stdout",
     "output_type": "stream",
     "text": [
      "()\n"
     ]
    }
   ],
   "source": [
    "print(())"
   ]
  },
  {
   "cell_type": "markdown",
   "id": "ec05b876",
   "metadata": {},
   "source": [
    "20/10"
   ]
  },
  {
   "cell_type": "code",
   "execution_count": 20,
   "id": "fd1fbb4b",
   "metadata": {},
   "outputs": [
    {
     "data": {
      "text/plain": [
       "2"
      ]
     },
     "execution_count": 20,
     "metadata": {},
     "output_type": "execute_result"
    }
   ],
   "source": [
    "20//10"
   ]
  },
  {
   "cell_type": "code",
   "execution_count": 23,
   "id": "7163faa8",
   "metadata": {},
   "outputs": [
    {
     "name": "stdout",
     "output_type": "stream",
     "text": [
      "10\n",
      "15.0\n",
      "17.5\n",
      "18.75\n",
      "19.375\n",
      "19.6875\n",
      "19.84375\n",
      "19.921875\n",
      "19.9609375\n",
      "19.98046875\n",
      "19.990234375\n",
      "19.9951171875\n",
      "19.99755859375\n",
      "19.998779296875\n",
      "19.9993896484375\n",
      "19.99969482421875\n",
      "19.999847412109375\n",
      "19.999923706054688\n",
      "19.999961853027344\n",
      "19.999980926513672\n",
      "19.999990463256836\n",
      "19.999995231628418\n",
      "19.99999761581421\n",
      "19.999998807907104\n",
      "19.999999403953552\n",
      "19.999999701976776\n",
      "19.999999850988388\n",
      "19.999999925494194\n",
      "19.999999962747097\n",
      "19.99999998137355\n",
      "19.999999990686774\n",
      "19.999999995343387\n",
      "19.999999997671694\n",
      "19.999999998835847\n",
      "19.999999999417923\n",
      "19.99999999970896\n",
      "19.99999999985448\n",
      "19.99999999992724\n",
      "19.99999999996362\n",
      "19.99999999998181\n",
      "19.999999999990905\n",
      "19.999999999995453\n",
      "19.999999999997726\n",
      "19.999999999998863\n",
      "19.99999999999943\n",
      "19.999999999999716\n",
      "19.999999999999858\n",
      "19.99999999999993\n",
      "19.999999999999964\n",
      "19.999999999999982\n",
      "19.999999999999993\n",
      "19.999999999999996\n",
      "20.0\n",
      "20.0\n",
      "20.0\n",
      "20.0\n",
      "20.0\n",
      "20.0\n",
      "20.0\n",
      "20.0\n",
      "20.0\n",
      "20.0\n",
      "20.0\n",
      "20.0\n",
      "20.0\n",
      "20.0\n",
      "20.0\n",
      "20.0\n",
      "20.0\n",
      "20.0\n",
      "20.0\n",
      "20.0\n",
      "20.0\n",
      "20.0\n",
      "20.0\n",
      "20.0\n",
      "20.0\n",
      "20.0\n",
      "20.0\n",
      "20.0\n",
      "20.0\n",
      "20.0\n",
      "20.0\n",
      "20.0\n",
      "20.0\n",
      "20.0\n",
      "20.0\n",
      "20.0\n",
      "20.0\n",
      "20.0\n",
      "20.0\n",
      "20.0\n",
      "20.0\n",
      "20.0\n",
      "20.0\n",
      "20.0\n",
      "20.0\n",
      "20.0\n",
      "20.0\n",
      "20.0\n",
      "20.0\n",
      "20.0\n",
      "20.0\n",
      "20.0\n",
      "20.0\n",
      "20.0\n",
      "20.0\n",
      "20.0\n",
      "20.0\n",
      "20.0\n",
      "20.0\n",
      "20.0\n",
      "20.0\n",
      "20.0\n",
      "20.0\n",
      "20.0\n",
      "20.0\n",
      "20.0\n",
      "20.0\n",
      "20.0\n",
      "20.0\n",
      "20.0\n",
      "20.0\n",
      "20.0\n",
      "20.0\n",
      "20.0\n",
      "20.0\n",
      "20.0\n",
      "20.0\n",
      "20.0\n",
      "20.0\n",
      "20.0\n",
      "20.0\n",
      "20.0\n",
      "20.0\n",
      "20.0\n",
      "20.0\n",
      "20.0\n",
      "20.0\n",
      "20.0\n",
      "20.0\n",
      "20.0\n",
      "20.0\n",
      "20.0\n",
      "20.0\n",
      "20.0\n",
      "20.0\n",
      "20.0\n",
      "20.0\n",
      "20.0\n",
      "20.0\n",
      "20.0\n",
      "20.0\n",
      "20.0\n",
      "20.0\n",
      "20.0\n",
      "20.0\n",
      "20.0\n",
      "20.0\n",
      "20.0\n",
      "20.0\n",
      "20.0\n",
      "20.0\n",
      "20.0\n",
      "20.0\n",
      "20.0\n",
      "20.0\n",
      "20.0\n",
      "20.0\n",
      "20.0\n",
      "20.0\n",
      "20.0\n",
      "20.0\n",
      "20.0\n",
      "20.0\n",
      "20.0\n",
      "20.0\n",
      "20.0\n",
      "20.0\n",
      "20.0\n",
      "20.0\n",
      "20.0\n",
      "20.0\n",
      "20.0\n",
      "20.0\n",
      "20.0\n",
      "20.0\n",
      "20.0\n",
      "20.0\n",
      "20.0\n",
      "20.0\n",
      "20.0\n",
      "20.0\n",
      "20.0\n",
      "20.0\n",
      "20.0\n",
      "20.0\n",
      "20.0\n",
      "20.0\n",
      "20.0\n",
      "20.0\n",
      "20.0\n",
      "20.0\n",
      "20.0\n",
      "20.0\n",
      "20.0\n",
      "20.0\n",
      "20.0\n",
      "20.0\n",
      "20.0\n",
      "20.0\n",
      "20.0\n",
      "20.0\n",
      "20.0\n",
      "20.0\n",
      "20.0\n",
      "20.0\n",
      "20.0\n",
      "20.0\n",
      "20.0\n",
      "20.0\n",
      "20.0\n",
      "20.0\n",
      "20.0\n",
      "20.0\n",
      "20.0\n",
      "20.0\n",
      "20.0\n",
      "20.0\n",
      "20.0\n",
      "20.0\n",
      "20.0\n",
      "20.0\n",
      "20.0\n",
      "20.0\n",
      "20.0\n",
      "20.0\n",
      "20.0\n",
      "20.0\n",
      "20.0\n",
      "20.0\n",
      "20.0\n",
      "20.0\n",
      "20.0\n",
      "20.0\n",
      "20.0\n",
      "20.0\n",
      "20.0\n",
      "20.0\n",
      "20.0\n",
      "20.0\n",
      "20.0\n",
      "20.0\n",
      "20.0\n",
      "20.0\n",
      "20.0\n",
      "20.0\n",
      "20.0\n",
      "20.0\n",
      "20.0\n",
      "20.0\n",
      "20.0\n",
      "20.0\n",
      "20.0\n",
      "20.0\n",
      "20.0\n",
      "20.0\n",
      "20.0\n",
      "20.0\n",
      "20.0\n",
      "20.0\n",
      "20.0\n",
      "20.0\n",
      "20.0\n",
      "20.0\n",
      "20.0\n",
      "20.0\n",
      "20.0\n",
      "20.0\n",
      "20.0\n",
      "20.0\n",
      "20.0\n",
      "20.0\n",
      "20.0\n",
      "20.0\n",
      "20.0\n",
      "20.0\n",
      "20.0\n",
      "20.0\n",
      "20.0\n",
      "20.0\n",
      "20.0\n",
      "20.0\n",
      "20.0\n",
      "20.0\n",
      "20.0\n",
      "20.0\n",
      "20.0\n",
      "20.0\n",
      "20.0\n",
      "20.0\n",
      "20.0\n",
      "20.0\n",
      "20.0\n",
      "20.0\n",
      "20.0\n",
      "20.0\n",
      "20.0\n",
      "20.0\n",
      "20.0\n",
      "20.0\n",
      "20.0\n",
      "20.0\n",
      "20.0\n",
      "20.0\n",
      "20.0\n",
      "20.0\n",
      "20.0\n",
      "20.0\n",
      "20.0\n",
      "20.0\n",
      "20.0\n",
      "20.0\n",
      "20.0\n",
      "20.0\n",
      "20.0\n",
      "20.0\n",
      "20.0\n",
      "20.0\n",
      "20.0\n",
      "20.0\n",
      "20.0\n",
      "20.0\n",
      "20.0\n",
      "20.0\n",
      "20.0\n",
      "20.0\n",
      "20.0\n",
      "20.0\n",
      "20.0\n",
      "20.0\n",
      "20.0\n",
      "20.0\n",
      "20.0\n",
      "20.0\n",
      "20.0\n",
      "20.0\n",
      "20.0\n",
      "20.0\n",
      "20.0\n",
      "20.0\n",
      "20.0\n",
      "20.0\n",
      "20.0\n",
      "20.0\n",
      "20.0\n",
      "20.0\n",
      "20.0\n",
      "20.0\n",
      "20.0\n",
      "20.0\n",
      "20.0\n",
      "20.0\n",
      "20.0\n",
      "20.0\n",
      "20.0\n",
      "20.0\n",
      "20.0\n",
      "20.0\n",
      "20.0\n",
      "20.0\n",
      "20.0\n",
      "20.0\n",
      "20.0\n",
      "20.0\n",
      "20.0\n",
      "20.0\n",
      "20.0\n",
      "20.0\n",
      "20.0\n",
      "20.0\n",
      "20.0\n",
      "20.0\n",
      "20.0\n",
      "20.0\n",
      "20.0\n",
      "20.0\n",
      "20.0\n",
      "20.0\n",
      "20.0\n",
      "20.0\n",
      "20.0\n",
      "20.0\n",
      "20.0\n",
      "20.0\n",
      "20.0\n",
      "20.0\n",
      "20.0\n",
      "20.0\n",
      "20.0\n",
      "20.0\n",
      "20.0\n",
      "20.0\n",
      "20.0\n",
      "20.0\n",
      "20.0\n",
      "20.0\n",
      "20.0\n",
      "20.0\n",
      "20.0\n",
      "20.0\n",
      "20.0\n",
      "20.0\n",
      "20.0\n",
      "20.0\n",
      "20.0\n",
      "20.0\n",
      "20.0\n",
      "20.0\n",
      "20.0\n",
      "20.0\n",
      "20.0\n",
      "20.0\n",
      "20.0\n",
      "20.0\n",
      "20.0\n",
      "20.0\n",
      "20.0\n",
      "20.0\n",
      "20.0\n",
      "20.0\n",
      "20.0\n",
      "20.0\n",
      "20.0\n",
      "20.0\n",
      "20.0\n",
      "20.0\n",
      "20.0\n",
      "20.0\n",
      "20.0\n",
      "20.0\n",
      "20.0\n",
      "20.0\n",
      "20.0\n",
      "20.0\n",
      "20.0\n",
      "20.0\n",
      "20.0\n",
      "20.0\n",
      "20.0\n",
      "20.0\n",
      "20.0\n",
      "20.0\n",
      "20.0\n",
      "20.0\n",
      "20.0\n",
      "20.0\n",
      "20.0\n",
      "20.0\n",
      "20.0\n",
      "20.0\n",
      "20.0\n",
      "20.0\n",
      "20.0\n",
      "20.0\n",
      "20.0\n",
      "20.0\n",
      "20.0\n",
      "20.0\n",
      "20.0\n",
      "20.0\n",
      "20.0\n",
      "20.0\n",
      "20.0\n",
      "20.0\n",
      "20.0\n",
      "20.0\n",
      "20.0\n",
      "20.0\n",
      "20.0\n",
      "20.0\n",
      "20.0\n",
      "20.0\n",
      "20.0\n",
      "20.0\n",
      "20.0\n",
      "20.0\n",
      "20.0\n",
      "20.0\n",
      "20.0\n",
      "20.0\n",
      "20.0\n",
      "20.0\n",
      "20.0\n",
      "20.0\n",
      "20.0\n",
      "20.0\n",
      "20.0\n",
      "20.0\n",
      "20.0\n",
      "20.0\n",
      "20.0\n",
      "20.0\n",
      "20.0\n",
      "20.0\n",
      "20.0\n",
      "20.0\n",
      "20.0\n",
      "20.0\n",
      "20.0\n",
      "20.0\n",
      "20.0\n",
      "20.0\n",
      "20.0\n",
      "20.0\n",
      "20.0\n",
      "20.0\n",
      "20.0\n",
      "20.0\n",
      "20.0\n",
      "20.0\n",
      "20.0\n",
      "20.0\n",
      "20.0\n",
      "20.0\n",
      "20.0\n",
      "20.0\n",
      "20.0\n",
      "20.0\n",
      "20.0\n",
      "20.0\n",
      "20.0\n",
      "20.0\n",
      "20.0\n",
      "20.0\n",
      "20.0\n",
      "20.0\n",
      "20.0\n",
      "20.0\n",
      "20.0\n",
      "20.0\n",
      "20.0\n",
      "20.0\n",
      "20.0\n",
      "20.0\n",
      "20.0\n",
      "20.0\n",
      "20.0\n",
      "20.0\n",
      "20.0\n",
      "20.0\n",
      "20.0\n",
      "20.0\n",
      "20.0\n",
      "20.0\n",
      "20.0\n",
      "20.0\n",
      "20.0\n",
      "20.0\n",
      "20.0\n",
      "20.0\n",
      "20.0\n",
      "20.0\n",
      "20.0\n",
      "20.0\n",
      "20.0\n",
      "20.0\n",
      "20.0\n",
      "20.0\n",
      "20.0\n",
      "20.0\n",
      "20.0\n",
      "20.0\n",
      "20.0\n",
      "20.0\n",
      "20.0\n",
      "20.0\n",
      "20.0\n",
      "20.0\n",
      "20.0\n",
      "20.0\n",
      "20.0\n",
      "20.0\n",
      "20.0\n",
      "20.0\n",
      "20.0\n",
      "20.0\n",
      "20.0\n",
      "20.0\n",
      "20.0\n",
      "20.0\n",
      "20.0\n",
      "20.0\n",
      "20.0\n",
      "20.0\n",
      "20.0\n",
      "20.0\n",
      "20.0\n",
      "20.0\n",
      "20.0\n",
      "20.0\n",
      "20.0\n",
      "20.0\n",
      "20.0\n",
      "20.0\n",
      "20.0\n",
      "20.0\n",
      "20.0\n",
      "20.0\n",
      "20.0\n",
      "20.0\n",
      "20.0\n",
      "20.0\n",
      "20.0\n",
      "20.0\n",
      "20.0\n",
      "20.0\n",
      "20.0\n",
      "20.0\n",
      "20.0\n",
      "20.0\n",
      "20.0\n",
      "20.0\n",
      "20.0\n",
      "20.0\n",
      "20.0\n",
      "20.0\n",
      "20.0\n",
      "20.0\n",
      "20.0\n",
      "20.0\n",
      "20.0\n",
      "20.0\n",
      "20.0\n",
      "20.0\n",
      "20.0\n",
      "20.0\n",
      "20.0\n",
      "20.0\n",
      "20.0\n",
      "20.0\n",
      "20.0\n",
      "20.0\n",
      "20.0\n",
      "20.0\n",
      "20.0\n",
      "20.0\n",
      "20.0\n",
      "20.0\n",
      "20.0\n",
      "20.0\n",
      "20.0\n",
      "20.0\n",
      "20.0\n",
      "20.0\n",
      "20.0\n",
      "20.0\n",
      "20.0\n",
      "20.0\n",
      "20.0\n",
      "20.0\n",
      "20.0\n",
      "20.0\n",
      "20.0\n",
      "20.0\n",
      "20.0\n",
      "20.0\n",
      "20.0\n",
      "20.0\n",
      "20.0\n",
      "20.0\n",
      "20.0\n",
      "20.0\n",
      "20.0\n",
      "20.0\n",
      "20.0\n",
      "20.0\n",
      "20.0\n",
      "20.0\n",
      "20.0\n",
      "20.0\n",
      "20.0\n",
      "20.0\n",
      "20.0\n",
      "20.0\n",
      "20.0\n",
      "20.0\n",
      "20.0\n",
      "20.0\n",
      "20.0\n",
      "20.0\n",
      "20.0\n",
      "20.0\n",
      "20.0\n",
      "20.0\n",
      "20.0\n",
      "20.0\n",
      "20.0\n",
      "20.0\n",
      "20.0\n",
      "20.0\n",
      "20.0\n",
      "20.0\n",
      "20.0\n",
      "20.0\n",
      "20.0\n",
      "20.0\n",
      "20.0\n",
      "20.0\n",
      "20.0\n",
      "20.0\n",
      "20.0\n",
      "20.0\n",
      "20.0\n",
      "20.0\n",
      "20.0\n",
      "20.0\n",
      "20.0\n",
      "20.0\n",
      "20.0\n",
      "20.0\n",
      "20.0\n",
      "20.0\n",
      "20.0\n",
      "20.0\n",
      "20.0\n",
      "20.0\n",
      "20.0\n",
      "20.0\n",
      "20.0\n",
      "20.0\n",
      "20.0\n",
      "20.0\n",
      "20.0\n",
      "20.0\n",
      "20.0\n",
      "20.0\n",
      "20.0\n",
      "20.0\n",
      "20.0\n",
      "20.0\n",
      "20.0\n",
      "20.0\n",
      "20.0\n",
      "20.0\n",
      "20.0\n",
      "20.0\n",
      "20.0\n",
      "20.0\n",
      "20.0\n",
      "20.0\n",
      "20.0\n",
      "20.0\n",
      "20.0\n",
      "20.0\n",
      "20.0\n",
      "20.0\n",
      "20.0\n",
      "20.0\n",
      "20.0\n",
      "20.0\n",
      "20.0\n",
      "20.0\n",
      "20.0\n",
      "20.0\n",
      "20.0\n",
      "20.0\n",
      "20.0\n",
      "20.0\n",
      "20.0\n",
      "20.0\n",
      "20.0\n",
      "20.0\n",
      "20.0\n",
      "20.0\n",
      "20.0\n",
      "20.0\n",
      "20.0\n",
      "20.0\n",
      "20.0\n",
      "20.0\n",
      "20.0\n",
      "20.0\n",
      "20.0\n",
      "20.0\n",
      "20.0\n",
      "20.0\n",
      "20.0\n",
      "20.0\n",
      "20.0\n",
      "20.0\n",
      "20.0\n",
      "20.0\n",
      "20.0\n",
      "20.0\n",
      "20.0\n",
      "20.0\n",
      "20.0\n",
      "20.0\n",
      "20.0\n",
      "20.0\n",
      "20.0\n",
      "20.0\n",
      "20.0\n",
      "20.0\n",
      "20.0\n",
      "20.0\n",
      "20.0\n",
      "20.0\n",
      "20.0\n",
      "20.0\n",
      "20.0\n",
      "20.0\n",
      "20.0\n",
      "20.0\n",
      "20.0\n",
      "20.0\n",
      "20.0\n",
      "20.0\n",
      "20.0\n",
      "20.0\n",
      "20.0\n",
      "20.0\n",
      "20.0\n",
      "20.0\n",
      "20.0\n",
      "20.0\n",
      "20.0\n",
      "20.0\n",
      "20.0\n",
      "20.0\n",
      "20.0\n",
      "20.0\n",
      "20.0\n",
      "20.0\n",
      "20.0\n",
      "20.0\n",
      "20.0\n",
      "20.0\n",
      "20.0\n",
      "20.0\n",
      "20.0\n",
      "20.0\n",
      "20.0\n",
      "20.0\n",
      "20.0\n",
      "20.0\n",
      "20.0\n",
      "20.0\n",
      "20.0\n",
      "20.0\n",
      "20.0\n",
      "20.0\n",
      "20.0\n",
      "20.0\n",
      "20.0\n",
      "20.0\n",
      "20.0\n",
      "20.0\n",
      "20.0\n",
      "20.0\n",
      "20.0\n",
      "20.0\n",
      "20.0\n",
      "20.0\n",
      "20.0\n",
      "20.0\n",
      "20.0\n",
      "20.0\n",
      "20.0\n",
      "20.0\n",
      "20.0\n",
      "20.0\n",
      "20.0\n",
      "20.0\n",
      "20.0\n",
      "20.0\n",
      "20.0\n",
      "20.0\n",
      "20.0\n",
      "20.0\n",
      "20.0\n",
      "20.0\n",
      "20.0\n",
      "20.0\n",
      "20.0\n",
      "20.0\n",
      "20.0\n",
      "20.0\n",
      "20.0\n",
      "20.0\n",
      "20.0\n",
      "20.0\n",
      "20.0\n",
      "20.0\n",
      "20.0\n",
      "20.0\n",
      "20.0\n",
      "20.0\n",
      "20.0\n",
      "20.0\n",
      "20.0\n",
      "20.0\n",
      "20.0\n",
      "20.0\n",
      "20.0\n",
      "20.0\n",
      "20.0\n",
      "20.0\n",
      "20.0\n",
      "20.0\n",
      "20.0\n",
      "20.0\n",
      "20.0\n",
      "20.0\n",
      "20.0\n",
      "20.0\n",
      "20.0\n",
      "20.0\n",
      "20.0\n",
      "20.0\n",
      "20.0\n",
      "20.0\n",
      "20.0\n",
      "20.0\n",
      "20.0\n",
      "20.0\n",
      "20.0\n",
      "20.0\n",
      "20.0\n",
      "20.0\n",
      "20.0\n",
      "20.0\n",
      "20.0\n",
      "20.0\n",
      "20.0\n",
      "20.0\n",
      "20.0\n",
      "20.0\n",
      "20.0\n",
      "20.0\n",
      "20.0\n",
      "20.0\n",
      "20.0\n",
      "20.0\n",
      "20.0\n",
      "20.0\n",
      "20.0\n",
      "20.0\n",
      "20.0\n",
      "20.0\n",
      "20.0\n",
      "20.0\n",
      "20.0\n",
      "20.0\n",
      "20.0\n",
      "20.0\n",
      "20.0\n",
      "20.0\n",
      "20.0\n",
      "20.0\n",
      "20.0\n",
      "20.0\n",
      "20.0\n",
      "20.0\n",
      "20.0\n",
      "20.0\n",
      "20.0\n",
      "20.0\n",
      "20.0\n",
      "20.0\n",
      "20.0\n",
      "20.0\n",
      "20.0\n",
      "20.0\n",
      "20.0\n",
      "20.0\n",
      "20.0\n",
      "20.0\n",
      "20.0\n",
      "20.0\n",
      "20.0\n",
      "20.0\n",
      "20.0\n",
      "20.0\n",
      "20.0\n",
      "20.0\n",
      "20.0\n",
      "20.0\n",
      "20.0\n",
      "20.0\n",
      "20.0\n",
      "20.0\n",
      "20.0\n",
      "20.0\n",
      "20.0\n",
      "20.0\n",
      "20.0\n",
      "20.0\n",
      "20.0\n",
      "20.0\n",
      "20.0\n",
      "20.0\n",
      "20.0\n",
      "20.0\n",
      "20.0\n",
      "20.0\n",
      "20.0\n",
      "20.0\n",
      "20.0\n",
      "20.0\n",
      "20.0\n",
      "20.0\n",
      "20.0\n",
      "20.0\n",
      "20.0\n",
      "20.0\n",
      "20.0\n",
      "20.0\n",
      "20.0\n",
      "20.0\n",
      "20.0\n",
      "20.0\n",
      "20.0\n",
      "20.0\n",
      "20.0\n",
      "20.0\n",
      "20.0\n",
      "20.0\n",
      "20.0\n",
      "20.0\n",
      "20.0\n",
      "20.0\n",
      "20.0\n",
      "20.0\n",
      "20.0\n",
      "20.0\n",
      "20.0\n",
      "20.0\n",
      "20.0\n",
      "20.0\n",
      "20.0\n",
      "20.0\n",
      "20.0\n",
      "20.0\n",
      "20.0\n",
      "20.0\n",
      "20.0\n",
      "20.0\n",
      "20.0\n",
      "20.0\n",
      "20.0\n",
      "20.0\n",
      "20.0\n",
      "20.0\n",
      "20.0\n",
      "20.0\n",
      "20.0\n",
      "20.0\n",
      "20.0\n",
      "20.0\n",
      "20.0\n",
      "20.0\n",
      "20.0\n",
      "20.0\n",
      "20.0\n",
      "20.0\n",
      "20.0\n",
      "20.0\n",
      "20.0\n",
      "20.0\n",
      "20.0\n",
      "20.0\n",
      "20.0\n",
      "20.0\n",
      "20.0\n",
      "20.0\n",
      "20.0\n"
     ]
    }
   ],
   "source": [
    "a = 0\n",
    "i = 10\n",
    "while (i > 0):\n",
    "    \n",
    "    a += i\n",
    "    i /= 2\n",
    "    print(a)"
   ]
  },
  {
   "cell_type": "code",
   "execution_count": 13,
   "id": "1a3711e6",
   "metadata": {},
   "outputs": [
    {
     "name": "stdout",
     "output_type": "stream",
     "text": [
      "5\n",
      "40\n",
      "3\n",
      "65\n",
      "33\n",
      "21\n",
      "avg is 32\n",
      "2\n",
      "99\n"
     ]
    }
   ],
   "source": [
    "n=int(input())\n",
    "l=[]\n",
    "for i in range(n):\n",
    "    budget=int(input())\n",
    "    l.append(budget)\n",
    "l.sort()\n",
    "avg=sum(l)//len(l)\n",
    "print('avg is',avg)\n",
    "sum1=0\n",
    "for i in range(len(l)):\n",
    "    if (l[i]>=avg):\n",
    "        k=i\n",
    "        break\n",
    "print(k)\n",
    "for i in range(k,len(l)):\n",
    "    sum1+=l[k]\n",
    "    #print\n",
    "print(sum1)\n",
    "    \n",
    "    \n",
    "    "
   ]
  },
  {
   "cell_type": "code",
   "execution_count": 10,
   "id": "3d009279",
   "metadata": {},
   "outputs": [
    {
     "data": {
      "text/plain": [
       "162"
      ]
     },
     "execution_count": 10,
     "metadata": {},
     "output_type": "execute_result"
    }
   ],
   "source": [
    "5\n",
    "40\n",
    "3\n",
    "65\n",
    "33\n",
    "21\n",
    "sum([40,3,65,33,21])"
   ]
  },
  {
   "cell_type": "code",
   "execution_count": 11,
   "id": "ce750399",
   "metadata": {},
   "outputs": [
    {
     "data": {
      "text/plain": [
       "32.4"
      ]
     },
     "execution_count": 11,
     "metadata": {},
     "output_type": "execute_result"
    }
   ],
   "source": [
    "162/5\n"
   ]
  },
  {
   "cell_type": "code",
   "execution_count": 15,
   "id": "92be63f3",
   "metadata": {},
   "outputs": [
    {
     "name": "stdout",
     "output_type": "stream",
     "text": [
      "[76, 42, 7, 5, 3, 1]\n"
     ]
    }
   ],
   "source": [
    "ar=sorted([7,5,3,42,1,76])[::-1]\n",
    "print(ar)"
   ]
  },
  {
   "cell_type": "code",
   "execution_count": 17,
   "id": "b2974673",
   "metadata": {},
   "outputs": [
    {
     "ename": "KeyboardInterrupt",
     "evalue": "Interrupted by user",
     "output_type": "error",
     "traceback": [
      "\u001b[1;31m---------------------------------------------------------------------------\u001b[0m",
      "\u001b[1;31mKeyboardInterrupt\u001b[0m                         Traceback (most recent call last)",
      "\u001b[1;32m~\\AppData\\Local\\Temp/ipykernel_20764/2567796527.py\u001b[0m in \u001b[0;36m<module>\u001b[1;34m\u001b[0m\n\u001b[1;32m----> 1\u001b[1;33m \u001b[0mt\u001b[0m\u001b[1;33m=\u001b[0m\u001b[0mint\u001b[0m\u001b[1;33m(\u001b[0m\u001b[0minput\u001b[0m\u001b[1;33m(\u001b[0m\u001b[1;33m)\u001b[0m\u001b[1;33m)\u001b[0m\u001b[1;33m\u001b[0m\u001b[1;33m\u001b[0m\u001b[0m\n\u001b[0m\u001b[0;32m      2\u001b[0m \u001b[0marr\u001b[0m\u001b[1;33m=\u001b[0m\u001b[1;33m[\u001b[0m\u001b[1;33m]\u001b[0m\u001b[1;33m\u001b[0m\u001b[1;33m\u001b[0m\u001b[0m\n\u001b[0;32m      3\u001b[0m \u001b[1;32mfor\u001b[0m \u001b[0mi\u001b[0m \u001b[1;32min\u001b[0m \u001b[0mrange\u001b[0m\u001b[1;33m(\u001b[0m\u001b[0mt\u001b[0m\u001b[1;33m)\u001b[0m\u001b[1;33m:\u001b[0m\u001b[1;33m\u001b[0m\u001b[1;33m\u001b[0m\u001b[0m\n\u001b[0;32m      4\u001b[0m     \u001b[0marr\u001b[0m\u001b[1;33m.\u001b[0m\u001b[0mappend\u001b[0m\u001b[1;33m(\u001b[0m\u001b[0mint\u001b[0m\u001b[1;33m(\u001b[0m\u001b[0minput\u001b[0m\u001b[1;33m(\u001b[0m\u001b[1;33m)\u001b[0m\u001b[1;33m)\u001b[0m\u001b[1;33m)\u001b[0m\u001b[1;33m\u001b[0m\u001b[1;33m\u001b[0m\u001b[0m\n\u001b[0;32m      5\u001b[0m \u001b[0marr\u001b[0m\u001b[1;33m=\u001b[0m\u001b[0msorted\u001b[0m\u001b[1;33m(\u001b[0m\u001b[0marr\u001b[0m\u001b[1;33m)\u001b[0m\u001b[1;33m[\u001b[0m\u001b[1;33m:\u001b[0m\u001b[1;33m:\u001b[0m\u001b[1;33m-\u001b[0m\u001b[1;36m1\u001b[0m\u001b[1;33m]\u001b[0m\u001b[1;33m\u001b[0m\u001b[1;33m\u001b[0m\u001b[0m\n",
      "\u001b[1;32m~\\anaconda3\\lib\\site-packages\\ipykernel\\kernelbase.py\u001b[0m in \u001b[0;36mraw_input\u001b[1;34m(self, prompt)\u001b[0m\n\u001b[0;32m   1004\u001b[0m                 \u001b[1;34m\"raw_input was called, but this frontend does not support input requests.\"\u001b[0m\u001b[1;33m\u001b[0m\u001b[1;33m\u001b[0m\u001b[0m\n\u001b[0;32m   1005\u001b[0m             )\n\u001b[1;32m-> 1006\u001b[1;33m         return self._input_request(\n\u001b[0m\u001b[0;32m   1007\u001b[0m             \u001b[0mstr\u001b[0m\u001b[1;33m(\u001b[0m\u001b[0mprompt\u001b[0m\u001b[1;33m)\u001b[0m\u001b[1;33m,\u001b[0m\u001b[1;33m\u001b[0m\u001b[1;33m\u001b[0m\u001b[0m\n\u001b[0;32m   1008\u001b[0m             \u001b[0mself\u001b[0m\u001b[1;33m.\u001b[0m\u001b[0m_parent_ident\u001b[0m\u001b[1;33m[\u001b[0m\u001b[1;34m\"shell\"\u001b[0m\u001b[1;33m]\u001b[0m\u001b[1;33m,\u001b[0m\u001b[1;33m\u001b[0m\u001b[1;33m\u001b[0m\u001b[0m\n",
      "\u001b[1;32m~\\anaconda3\\lib\\site-packages\\ipykernel\\kernelbase.py\u001b[0m in \u001b[0;36m_input_request\u001b[1;34m(self, prompt, ident, parent, password)\u001b[0m\n\u001b[0;32m   1049\u001b[0m             \u001b[1;32mexcept\u001b[0m \u001b[0mKeyboardInterrupt\u001b[0m\u001b[1;33m:\u001b[0m\u001b[1;33m\u001b[0m\u001b[1;33m\u001b[0m\u001b[0m\n\u001b[0;32m   1050\u001b[0m                 \u001b[1;31m# re-raise KeyboardInterrupt, to truncate traceback\u001b[0m\u001b[1;33m\u001b[0m\u001b[1;33m\u001b[0m\u001b[0m\n\u001b[1;32m-> 1051\u001b[1;33m                 \u001b[1;32mraise\u001b[0m \u001b[0mKeyboardInterrupt\u001b[0m\u001b[1;33m(\u001b[0m\u001b[1;34m\"Interrupted by user\"\u001b[0m\u001b[1;33m)\u001b[0m \u001b[1;32mfrom\u001b[0m \u001b[1;32mNone\u001b[0m\u001b[1;33m\u001b[0m\u001b[1;33m\u001b[0m\u001b[0m\n\u001b[0m\u001b[0;32m   1052\u001b[0m             \u001b[1;32mexcept\u001b[0m \u001b[0mException\u001b[0m\u001b[1;33m:\u001b[0m\u001b[1;33m\u001b[0m\u001b[1;33m\u001b[0m\u001b[0m\n\u001b[0;32m   1053\u001b[0m                 \u001b[0mself\u001b[0m\u001b[1;33m.\u001b[0m\u001b[0mlog\u001b[0m\u001b[1;33m.\u001b[0m\u001b[0mwarning\u001b[0m\u001b[1;33m(\u001b[0m\u001b[1;34m\"Invalid Message:\"\u001b[0m\u001b[1;33m,\u001b[0m \u001b[0mexc_info\u001b[0m\u001b[1;33m=\u001b[0m\u001b[1;32mTrue\u001b[0m\u001b[1;33m)\u001b[0m\u001b[1;33m\u001b[0m\u001b[1;33m\u001b[0m\u001b[0m\n",
      "\u001b[1;31mKeyboardInterrupt\u001b[0m: Interrupted by user"
     ]
    }
   ],
   "source": [
    "t=int(input())\n",
    "arr=[]\n",
    "for i in range(t):\n",
    "    arr.append(int(input()))\n",
    "arr=sorted(arr)[::-1]\n",
    "mx=0\n",
    "for i in range(len(arr)):\n",
    "    ans=(i+1)*arr[i]\n",
    "    mx=max(mx,ans)\n",
    "print(mx)"
   ]
  },
  {
   "cell_type": "code",
   "execution_count": 23,
   "id": "c823cc4e",
   "metadata": {},
   "outputs": [
    {
     "name": "stdout",
     "output_type": "stream",
     "text": [
      "3\n",
      "20\n",
      "30\n",
      "40\n",
      "60\n"
     ]
    }
   ],
   "source": [
    "t=int(input())\n",
    "l=[]\n",
    "for i in range(t):\n",
    "    m=int(input())\n",
    "    l.append(m)\n",
    "l.sort()\n",
    "l1=[]\n",
    "for i in range(len(l)):\n",
    "    l1.append(l[i]*(len(l)-i))\n",
    "#print(l1)\n",
    "print(max(l1))"
   ]
  },
  {
   "cell_type": "code",
   "execution_count": 1,
   "id": "23302ebf",
   "metadata": {},
   "outputs": [],
   "source": [
    "def list2str(l):\n",
    "    s=''\n",
    "    for ele in l:\n",
    "        s+=ele\n",
    "    return s\n"
   ]
  },
  {
   "cell_type": "code",
   "execution_count": 3,
   "id": "a4d44772",
   "metadata": {},
   "outputs": [
    {
     "data": {
      "text/plain": [
       "'123'"
      ]
     },
     "execution_count": 3,
     "metadata": {},
     "output_type": "execute_result"
    }
   ],
   "source": [
    "list2str(['1','2','3'])"
   ]
  },
  {
   "cell_type": "code",
   "execution_count": 4,
   "id": "56667bab",
   "metadata": {},
   "outputs": [
    {
     "ename": "KeyboardInterrupt",
     "evalue": "Interrupted by user",
     "output_type": "error",
     "traceback": [
      "\u001b[1;31m---------------------------------------------------------------------------\u001b[0m",
      "\u001b[1;31mKeyboardInterrupt\u001b[0m                         Traceback (most recent call last)",
      "\u001b[1;32m~\\AppData\\Local\\Temp/ipykernel_29484/1758786670.py\u001b[0m in \u001b[0;36m<module>\u001b[1;34m\u001b[0m\n\u001b[0;32m      1\u001b[0m \u001b[1;31m# cook your dish here\u001b[0m\u001b[1;33m\u001b[0m\u001b[1;33m\u001b[0m\u001b[0m\n\u001b[1;32m----> 2\u001b[1;33m \u001b[0mr\u001b[0m\u001b[1;33m=\u001b[0m\u001b[0mint\u001b[0m\u001b[1;33m(\u001b[0m\u001b[0minput\u001b[0m\u001b[1;33m(\u001b[0m\u001b[1;33m)\u001b[0m\u001b[1;33m)\u001b[0m\u001b[1;33m\u001b[0m\u001b[1;33m\u001b[0m\u001b[0m\n\u001b[0m\u001b[0;32m      3\u001b[0m \u001b[1;32mfor\u001b[0m \u001b[0mi\u001b[0m \u001b[1;32min\u001b[0m \u001b[0mrange\u001b[0m\u001b[1;33m(\u001b[0m\u001b[0mr\u001b[0m\u001b[1;33m)\u001b[0m\u001b[1;33m:\u001b[0m\u001b[1;33m\u001b[0m\u001b[1;33m\u001b[0m\u001b[0m\n\u001b[0;32m      4\u001b[0m     \u001b[0ml\u001b[0m\u001b[1;33m=\u001b[0m\u001b[0mint\u001b[0m\u001b[1;33m(\u001b[0m\u001b[0minput\u001b[0m\u001b[1;33m(\u001b[0m\u001b[1;33m)\u001b[0m\u001b[1;33m)\u001b[0m\u001b[1;33m\u001b[0m\u001b[1;33m\u001b[0m\u001b[0m\n\u001b[0;32m      5\u001b[0m     \u001b[0mn\u001b[0m\u001b[1;33m=\u001b[0m\u001b[0minput\u001b[0m\u001b[1;33m(\u001b[0m\u001b[1;33m)\u001b[0m\u001b[1;33m\u001b[0m\u001b[1;33m\u001b[0m\u001b[0m\n",
      "\u001b[1;32m~\\anaconda3\\lib\\site-packages\\ipykernel\\kernelbase.py\u001b[0m in \u001b[0;36mraw_input\u001b[1;34m(self, prompt)\u001b[0m\n\u001b[0;32m   1004\u001b[0m                 \u001b[1;34m\"raw_input was called, but this frontend does not support input requests.\"\u001b[0m\u001b[1;33m\u001b[0m\u001b[1;33m\u001b[0m\u001b[0m\n\u001b[0;32m   1005\u001b[0m             )\n\u001b[1;32m-> 1006\u001b[1;33m         return self._input_request(\n\u001b[0m\u001b[0;32m   1007\u001b[0m             \u001b[0mstr\u001b[0m\u001b[1;33m(\u001b[0m\u001b[0mprompt\u001b[0m\u001b[1;33m)\u001b[0m\u001b[1;33m,\u001b[0m\u001b[1;33m\u001b[0m\u001b[1;33m\u001b[0m\u001b[0m\n\u001b[0;32m   1008\u001b[0m             \u001b[0mself\u001b[0m\u001b[1;33m.\u001b[0m\u001b[0m_parent_ident\u001b[0m\u001b[1;33m[\u001b[0m\u001b[1;34m\"shell\"\u001b[0m\u001b[1;33m]\u001b[0m\u001b[1;33m,\u001b[0m\u001b[1;33m\u001b[0m\u001b[1;33m\u001b[0m\u001b[0m\n",
      "\u001b[1;32m~\\anaconda3\\lib\\site-packages\\ipykernel\\kernelbase.py\u001b[0m in \u001b[0;36m_input_request\u001b[1;34m(self, prompt, ident, parent, password)\u001b[0m\n\u001b[0;32m   1049\u001b[0m             \u001b[1;32mexcept\u001b[0m \u001b[0mKeyboardInterrupt\u001b[0m\u001b[1;33m:\u001b[0m\u001b[1;33m\u001b[0m\u001b[1;33m\u001b[0m\u001b[0m\n\u001b[0;32m   1050\u001b[0m                 \u001b[1;31m# re-raise KeyboardInterrupt, to truncate traceback\u001b[0m\u001b[1;33m\u001b[0m\u001b[1;33m\u001b[0m\u001b[0m\n\u001b[1;32m-> 1051\u001b[1;33m                 \u001b[1;32mraise\u001b[0m \u001b[0mKeyboardInterrupt\u001b[0m\u001b[1;33m(\u001b[0m\u001b[1;34m\"Interrupted by user\"\u001b[0m\u001b[1;33m)\u001b[0m \u001b[1;32mfrom\u001b[0m \u001b[1;32mNone\u001b[0m\u001b[1;33m\u001b[0m\u001b[1;33m\u001b[0m\u001b[0m\n\u001b[0m\u001b[0;32m   1052\u001b[0m             \u001b[1;32mexcept\u001b[0m \u001b[0mException\u001b[0m\u001b[1;33m:\u001b[0m\u001b[1;33m\u001b[0m\u001b[1;33m\u001b[0m\u001b[0m\n\u001b[0;32m   1053\u001b[0m                 \u001b[0mself\u001b[0m\u001b[1;33m.\u001b[0m\u001b[0mlog\u001b[0m\u001b[1;33m.\u001b[0m\u001b[0mwarning\u001b[0m\u001b[1;33m(\u001b[0m\u001b[1;34m\"Invalid Message:\"\u001b[0m\u001b[1;33m,\u001b[0m \u001b[0mexc_info\u001b[0m\u001b[1;33m=\u001b[0m\u001b[1;32mTrue\u001b[0m\u001b[1;33m)\u001b[0m\u001b[1;33m\u001b[0m\u001b[1;33m\u001b[0m\u001b[0m\n",
      "\u001b[1;31mKeyboardInterrupt\u001b[0m: Interrupted by user"
     ]
    }
   ],
   "source": [
    "# cook your dish here\n",
    "r=int(input())\n",
    "for i in range(r):\n",
    "    l=int(input())\n",
    "    n=input()\n",
    "    if (len(n)==l):\n",
    "        l_n=list(n)\n",
    "        for i in range(l):\n",
    "            if()\n",
    "            \n",
    "    \n",
    "        "
   ]
  },
  {
   "cell_type": "code",
   "execution_count": null,
   "id": "8421a30f",
   "metadata": {},
   "outputs": [],
   "source": [
    "a valid report would be something like \"..H..T...HTH....T.\", or \"...\", or \"HT\", whereas \"T...H..H.T\", \"H..T..H\", \"H..H..T..T\" would be invalid reports"
   ]
  },
  {
   "cell_type": "code",
   "execution_count": 5,
   "id": "2973ea29",
   "metadata": {},
   "outputs": [
    {
     "name": "stdout",
     "output_type": "stream",
     "text": [
      "['m', 'o', 'h', 'i', 't']\n"
     ]
    }
   ],
   "source": [
    "a=list('mohit')\n",
    "print(a)"
   ]
  },
  {
   "cell_type": "code",
   "execution_count": 6,
   "id": "43cd2dff",
   "metadata": {},
   "outputs": [
    {
     "ename": "KeyboardInterrupt",
     "evalue": "Interrupted by user",
     "output_type": "error",
     "traceback": [
      "\u001b[1;31m---------------------------------------------------------------------------\u001b[0m",
      "\u001b[1;31mKeyboardInterrupt\u001b[0m                         Traceback (most recent call last)",
      "\u001b[1;32m~\\AppData\\Local\\Temp/ipykernel_29484/683062888.py\u001b[0m in \u001b[0;36m<module>\u001b[1;34m\u001b[0m\n\u001b[0;32m      1\u001b[0m \u001b[1;31m# cook your dish here\u001b[0m\u001b[1;33m\u001b[0m\u001b[1;33m\u001b[0m\u001b[0m\n\u001b[1;32m----> 2\u001b[1;33m \u001b[1;32mfor\u001b[0m \u001b[0m_\u001b[0m \u001b[1;32min\u001b[0m \u001b[0mrange\u001b[0m\u001b[1;33m(\u001b[0m\u001b[0mint\u001b[0m\u001b[1;33m(\u001b[0m\u001b[0minput\u001b[0m\u001b[1;33m(\u001b[0m\u001b[1;33m)\u001b[0m\u001b[1;33m)\u001b[0m\u001b[1;33m)\u001b[0m\u001b[1;33m:\u001b[0m\u001b[1;33m\u001b[0m\u001b[1;33m\u001b[0m\u001b[0m\n\u001b[0m\u001b[0;32m      3\u001b[0m     \u001b[0ml\u001b[0m\u001b[1;33m=\u001b[0m\u001b[0mint\u001b[0m\u001b[1;33m(\u001b[0m\u001b[0minput\u001b[0m\u001b[1;33m(\u001b[0m\u001b[1;33m)\u001b[0m\u001b[1;33m)\u001b[0m\u001b[1;33m\u001b[0m\u001b[1;33m\u001b[0m\u001b[0m\n\u001b[0;32m      4\u001b[0m     \u001b[0ms\u001b[0m\u001b[1;33m=\u001b[0m\u001b[0minput\u001b[0m\u001b[1;33m(\u001b[0m\u001b[1;33m)\u001b[0m\u001b[1;33m\u001b[0m\u001b[1;33m\u001b[0m\u001b[0m\n\u001b[0;32m      5\u001b[0m     \u001b[0mt\u001b[0m\u001b[1;33m=\u001b[0m\u001b[0ms\u001b[0m\u001b[1;33m.\u001b[0m\u001b[0mreplace\u001b[0m\u001b[1;33m(\u001b[0m\u001b[1;34m'.'\u001b[0m\u001b[1;33m,\u001b[0m\u001b[1;34m''\u001b[0m\u001b[1;33m)\u001b[0m\u001b[1;33m\u001b[0m\u001b[1;33m\u001b[0m\u001b[0m\n",
      "\u001b[1;32m~\\anaconda3\\lib\\site-packages\\ipykernel\\kernelbase.py\u001b[0m in \u001b[0;36mraw_input\u001b[1;34m(self, prompt)\u001b[0m\n\u001b[0;32m   1004\u001b[0m                 \u001b[1;34m\"raw_input was called, but this frontend does not support input requests.\"\u001b[0m\u001b[1;33m\u001b[0m\u001b[1;33m\u001b[0m\u001b[0m\n\u001b[0;32m   1005\u001b[0m             )\n\u001b[1;32m-> 1006\u001b[1;33m         return self._input_request(\n\u001b[0m\u001b[0;32m   1007\u001b[0m             \u001b[0mstr\u001b[0m\u001b[1;33m(\u001b[0m\u001b[0mprompt\u001b[0m\u001b[1;33m)\u001b[0m\u001b[1;33m,\u001b[0m\u001b[1;33m\u001b[0m\u001b[1;33m\u001b[0m\u001b[0m\n\u001b[0;32m   1008\u001b[0m             \u001b[0mself\u001b[0m\u001b[1;33m.\u001b[0m\u001b[0m_parent_ident\u001b[0m\u001b[1;33m[\u001b[0m\u001b[1;34m\"shell\"\u001b[0m\u001b[1;33m]\u001b[0m\u001b[1;33m,\u001b[0m\u001b[1;33m\u001b[0m\u001b[1;33m\u001b[0m\u001b[0m\n",
      "\u001b[1;32m~\\anaconda3\\lib\\site-packages\\ipykernel\\kernelbase.py\u001b[0m in \u001b[0;36m_input_request\u001b[1;34m(self, prompt, ident, parent, password)\u001b[0m\n\u001b[0;32m   1049\u001b[0m             \u001b[1;32mexcept\u001b[0m \u001b[0mKeyboardInterrupt\u001b[0m\u001b[1;33m:\u001b[0m\u001b[1;33m\u001b[0m\u001b[1;33m\u001b[0m\u001b[0m\n\u001b[0;32m   1050\u001b[0m                 \u001b[1;31m# re-raise KeyboardInterrupt, to truncate traceback\u001b[0m\u001b[1;33m\u001b[0m\u001b[1;33m\u001b[0m\u001b[0m\n\u001b[1;32m-> 1051\u001b[1;33m                 \u001b[1;32mraise\u001b[0m \u001b[0mKeyboardInterrupt\u001b[0m\u001b[1;33m(\u001b[0m\u001b[1;34m\"Interrupted by user\"\u001b[0m\u001b[1;33m)\u001b[0m \u001b[1;32mfrom\u001b[0m \u001b[1;32mNone\u001b[0m\u001b[1;33m\u001b[0m\u001b[1;33m\u001b[0m\u001b[0m\n\u001b[0m\u001b[0;32m   1052\u001b[0m             \u001b[1;32mexcept\u001b[0m \u001b[0mException\u001b[0m\u001b[1;33m:\u001b[0m\u001b[1;33m\u001b[0m\u001b[1;33m\u001b[0m\u001b[0m\n\u001b[0;32m   1053\u001b[0m                 \u001b[0mself\u001b[0m\u001b[1;33m.\u001b[0m\u001b[0mlog\u001b[0m\u001b[1;33m.\u001b[0m\u001b[0mwarning\u001b[0m\u001b[1;33m(\u001b[0m\u001b[1;34m\"Invalid Message:\"\u001b[0m\u001b[1;33m,\u001b[0m \u001b[0mexc_info\u001b[0m\u001b[1;33m=\u001b[0m\u001b[1;32mTrue\u001b[0m\u001b[1;33m)\u001b[0m\u001b[1;33m\u001b[0m\u001b[1;33m\u001b[0m\u001b[0m\n",
      "\u001b[1;31mKeyboardInterrupt\u001b[0m: Interrupted by user"
     ]
    }
   ],
   "source": [
    "# cook your dish here\n",
    "for _ in range(int(input())):\n",
    "    l=int(input())\n",
    "    s=input()\n",
    "    t=s.replace('.','')\n",
    "    m,c=0,0\n",
    "    while(m<(len(t)-1)):\n",
    "        if(t[m]=='H' and t[m+1]=='T'):\n",
    "            c=c+1 \n",
    "        m+=2 \n",
    "    if(c==(len(t)/2)):\n",
    "        print('Valid')\n",
    "    else:\n",
    "        print('Invalid')"
   ]
  },
  {
   "cell_type": "code",
   "execution_count": 7,
   "id": "8a9322b7",
   "metadata": {},
   "outputs": [],
   "source": [
    "def insert(self,v):\n",
    "    if self.isempty():\n",
    "        self.value = v\n",
    "        self.height = 1\n",
    "        self.right = AVLTree()\n",
    "        self.left = AVLTree()\n",
    "        self.rebalance(v)\n",
    "        \n",
    "    elif self.value == v:\n",
    "        return\n",
    "        \n",
    "    elif v < self.value:\n",
    "        self.left.insert(v)\n",
    "        self.rebalance(v)\n",
    "        return\n",
    "            \n",
    "        \n",
    "    elif v > self.value:\n",
    "        self.right.insert(v)\n",
    "        self.rebalance(v)\n",
    "        return\n",
    "\n",
    "def calc_height(self):\n",
    "    if self.valve == None:\n",
    "        return\n",
    "\n",
    "    else:\n",
    "        return (1 + max(self.left.hight, self.right.height))\n",
    "\n",
    "def rebalance(self,v):\n",
    "    slope = self.left.height - self.right.height\n",
    "    if slope > 1 and v < self.left.value:\n",
    "        self.rightrotate()\n",
    "        self.height = 1 + max(self.left.height,self.right.height)\n",
    "        self.left.height = 1 + max(self.left.left.height,self.right.right.height)\n",
    "        self.right.height = 1 + max(self.left.left.height,self.right.right.height)\n",
    "\n",
    "    if slope < -1 and v > self.right.value:\n",
    "        self.leftrotate()\n",
    "        self.height = 1 + max(self.left.height,self.right.height)\n",
    "\n",
    "    if slope > 1 and v > self.left.value:\n",
    "\n",
    "        self.left.leftrotate()\n",
    "        self.rightrotate()\n",
    "        self.left.height = 1 + max(self.left.left.height,self.right.right.height)\n",
    "        self.right.height = 1 + max(self.left.left.height,self.right.right.height)\n",
    "\n",
    "    if slope < -1 and v < self.right.value:\n",
    "        self.right.rightrotate()\n",
    "        self.leftrotate()\n",
    "        self.left.height = 1 + max(self.left.left.height,self.right.right.height)\n",
    "        self.right.height = 1 + max(self.left.left.height,self.right.right.height)\n",
    "\n",
    "    self.height = 1 + max(self.left.height,self.right.height)\n",
    "    return\n",
    "        "
   ]
  },
  {
   "cell_type": "code",
   "execution_count": 2,
   "id": "fee05882",
   "metadata": {},
   "outputs": [
    {
     "ename": "IndentationError",
     "evalue": "unindent does not match any outer indentation level (<tokenize>, line 23)",
     "output_type": "error",
     "traceback": [
      "\u001b[1;36m  File \u001b[1;32m\"<tokenize>\"\u001b[1;36m, line \u001b[1;32m23\u001b[0m\n\u001b[1;33m    def calc_height(self):\u001b[0m\n\u001b[1;37m    ^\u001b[0m\n\u001b[1;31mIndentationError\u001b[0m\u001b[1;31m:\u001b[0m unindent does not match any outer indentation level\n"
     ]
    }
   ],
   "source": [
    "def insert(self,v):\n",
    "        if self.isempty():\n",
    "            self.value = v\n",
    "            self.height = 1\n",
    "            self.right = AVLTree()\n",
    "            self.left = AVLTree()\n",
    "            self.rebalance(v)\n",
    "        \n",
    "        elif self.value == v:\n",
    "            return\n",
    "        \n",
    "        elif v < self.value:\n",
    "            self.left.insert(v)\n",
    "            self.rebalance(v)\n",
    "            return\n",
    "            \n",
    "        \n",
    "        elif v > self.value:\n",
    "            self.right.insert(v)\n",
    "            self.rebalance(v)\n",
    "            return\n",
    "    \n",
    "    def calc_height(self):\n",
    "        if self.valve == None:\n",
    "            return\n",
    "        \n",
    "        else:\n",
    "            return (1 + max(self.left.hight, self.right.height))\n",
    "            \n",
    "    def rebalance(self,v):\n",
    "        slope = self.left.height - self.right.height\n",
    "        if slope > 1 and v < self.left.value:\n",
    "            self.rightrotate()\n",
    "            self.height = 1 + max(self.left.height,self.right.height)\n",
    "            self.left.height = 1 + max(self.left.left.height,self.right.right.height)\n",
    "            self.right.height = 1 + max(self.left.left.height,self.right.right.height)\n",
    "        \n",
    "        if slope < -1 and v > self.right.value:\n",
    "            self.leftrotate()\n",
    "            self.height = 1 + max(self.left.height,self.right.height)\n",
    "        \n",
    "        if slope > 1 and v > self.left.value:\n",
    "           \n",
    "            self.left.leftrotate()\n",
    "            self.rightrotate()\n",
    "            self.left.height = 1 + max(self.left.left.height,self.right.right.height)\n",
    "            self.right.height = 1 + max(self.left.left.height,self.right.right.height)\n",
    "        \n",
    "        if slope < -1 and v < self.right.value:\n",
    "            self.right.rightrotate()\n",
    "            self.leftrotate()\n",
    "            self.left.height = 1 + max(self.left.left.height,self.right.right.height)\n",
    "            self.right.height = 1 + max(self.left.left.height,self.right.right.height)\n",
    "        \n",
    "        self.height = 1 + max(self.left.height,self.right.height)\n",
    "        return\n",
    "        \n"
   ]
  },
  {
   "cell_type": "code",
   "execution_count": 4,
   "id": "325a0dab",
   "metadata": {},
   "outputs": [
    {
     "name": "stdout",
     "output_type": "stream",
     "text": [
      "2\n",
      "2 3\n",
      "6\n",
      "4 5\n",
      "20\n"
     ]
    }
   ],
   "source": [
    "T = int(input())\n",
    "for tc in range(T):\n",
    "    A, B = map(int, input().split())\n",
    "    print(A*B)"
   ]
  },
  {
   "cell_type": "code",
   "execution_count": 26,
   "id": "78c0b91c",
   "metadata": {},
   "outputs": [
    {
     "name": "stdout",
     "output_type": "stream",
     "text": [
      "2\n",
      "5\n",
      "4 4 4 4 4\n",
      "No\n",
      "5\n",
      "5 5 5 5 5\n",
      "Yes\n"
     ]
    }
   ],
   "source": [
    "T = int(input())\n",
    "for tc in range(T):\n",
    "    n=int(input())\n",
    "    l=input().split()\n",
    "    #while (len(l)>0):\n",
    "    flag=0\n",
    "    for i in l:\n",
    "        if (int(i)==l.count(i)):\n",
    "            flag=1\n",
    "          #  for j in range(l.count(i)):\n",
    "              #  l.remove(i)\n",
    "        else:\n",
    "            flag=0\n",
    "        #if(int(i)!=l.count(i)):\n",
    "            #l.remove(i)\n",
    "    if(flag):\n",
    "        print('Yes')\n",
    "    else:\n",
    "        print(\"No\")\n",
    "            \n",
    "        \n",
    "        \n",
    "   \n",
    "    #for i in range(n):\n",
    "        \n",
    "    \n",
    "    \n",
    "    #A, B = map(int, input().split()\n",
    "#print(l)"
   ]
  },
  {
   "cell_type": "code",
   "execution_count": 20,
   "id": "85cf5415",
   "metadata": {},
   "outputs": [
    {
     "name": "stdout",
     "output_type": "stream",
     "text": [
      "Counter({1: 1, 2: 1, 3: 1, 4: 1})\n"
     ]
    }
   ],
   "source": [
    "from collections import Counter\n",
    "l=[1,2,3,4]\n",
    "d=Counter(l)\n",
    "(print(d))"
   ]
  },
  {
   "cell_type": "code",
   "execution_count": 21,
   "id": "16c93446",
   "metadata": {},
   "outputs": [
    {
     "name": "stdout",
     "output_type": "stream",
     "text": [
      "1\n",
      "5\n",
      "4 4 4 4 3\n",
      "NO\n"
     ]
    }
   ],
   "source": [
    "from collections import Counter\n",
    "for t in range(int(input())):\n",
    "    n=int(input())\n",
    "    l=list(map(int,input().split()))\n",
    "    d=Counter(l)\n",
    "    f=1\n",
    "    for i in d:\n",
    "        if d[i]%i!=0:\n",
    "            f=0\n",
    "            break\n",
    "    if f==0:\n",
    "        print('NO')\n",
    "    else:\n",
    "        print('YES')\n",
    "            "
   ]
  },
  {
   "cell_type": "code",
   "execution_count": 57,
   "id": "83af96c3",
   "metadata": {},
   "outputs": [
    {
     "name": "stdout",
     "output_type": "stream",
     "text": [
      "1\n",
      "12 7\n",
      "2\n"
     ]
    }
   ],
   "source": [
    "import math as m\n",
    "T = int(input())\n",
    "if(T<=1000 and T>=1):\n",
    "    for tc in range(T):\n",
    "        A, B = map(int, input().split())\n",
    "        if(A<=100 and A>=1 and B<=100 and B>=1):\n",
    "            if(B>=A):\n",
    "                print(0)\n",
    "            else:\n",
    "                d=(A-B)\n",
    "                print(m.ceil(d/4))\n",
    "        \n",
    "            \n",
    "    \n",
    "        \n",
    "#print(A,B,C)\n",
    "#a is numb of students and b is candies already with chef"
   ]
  },
  {
   "cell_type": "code",
   "execution_count": 28,
   "id": "196cbfb8",
   "metadata": {},
   "outputs": [
    {
     "ename": "SyntaxError",
     "evalue": "invalid syntax (Temp/ipykernel_30740/749981440.py, line 1)",
     "output_type": "error",
     "traceback": [
      "\u001b[1;36m  File \u001b[1;32m\"C:\\Users\\mkhus\\AppData\\Local\\Temp/ipykernel_30740/749981440.py\"\u001b[1;36m, line \u001b[1;32m1\u001b[0m\n\u001b[1;33m    Alice, Bob, and Charlie\u001b[0m\n\u001b[1;37m                ^\u001b[0m\n\u001b[1;31mSyntaxError\u001b[0m\u001b[1;31m:\u001b[0m invalid syntax\n"
     ]
    }
   ],
   "source": [
    "Alice, Bob, and Charlie"
   ]
  },
  {
   "cell_type": "code",
   "execution_count": 36,
   "id": "b471d5db",
   "metadata": {},
   "outputs": [
    {
     "data": {
      "text/plain": [
       "2"
      ]
     },
     "execution_count": 36,
     "metadata": {},
     "output_type": "execute_result"
    }
   ],
   "source": [
    "[1,2,3].index(3)"
   ]
  },
  {
   "cell_type": "code",
   "execution_count": 39,
   "id": "c8986ab3",
   "metadata": {},
   "outputs": [
    {
     "data": {
      "text/plain": [
       "3"
      ]
     },
     "execution_count": 39,
     "metadata": {},
     "output_type": "execute_result"
    }
   ],
   "source": [
    "max(1,2,3)"
   ]
  },
  {
   "cell_type": "code",
   "execution_count": 45,
   "id": "678b5717",
   "metadata": {},
   "outputs": [
    {
     "ename": "AttributeError",
     "evalue": "'list' object has no attribute 'distinct'",
     "output_type": "error",
     "traceback": [
      "\u001b[1;31m---------------------------------------------------------------------------\u001b[0m",
      "\u001b[1;31mAttributeError\u001b[0m                            Traceback (most recent call last)",
      "\u001b[1;32m~\\AppData\\Local\\Temp/ipykernel_30740/1868724740.py\u001b[0m in \u001b[0;36m<module>\u001b[1;34m\u001b[0m\n\u001b[1;32m----> 1\u001b[1;33m \u001b[1;32mif\u001b[0m \u001b[1;33m[\u001b[0m\u001b[1;36m1\u001b[0m\u001b[1;33m,\u001b[0m\u001b[1;36m2\u001b[0m\u001b[1;33m,\u001b[0m\u001b[1;36m3\u001b[0m\u001b[1;33m]\u001b[0m\u001b[1;33m.\u001b[0m\u001b[0mdistinct\u001b[0m\u001b[1;33m(\u001b[0m\u001b[1;33m)\u001b[0m\u001b[1;33m:\u001b[0m\u001b[1;33m\u001b[0m\u001b[1;33m\u001b[0m\u001b[0m\n\u001b[0m\u001b[0;32m      2\u001b[0m     \u001b[0mprint\u001b[0m\u001b[1;33m(\u001b[0m\u001b[1;34m\"oj\"\u001b[0m\u001b[1;33m)\u001b[0m\u001b[1;33m\u001b[0m\u001b[1;33m\u001b[0m\u001b[0m\n",
      "\u001b[1;31mAttributeError\u001b[0m: 'list' object has no attribute 'distinct'"
     ]
    }
   ],
   "source": [
    "if [1,2,3].distinct():\n",
    "    print(\"oj\")"
   ]
  },
  {
   "cell_type": "code",
   "execution_count": 56,
   "id": "06fcea10",
   "metadata": {},
   "outputs": [
    {
     "data": {
      "text/plain": [
       "2"
      ]
     },
     "execution_count": 56,
     "metadata": {},
     "output_type": "execute_result"
    }
   ],
   "source": [
    "import math as m\n",
    "m.ceil(8/4)"
   ]
  },
  {
   "cell_type": "code",
   "execution_count": 58,
   "id": "f294974a",
   "metadata": {},
   "outputs": [
    {
     "ename": "KeyboardInterrupt",
     "evalue": "Interrupted by user",
     "output_type": "error",
     "traceback": [
      "\u001b[1;31m---------------------------------------------------------------------------\u001b[0m",
      "\u001b[1;31mKeyboardInterrupt\u001b[0m                         Traceback (most recent call last)",
      "\u001b[1;32m~\\AppData\\Local\\Temp/ipykernel_30740/3151340820.py\u001b[0m in \u001b[0;36m<module>\u001b[1;34m\u001b[0m\n\u001b[1;32m----> 1\u001b[1;33m \u001b[0mT\u001b[0m \u001b[1;33m=\u001b[0m \u001b[0mint\u001b[0m\u001b[1;33m(\u001b[0m\u001b[0minput\u001b[0m\u001b[1;33m(\u001b[0m\u001b[1;33m)\u001b[0m\u001b[1;33m)\u001b[0m\u001b[1;33m\u001b[0m\u001b[1;33m\u001b[0m\u001b[0m\n\u001b[0m\u001b[0;32m      2\u001b[0m \u001b[1;32mdef\u001b[0m \u001b[0mf\u001b[0m\u001b[1;33m(\u001b[0m\u001b[0mm\u001b[0m\u001b[1;33m)\u001b[0m\u001b[1;33m:\u001b[0m\u001b[1;33m\u001b[0m\u001b[1;33m\u001b[0m\u001b[0m\n\u001b[0;32m      3\u001b[0m     \u001b[0mx\u001b[0m\u001b[1;33m=\u001b[0m\u001b[1;33m(\u001b[0m\u001b[0mm\u001b[0m\u001b[1;33m^\u001b[0m\u001b[0ma\u001b[0m\u001b[1;33m)\u001b[0m \u001b[1;33m+\u001b[0m \u001b[1;33m(\u001b[0m\u001b[0mm\u001b[0m\u001b[1;33m^\u001b[0m\u001b[0mb\u001b[0m\u001b[1;33m)\u001b[0m \u001b[1;33m+\u001b[0m\u001b[1;33m(\u001b[0m\u001b[0mm\u001b[0m\u001b[1;33m^\u001b[0m\u001b[0mc\u001b[0m\u001b[1;33m)\u001b[0m\u001b[1;33m\u001b[0m\u001b[1;33m\u001b[0m\u001b[0m\n\u001b[0;32m      4\u001b[0m \u001b[1;32mif\u001b[0m\u001b[1;33m(\u001b[0m\u001b[0mT\u001b[0m\u001b[1;33m<=\u001b[0m\u001b[1;36m2\u001b[0m\u001b[1;33m*\u001b[0m\u001b[1;36m10\u001b[0m\u001b[1;33m**\u001b[0m\u001b[1;36m4\u001b[0m \u001b[1;32mand\u001b[0m \u001b[0mT\u001b[0m\u001b[1;33m>=\u001b[0m\u001b[1;36m1\u001b[0m\u001b[1;33m)\u001b[0m\u001b[1;33m:\u001b[0m\u001b[1;33m\u001b[0m\u001b[1;33m\u001b[0m\u001b[0m\n\u001b[0;32m      5\u001b[0m     \u001b[1;32mfor\u001b[0m \u001b[0mtc\u001b[0m \u001b[1;32min\u001b[0m \u001b[0mrange\u001b[0m\u001b[1;33m(\u001b[0m\u001b[0mT\u001b[0m\u001b[1;33m)\u001b[0m\u001b[1;33m:\u001b[0m\u001b[1;33m\u001b[0m\u001b[1;33m\u001b[0m\u001b[0m\n",
      "\u001b[1;32m~\\anaconda3\\lib\\site-packages\\ipykernel\\kernelbase.py\u001b[0m in \u001b[0;36mraw_input\u001b[1;34m(self, prompt)\u001b[0m\n\u001b[0;32m   1004\u001b[0m                 \u001b[1;34m\"raw_input was called, but this frontend does not support input requests.\"\u001b[0m\u001b[1;33m\u001b[0m\u001b[1;33m\u001b[0m\u001b[0m\n\u001b[0;32m   1005\u001b[0m             )\n\u001b[1;32m-> 1006\u001b[1;33m         return self._input_request(\n\u001b[0m\u001b[0;32m   1007\u001b[0m             \u001b[0mstr\u001b[0m\u001b[1;33m(\u001b[0m\u001b[0mprompt\u001b[0m\u001b[1;33m)\u001b[0m\u001b[1;33m,\u001b[0m\u001b[1;33m\u001b[0m\u001b[1;33m\u001b[0m\u001b[0m\n\u001b[0;32m   1008\u001b[0m             \u001b[0mself\u001b[0m\u001b[1;33m.\u001b[0m\u001b[0m_parent_ident\u001b[0m\u001b[1;33m[\u001b[0m\u001b[1;34m\"shell\"\u001b[0m\u001b[1;33m]\u001b[0m\u001b[1;33m,\u001b[0m\u001b[1;33m\u001b[0m\u001b[1;33m\u001b[0m\u001b[0m\n",
      "\u001b[1;32m~\\anaconda3\\lib\\site-packages\\ipykernel\\kernelbase.py\u001b[0m in \u001b[0;36m_input_request\u001b[1;34m(self, prompt, ident, parent, password)\u001b[0m\n\u001b[0;32m   1049\u001b[0m             \u001b[1;32mexcept\u001b[0m \u001b[0mKeyboardInterrupt\u001b[0m\u001b[1;33m:\u001b[0m\u001b[1;33m\u001b[0m\u001b[1;33m\u001b[0m\u001b[0m\n\u001b[0;32m   1050\u001b[0m                 \u001b[1;31m# re-raise KeyboardInterrupt, to truncate traceback\u001b[0m\u001b[1;33m\u001b[0m\u001b[1;33m\u001b[0m\u001b[0m\n\u001b[1;32m-> 1051\u001b[1;33m                 \u001b[1;32mraise\u001b[0m \u001b[0mKeyboardInterrupt\u001b[0m\u001b[1;33m(\u001b[0m\u001b[1;34m\"Interrupted by user\"\u001b[0m\u001b[1;33m)\u001b[0m \u001b[1;32mfrom\u001b[0m \u001b[1;32mNone\u001b[0m\u001b[1;33m\u001b[0m\u001b[1;33m\u001b[0m\u001b[0m\n\u001b[0m\u001b[0;32m   1052\u001b[0m             \u001b[1;32mexcept\u001b[0m \u001b[0mException\u001b[0m\u001b[1;33m:\u001b[0m\u001b[1;33m\u001b[0m\u001b[1;33m\u001b[0m\u001b[0m\n\u001b[0;32m   1053\u001b[0m                 \u001b[0mself\u001b[0m\u001b[1;33m.\u001b[0m\u001b[0mlog\u001b[0m\u001b[1;33m.\u001b[0m\u001b[0mwarning\u001b[0m\u001b[1;33m(\u001b[0m\u001b[1;34m\"Invalid Message:\"\u001b[0m\u001b[1;33m,\u001b[0m \u001b[0mexc_info\u001b[0m\u001b[1;33m=\u001b[0m\u001b[1;32mTrue\u001b[0m\u001b[1;33m)\u001b[0m\u001b[1;33m\u001b[0m\u001b[1;33m\u001b[0m\u001b[0m\n",
      "\u001b[1;31mKeyboardInterrupt\u001b[0m: Interrupted by user"
     ]
    }
   ],
   "source": [
    "T = int(input())\n",
    "def f(m):\n",
    "    x=(m^a) + (m^b) +(m^c)\n",
    "if(T<=2*10**4 and T>=1):\n",
    "    for tc in range(T):\n",
    "        N=int(input())\n",
    "        if(N>=2 and N<=10**5):\n",
    "            l=input().split()\n",
    "            for i in range (N):\n",
    "                for j in l:\n",
    "                    if(int(j)==0):\n",
    "                        pass\n",
    "                \n",
    "          "
   ]
  },
  {
   "cell_type": "code",
   "execution_count": 70,
   "id": "5ba5cc1a",
   "metadata": {},
   "outputs": [
    {
     "name": "stdout",
     "output_type": "stream",
     "text": [
      "3\n",
      "1 1\n",
      "0 2\n",
      "1 2\n",
      "[(0, 1), (0, 1), (1, 0), (1, 2), (2, 1), (2, 2)]\n",
      "[0, 0, 2, 2, 1]\n",
      "[1, 1, 1, 1, 1]\n"
     ]
    }
   ],
   "source": [
    "l=[]\n",
    "N=int(input())\n",
    "for i in range (N):\n",
    "    a,b=map(int,input().split())\n",
    "    if (a>=0 and a<=b and b<N):\n",
    "        l.append((i,a))\n",
    "        l.append((i,b))\n",
    "print(l)\n",
    "lenth=[]\n",
    "brd=[]\n",
    "for i in range (len(l)-1):\n",
    "    \n",
    "    if (l[i][0]==l[i+1][0]):\n",
    "        d=l[i+1][1]-l[i][1]\n",
    "    lenth.append(d)\n",
    "    if (l[i][1]==l[i+1][1]):\n",
    "        db=l[i+2][0]-l[i][0]\n",
    "    brd.append(db)\n",
    "    \n",
    "print(lenth)\n",
    "print(brd)\n",
    "    \n",
    "        "
   ]
  },
  {
   "cell_type": "code",
   "execution_count": 79,
   "id": "a8f8c242",
   "metadata": {},
   "outputs": [
    {
     "name": "stdout",
     "output_type": "stream",
     "text": [
      "2\n",
      "1 2 3\n",
      "CHEF\n",
      "2 4 6\n",
      "CHEFINA\n"
     ]
    }
   ],
   "source": [
    "T = int(input())\n",
    "s=0\n",
    "if(T<=1000 and T>=1):\n",
    "    \n",
    "    for tc in range(T):\n",
    "        l1=[]\n",
    "       \n",
    "        N=int(input())\n",
    "        if(N>=1 and N<=10**5):\n",
    "            l=input().split()\n",
    "            s+=len(l)\n",
    "            if (s<=2*10**5):\n",
    "                for i in l:\n",
    "                    if (int(i)>=1 and int(i)<=10**9):\n",
    "                        for i in l:\n",
    "                            l1.append(int(i))\n",
    "                        mini=min(l1)\n",
    "                        if(mini%2==0):\n",
    "                            print(\"CHEFINA\")\n",
    "                        if(mini%2!=0):\n",
    "                            print(\"CHEF\")"
   ]
  },
  {
   "cell_type": "code",
   "execution_count": 72,
   "id": "b44d6257",
   "metadata": {},
   "outputs": [
    {
     "data": {
      "text/plain": [
       "'1'"
      ]
     },
     "execution_count": 72,
     "metadata": {},
     "output_type": "execute_result"
    }
   ],
   "source": [
    "min([\"1\",\"2\"])"
   ]
  },
  {
   "cell_type": "code",
   "execution_count": 76,
   "id": "740b59ca",
   "metadata": {},
   "outputs": [
    {
     "name": "stdout",
     "output_type": "stream",
     "text": [
      "1 2\n",
      "1\n"
     ]
    }
   ],
   "source": [
    "l,m=map(int,input().split())\n",
    "print(l)"
   ]
  },
  {
   "cell_type": "code",
   "execution_count": 82,
   "id": "83d4d7a9",
   "metadata": {},
   "outputs": [
    {
     "name": "stdout",
     "output_type": "stream",
     "text": [
      "1 2 3 4\n",
      "[1, 2, 3, 4]\n"
     ]
    }
   ],
   "source": [
    "a=list((map(int,input().split())))\n",
    "print(a)"
   ]
  },
  {
   "cell_type": "code",
   "execution_count": 85,
   "id": "188e17cc",
   "metadata": {},
   "outputs": [
    {
     "name": "stdout",
     "output_type": "stream",
     "text": [
      "1\n",
      "3\n",
      "3 4 6\n",
      "CHEF\n"
     ]
    }
   ],
   "source": [
    "for _ in range(int(input())):\n",
    "    n=int(input())\n",
    "    arr=list(map(int,input().split()))[:n]\n",
    "    s=0\n",
    "    c=0\n",
    "    for i in range(n):\n",
    "        s+=arr[i]\n",
    "        if(arr[i]==1):\n",
    "            c+=1\n",
    "    if(c>0):\n",
    "        print(\"CHEF\")\n",
    "    else:\n",
    "        if(s%2==0):\n",
    "            print(\"CHEFINA\")\n",
    "        else:\n",
    "            print(\"CHEF\")"
   ]
  },
  {
   "cell_type": "code",
   "execution_count": 1,
   "id": "b257de4a",
   "metadata": {},
   "outputs": [
    {
     "ename": "KeyboardInterrupt",
     "evalue": "Interrupted by user",
     "output_type": "error",
     "traceback": [
      "\u001b[1;31m---------------------------------------------------------------------------\u001b[0m",
      "\u001b[1;31mKeyboardInterrupt\u001b[0m                         Traceback (most recent call last)",
      "\u001b[1;32m~\\AppData\\Local\\Temp/ipykernel_24904/1144942368.py\u001b[0m in \u001b[0;36m<module>\u001b[1;34m\u001b[0m\n\u001b[1;32m----> 1\u001b[1;33m \u001b[1;32mfor\u001b[0m \u001b[0m_\u001b[0m \u001b[1;32min\u001b[0m \u001b[0mrange\u001b[0m\u001b[1;33m(\u001b[0m\u001b[0mint\u001b[0m\u001b[1;33m(\u001b[0m\u001b[0minput\u001b[0m\u001b[1;33m(\u001b[0m\u001b[1;33m)\u001b[0m\u001b[1;33m)\u001b[0m\u001b[1;33m)\u001b[0m\u001b[1;33m:\u001b[0m\u001b[1;33m\u001b[0m\u001b[1;33m\u001b[0m\u001b[0m\n\u001b[0m\u001b[0;32m      2\u001b[0m     \u001b[0mn\u001b[0m\u001b[1;33m=\u001b[0m\u001b[0mint\u001b[0m\u001b[1;33m(\u001b[0m\u001b[0minput\u001b[0m\u001b[1;33m(\u001b[0m\u001b[1;33m)\u001b[0m\u001b[1;33m)\u001b[0m\u001b[1;33m\u001b[0m\u001b[1;33m\u001b[0m\u001b[0m\n\u001b[0;32m      3\u001b[0m     \u001b[0marr\u001b[0m\u001b[1;33m=\u001b[0m\u001b[0mlist\u001b[0m\u001b[1;33m(\u001b[0m\u001b[0mmap\u001b[0m\u001b[1;33m(\u001b[0m\u001b[0mint\u001b[0m\u001b[1;33m,\u001b[0m\u001b[0minput\u001b[0m\u001b[1;33m(\u001b[0m\u001b[1;33m)\u001b[0m\u001b[1;33m.\u001b[0m\u001b[0msplit\u001b[0m\u001b[1;33m(\u001b[0m\u001b[1;33m)\u001b[0m\u001b[1;33m)\u001b[0m\u001b[1;33m)\u001b[0m\u001b[1;33m[\u001b[0m\u001b[1;33m:\u001b[0m\u001b[0mn\u001b[0m\u001b[1;33m]\u001b[0m\u001b[1;33m\u001b[0m\u001b[1;33m\u001b[0m\u001b[0m\n\u001b[0;32m      4\u001b[0m     \u001b[1;32mif\u001b[0m\u001b[1;33m(\u001b[0m\u001b[0mmin\u001b[0m\u001b[1;33m(\u001b[0m\u001b[0marr\u001b[0m\u001b[1;33m)\u001b[0m\u001b[1;33m%\u001b[0m\u001b[1;36m2\u001b[0m\u001b[1;33m==\u001b[0m\u001b[1;36m0\u001b[0m\u001b[1;33m)\u001b[0m\u001b[1;33m:\u001b[0m\u001b[1;33m\u001b[0m\u001b[1;33m\u001b[0m\u001b[0m\n\u001b[0;32m      5\u001b[0m         \u001b[1;33m(\u001b[0m\u001b[0mprint\u001b[0m\u001b[1;33m(\u001b[0m\u001b[1;34m\"CHEFINA\"\u001b[0m\u001b[1;33m)\u001b[0m\u001b[1;33m)\u001b[0m\u001b[1;33m\u001b[0m\u001b[1;33m\u001b[0m\u001b[0m\n",
      "\u001b[1;32m~\\anaconda3\\lib\\site-packages\\ipykernel\\kernelbase.py\u001b[0m in \u001b[0;36mraw_input\u001b[1;34m(self, prompt)\u001b[0m\n\u001b[0;32m   1004\u001b[0m                 \u001b[1;34m\"raw_input was called, but this frontend does not support input requests.\"\u001b[0m\u001b[1;33m\u001b[0m\u001b[1;33m\u001b[0m\u001b[0m\n\u001b[0;32m   1005\u001b[0m             )\n\u001b[1;32m-> 1006\u001b[1;33m         return self._input_request(\n\u001b[0m\u001b[0;32m   1007\u001b[0m             \u001b[0mstr\u001b[0m\u001b[1;33m(\u001b[0m\u001b[0mprompt\u001b[0m\u001b[1;33m)\u001b[0m\u001b[1;33m,\u001b[0m\u001b[1;33m\u001b[0m\u001b[1;33m\u001b[0m\u001b[0m\n\u001b[0;32m   1008\u001b[0m             \u001b[0mself\u001b[0m\u001b[1;33m.\u001b[0m\u001b[0m_parent_ident\u001b[0m\u001b[1;33m[\u001b[0m\u001b[1;34m\"shell\"\u001b[0m\u001b[1;33m]\u001b[0m\u001b[1;33m,\u001b[0m\u001b[1;33m\u001b[0m\u001b[1;33m\u001b[0m\u001b[0m\n",
      "\u001b[1;32m~\\anaconda3\\lib\\site-packages\\ipykernel\\kernelbase.py\u001b[0m in \u001b[0;36m_input_request\u001b[1;34m(self, prompt, ident, parent, password)\u001b[0m\n\u001b[0;32m   1049\u001b[0m             \u001b[1;32mexcept\u001b[0m \u001b[0mKeyboardInterrupt\u001b[0m\u001b[1;33m:\u001b[0m\u001b[1;33m\u001b[0m\u001b[1;33m\u001b[0m\u001b[0m\n\u001b[0;32m   1050\u001b[0m                 \u001b[1;31m# re-raise KeyboardInterrupt, to truncate traceback\u001b[0m\u001b[1;33m\u001b[0m\u001b[1;33m\u001b[0m\u001b[0m\n\u001b[1;32m-> 1051\u001b[1;33m                 \u001b[1;32mraise\u001b[0m \u001b[0mKeyboardInterrupt\u001b[0m\u001b[1;33m(\u001b[0m\u001b[1;34m\"Interrupted by user\"\u001b[0m\u001b[1;33m)\u001b[0m \u001b[1;32mfrom\u001b[0m \u001b[1;32mNone\u001b[0m\u001b[1;33m\u001b[0m\u001b[1;33m\u001b[0m\u001b[0m\n\u001b[0m\u001b[0;32m   1052\u001b[0m             \u001b[1;32mexcept\u001b[0m \u001b[0mException\u001b[0m\u001b[1;33m:\u001b[0m\u001b[1;33m\u001b[0m\u001b[1;33m\u001b[0m\u001b[0m\n\u001b[0;32m   1053\u001b[0m                 \u001b[0mself\u001b[0m\u001b[1;33m.\u001b[0m\u001b[0mlog\u001b[0m\u001b[1;33m.\u001b[0m\u001b[0mwarning\u001b[0m\u001b[1;33m(\u001b[0m\u001b[1;34m\"Invalid Message:\"\u001b[0m\u001b[1;33m,\u001b[0m \u001b[0mexc_info\u001b[0m\u001b[1;33m=\u001b[0m\u001b[1;32mTrue\u001b[0m\u001b[1;33m)\u001b[0m\u001b[1;33m\u001b[0m\u001b[1;33m\u001b[0m\u001b[0m\n",
      "\u001b[1;31mKeyboardInterrupt\u001b[0m: Interrupted by user"
     ]
    }
   ],
   "source": [
    "for _ in range(int(input())):\n",
    "    n=int(input())\n",
    "    arr=list(map(int,input().split()))[:n]\n",
    "    if(min(arr)%2==0):\n",
    "        (print(\"CHEFINA\"))\n",
    "    else:\n",
    "        print(\"CHEF\")"
   ]
  },
  {
   "cell_type": "code",
   "execution_count": 18,
   "id": "4420d463",
   "metadata": {},
   "outputs": [],
   "source": [
    "def swap(a,b,i):\n",
    "    n=len(a)\n",
    "    temp=a[i]\n",
    "    a[i]=b[i]\n",
    "    b[i]=temp\n",
    "def aswap(a,b,i):\n",
    "    temp=b[i]\n",
    "    b[i]=a[i]\n",
    "    a[i]=temp\n",
    "    \n",
    "    \n",
    "def minmax(a,b):\n",
    "    l1=[]\n",
    "    n=len(a)\n",
    "    l1.append(max(a)*max(b))\n",
    "    for i in range (n):\n",
    "        swap(a,b,i)\n",
    "        l1.append(max(a)*max(b))\n",
    "        aswap(a,b,i)\n",
    "    print(l1)\n",
    "    return (min(l1))\n",
    "    \n",
    "        "
   ]
  },
  {
   "cell_type": "code",
   "execution_count": 19,
   "id": "3a1e0623",
   "metadata": {},
   "outputs": [
    {
     "name": "stdout",
     "output_type": "stream",
     "text": [
      "[30, 30, 30, 30, 30, 30, 24]\n"
     ]
    },
    {
     "data": {
      "text/plain": [
       "24"
      ]
     },
     "execution_count": 19,
     "metadata": {},
     "output_type": "execute_result"
    }
   ],
   "source": [
    "minmax([1,2,6,5,1,2],[3,4,3,2,2,5])"
   ]
  },
  {
   "cell_type": "code",
   "execution_count": 20,
   "id": "754ed223",
   "metadata": {},
   "outputs": [],
   "source": [
    "def swap(a,b,i):\n",
    "    n=len(a)\n",
    "    temp=a[i]\n",
    "    a[i]=b[i]\n",
    "    b[i]=temp\n",
    "def minmax(a,b):\n",
    "    l1=[]\n",
    "    l1.append(max(a)*max(b))\n",
    "    while(max(b)>a[b.index(max(b))]):\n",
    "        swap(a,b,b.index(max(b)))\n",
    "        l1.append(max(a)*max(b))\n",
    "    print(l1)\n",
    "    return (min(l1))\n",
    "        \n",
    "    \n"
   ]
  },
  {
   "cell_type": "code",
   "execution_count": 21,
   "id": "426f8ef5",
   "metadata": {},
   "outputs": [
    {
     "name": "stdout",
     "output_type": "stream",
     "text": [
      "[30, 24, 18, 18]\n"
     ]
    },
    {
     "data": {
      "text/plain": [
       "18"
      ]
     },
     "execution_count": 21,
     "metadata": {},
     "output_type": "execute_result"
    }
   ],
   "source": [
    "minmax([1,2,6,5,1,2],[3,4,3,2,2,5])"
   ]
  },
  {
   "cell_type": "code",
   "execution_count": 30,
   "id": "83558a73",
   "metadata": {},
   "outputs": [],
   "source": [
    "def peak_unimodal(a):\n",
    "    n=len(a)\n",
    "    for i in range((n-1)):\n",
    "        if (a[i+1]<a[i]):\n",
    "            return (i)"
   ]
  },
  {
   "cell_type": "code",
   "execution_count": 31,
   "id": "ed497376",
   "metadata": {},
   "outputs": [
    {
     "data": {
      "text/plain": [
       "5"
      ]
     },
     "execution_count": 31,
     "metadata": {},
     "output_type": "execute_result"
    }
   ],
   "source": [
    "peak_unimodal([2,3,4,21,43,52,51,18,11,9,6,5,1])"
   ]
  },
  {
   "cell_type": "code",
   "execution_count": 32,
   "id": "9bb5371f",
   "metadata": {},
   "outputs": [],
   "source": [
    "def peak_unimodal(a):\n",
    "    return (a.index(max(a)))"
   ]
  },
  {
   "cell_type": "code",
   "execution_count": 33,
   "id": "93b4b8db",
   "metadata": {},
   "outputs": [
    {
     "data": {
      "text/plain": [
       "5"
      ]
     },
     "execution_count": 33,
     "metadata": {},
     "output_type": "execute_result"
    }
   ],
   "source": [
    "peak_unimodal([2,3,4,21,43,52,51,18,11,9,6,5,1])"
   ]
  },
  {
   "cell_type": "code",
   "execution_count": 2,
   "id": "c64992d9",
   "metadata": {},
   "outputs": [
    {
     "ename": "ModuleNotFoundError",
     "evalue": "No module named 'psycopg2'",
     "output_type": "error",
     "traceback": [
      "\u001b[1;31m---------------------------------------------------------------------------\u001b[0m",
      "\u001b[1;31mModuleNotFoundError\u001b[0m                       Traceback (most recent call last)",
      "\u001b[1;32m~\\AppData\\Local\\Temp/ipykernel_13600/2240166596.py\u001b[0m in \u001b[0;36m<module>\u001b[1;34m\u001b[0m\n\u001b[0;32m      1\u001b[0m \u001b[1;32mimport\u001b[0m \u001b[0msys\u001b[0m\u001b[1;33m,\u001b[0m \u001b[0mos\u001b[0m\u001b[1;33m\u001b[0m\u001b[1;33m\u001b[0m\u001b[0m\n\u001b[1;32m----> 2\u001b[1;33m \u001b[1;32mimport\u001b[0m \u001b[0mpsycopg2\u001b[0m \u001b[1;32mas\u001b[0m \u001b[0mps\u001b[0m\u001b[1;33m\u001b[0m\u001b[1;33m\u001b[0m\u001b[0m\n\u001b[0m\u001b[0;32m      3\u001b[0m \u001b[1;32mimport\u001b[0m \u001b[0mpandas\u001b[0m \u001b[1;32mas\u001b[0m \u001b[0mpd\u001b[0m\u001b[1;33m\u001b[0m\u001b[1;33m\u001b[0m\u001b[0m\n\u001b[0;32m      4\u001b[0m \u001b[0mdatabase\u001b[0m \u001b[1;33m=\u001b[0m \u001b[0msys\u001b[0m\u001b[1;33m.\u001b[0m\u001b[0margv\u001b[0m\u001b[1;33m[\u001b[0m\u001b[1;36m1\u001b[0m\u001b[1;33m]\u001b[0m  \u001b[1;31m#name of the database is obtained from the command line argument\u001b[0m\u001b[1;33m\u001b[0m\u001b[1;33m\u001b[0m\u001b[0m\n\u001b[0;32m      5\u001b[0m \u001b[0muser\u001b[0m \u001b[1;33m=\u001b[0m \u001b[0mos\u001b[0m\u001b[1;33m.\u001b[0m\u001b[0menviron\u001b[0m\u001b[1;33m.\u001b[0m\u001b[0mget\u001b[0m\u001b[1;33m(\u001b[0m\u001b[1;34m'PGUSER'\u001b[0m\u001b[1;33m)\u001b[0m\u001b[1;33m\u001b[0m\u001b[1;33m\u001b[0m\u001b[0m\n",
      "\u001b[1;31mModuleNotFoundError\u001b[0m: No module named 'psycopg2'"
     ]
    }
   ],
   "source": [
    "import sys, os\n",
    "import psycopg2 as ps\n",
    "import pandas as pd\n",
    "database = sys.argv[1]\t#name of the database is obtained from the command line argument\n",
    "user = os.environ.get('PGUSER') \n",
    "password = os.environ.get('PGPASSWORD') \n",
    "host = os.environ.get('PGHOST')\n",
    "port = os.environ.get('PGPORT')\n",
    "\n",
    "f = open('date.txt')\n",
    "for i in f:\n",
    "    d = i\n",
    "q = '''select r.name, mr.referee from public.matches m\n",
    "left join public.match_referees mr on m.match_num=mr.match_num\n",
    "left join public.referees r on r.referee_id=mr.referee where m.match_date = ''' + \"'\"+d+\"'\"\n",
    "conn = ps.connect(database=database,user=user,password=password,host=host,port=port)\n",
    "cur = conn.cursor()\n",
    "cur.execute(q)\n",
    "t = cur.fetchall()\n",
    "for j in t:\n",
    "    temp = ''\n",
    "    p=j[0].split(' ')\n",
    "    for k in p[:-1]:\n",
    "        temp=temp+k[0]+'. '\n",
    "    print(p[-1],temp[:-1])\n",
    "    \n",
    "cur.close()\n",
    "conn.close()\n"
   ]
  },
  {
   "cell_type": "code",
   "execution_count": 3,
   "id": "be081961",
   "metadata": {},
   "outputs": [
    {
     "ename": "SyntaxError",
     "evalue": "invalid syntax (Temp/ipykernel_13600/3164380423.py, line 1)",
     "output_type": "error",
     "traceback": [
      "\u001b[1;36m  File \u001b[1;32m\"C:\\Users\\mkhus\\AppData\\Local\\Temp/ipykernel_13600/3164380423.py\"\u001b[1;36m, line \u001b[1;32m1\u001b[0m\n\u001b[1;33m    sudo yum install python-pip\u001b[0m\n\u001b[1;37m         ^\u001b[0m\n\u001b[1;31mSyntaxError\u001b[0m\u001b[1;31m:\u001b[0m invalid syntax\n"
     ]
    }
   ],
   "source": [
    "sudo yum install python-pip"
   ]
  },
  {
   "cell_type": "code",
   "execution_count": 4,
   "id": "56b4d6be",
   "metadata": {},
   "outputs": [
    {
     "name": "stdout",
     "output_type": "stream",
     "text": [
      "Collecting psycopg2\n",
      "  Downloading psycopg2-2.9.3-cp39-cp39-win_amd64.whl (1.2 MB)\n",
      "Installing collected packages: psycopg2\n",
      "Successfully installed psycopg2-2.9.3\n",
      "Note: you may need to restart the kernel to use updated packages.\n"
     ]
    }
   ],
   "source": [
    "pip install psycopg2"
   ]
  },
  {
   "cell_type": "code",
   "execution_count": 1,
   "id": "842d32b3",
   "metadata": {},
   "outputs": [
    {
     "ename": "FileNotFoundError",
     "evalue": "[Errno 2] No such file or directory: 'date.txt'",
     "output_type": "error",
     "traceback": [
      "\u001b[1;31m---------------------------------------------------------------------------\u001b[0m",
      "\u001b[1;31mFileNotFoundError\u001b[0m                         Traceback (most recent call last)",
      "\u001b[1;32m~\\AppData\\Local\\Temp/ipykernel_28540/2240166596.py\u001b[0m in \u001b[0;36m<module>\u001b[1;34m\u001b[0m\n\u001b[0;32m      8\u001b[0m \u001b[0mport\u001b[0m \u001b[1;33m=\u001b[0m \u001b[0mos\u001b[0m\u001b[1;33m.\u001b[0m\u001b[0menviron\u001b[0m\u001b[1;33m.\u001b[0m\u001b[0mget\u001b[0m\u001b[1;33m(\u001b[0m\u001b[1;34m'PGPORT'\u001b[0m\u001b[1;33m)\u001b[0m\u001b[1;33m\u001b[0m\u001b[1;33m\u001b[0m\u001b[0m\n\u001b[0;32m      9\u001b[0m \u001b[1;33m\u001b[0m\u001b[0m\n\u001b[1;32m---> 10\u001b[1;33m \u001b[0mf\u001b[0m \u001b[1;33m=\u001b[0m \u001b[0mopen\u001b[0m\u001b[1;33m(\u001b[0m\u001b[1;34m'date.txt'\u001b[0m\u001b[1;33m)\u001b[0m\u001b[1;33m\u001b[0m\u001b[1;33m\u001b[0m\u001b[0m\n\u001b[0m\u001b[0;32m     11\u001b[0m \u001b[1;32mfor\u001b[0m \u001b[0mi\u001b[0m \u001b[1;32min\u001b[0m \u001b[0mf\u001b[0m\u001b[1;33m:\u001b[0m\u001b[1;33m\u001b[0m\u001b[1;33m\u001b[0m\u001b[0m\n\u001b[0;32m     12\u001b[0m     \u001b[0md\u001b[0m \u001b[1;33m=\u001b[0m \u001b[0mi\u001b[0m\u001b[1;33m\u001b[0m\u001b[1;33m\u001b[0m\u001b[0m\n",
      "\u001b[1;31mFileNotFoundError\u001b[0m: [Errno 2] No such file or directory: 'date.txt'"
     ]
    }
   ],
   "source": [
    "import sys, os\n",
    "import psycopg2 as ps\n",
    "import pandas as pd\n",
    "database = sys.argv[1]\t#name of the database is obtained from the command line argument\n",
    "user = os.environ.get('PGUSER') \n",
    "password = os.environ.get('PGPASSWORD') \n",
    "host = os.environ.get('PGHOST')\n",
    "port = os.environ.get('PGPORT')\n",
    "\n",
    "f = open('date.txt')\n",
    "for i in f:\n",
    "    d = i\n",
    "q = '''select r.name, mr.referee from public.matches m\n",
    "left join public.match_referees mr on m.match_num=mr.match_num\n",
    "left join public.referees r on r.referee_id=mr.referee where m.match_date = ''' + \"'\"+d+\"'\"\n",
    "conn = ps.connect(database=database,user=user,password=password,host=host,port=port)\n",
    "cur = conn.cursor()\n",
    "cur.execute(q)\n",
    "t = cur.fetchall()\n",
    "for j in t:\n",
    "    temp = ''\n",
    "    p=j[0].split(' ')\n",
    "    for k in p[:-1]:\n",
    "        temp=temp+k[0]+'. '\n",
    "    print(p[-1],temp[:-1])\n",
    "    \n",
    "cur.close()\n",
    "conn.close()\n"
   ]
  },
  {
   "cell_type": "code",
   "execution_count": 2,
   "id": "727a0461",
   "metadata": {},
   "outputs": [
    {
     "ename": "FileNotFoundError",
     "evalue": "[Errno 2] No such file or directory: 'number.txt'",
     "output_type": "error",
     "traceback": [
      "\u001b[1;31m---------------------------------------------------------------------------\u001b[0m",
      "\u001b[1;31mFileNotFoundError\u001b[0m                         Traceback (most recent call last)",
      "\u001b[1;32m~\\AppData\\Local\\Temp/ipykernel_28540/1893029325.py\u001b[0m in \u001b[0;36m<module>\u001b[1;34m\u001b[0m\n\u001b[0;32m      7\u001b[0m \u001b[0mport\u001b[0m \u001b[1;33m=\u001b[0m \u001b[0mos\u001b[0m\u001b[1;33m.\u001b[0m\u001b[0menviron\u001b[0m\u001b[1;33m.\u001b[0m\u001b[0mget\u001b[0m\u001b[1;33m(\u001b[0m\u001b[1;34m'PGPORT'\u001b[0m\u001b[1;33m)\u001b[0m\u001b[1;33m\u001b[0m\u001b[1;33m\u001b[0m\u001b[0m\n\u001b[0;32m      8\u001b[0m \u001b[1;33m\u001b[0m\u001b[0m\n\u001b[1;32m----> 9\u001b[1;33m \u001b[0mf\u001b[0m \u001b[1;33m=\u001b[0m \u001b[0mopen\u001b[0m\u001b[1;33m(\u001b[0m\u001b[1;34m'number.txt'\u001b[0m\u001b[1;33m)\u001b[0m\u001b[1;33m\u001b[0m\u001b[1;33m\u001b[0m\u001b[0m\n\u001b[0m\u001b[0;32m     10\u001b[0m \u001b[1;32mfor\u001b[0m \u001b[0mi\u001b[0m \u001b[1;32min\u001b[0m \u001b[0mf\u001b[0m\u001b[1;33m:\u001b[0m\u001b[1;33m\u001b[0m\u001b[1;33m\u001b[0m\u001b[0m\n\u001b[0;32m     11\u001b[0m     \u001b[0myear\u001b[0m \u001b[1;33m=\u001b[0m \u001b[1;36m2000\u001b[0m \u001b[1;33m+\u001b[0m \u001b[1;33m(\u001b[0m\u001b[1;36m4\u001b[0m\u001b[1;33m*\u001b[0m\u001b[0mint\u001b[0m\u001b[1;33m(\u001b[0m\u001b[0mi\u001b[0m\u001b[1;33m)\u001b[0m\u001b[1;33m)\u001b[0m\u001b[1;33m\u001b[0m\u001b[1;33m\u001b[0m\u001b[0m\n",
      "\u001b[1;31mFileNotFoundError\u001b[0m: [Errno 2] No such file or directory: 'number.txt'"
     ]
    }
   ],
   "source": [
    "import os, sys\n",
    "import psycopg2 as ps\n",
    "database = sys.argv[1]\t#name of the database is obtained from the command line argument\n",
    "user = os.environ.get('PGUSER') \n",
    "password = os.environ.get('PGPASSWORD') \n",
    "host = os.environ.get('PGHOST')\n",
    "port = os.environ.get('PGPORT')\n",
    "\n",
    "f = open('number.txt')\n",
    "for i in f:\n",
    "    year = 2000 + (4*int(i))\n",
    "    q = '''select b.ISBN_no from book_catalogue as b where b.year = ''' + str(year)\n",
    "conn = ps.connect(database = database, user = user, password = password, host = host, port = port)\n",
    "cur = conn.cursor()\n",
    "cur.execute(q)\n",
    "t = cur.fetchall()\n",
    " \n",
    "for j in t:\n",
    "    for k in j:\n",
    "        print(k)"
   ]
  },
  {
   "cell_type": "code",
   "execution_count": 5,
   "id": "ef06d438",
   "metadata": {},
   "outputs": [
    {
     "ename": "FileNotFoundError",
     "evalue": "[Errno 2] No such file or directory: 'date.txt'",
     "output_type": "error",
     "traceback": [
      "\u001b[1;31m---------------------------------------------------------------------------\u001b[0m",
      "\u001b[1;31mFileNotFoundError\u001b[0m                         Traceback (most recent call last)",
      "\u001b[1;32m~\\AppData\\Local\\Temp/ipykernel_28540/1531816815.py\u001b[0m in \u001b[0;36m<module>\u001b[1;34m\u001b[0m\n\u001b[0;32m     10\u001b[0m \u001b[1;33m\u001b[0m\u001b[0m\n\u001b[0;32m     11\u001b[0m \u001b[1;33m\u001b[0m\u001b[0m\n\u001b[1;32m---> 12\u001b[1;33m \u001b[0mf\u001b[0m \u001b[1;33m=\u001b[0m \u001b[0mopen\u001b[0m\u001b[1;33m(\u001b[0m\u001b[1;34m'date.txt'\u001b[0m\u001b[1;33m)\u001b[0m\u001b[1;33m\u001b[0m\u001b[1;33m\u001b[0m\u001b[0m\n\u001b[0m\u001b[0;32m     13\u001b[0m \u001b[1;33m\u001b[0m\u001b[0m\n\u001b[0;32m     14\u001b[0m \u001b[1;32mfor\u001b[0m \u001b[0mi\u001b[0m \u001b[1;32min\u001b[0m \u001b[0mf\u001b[0m\u001b[1;33m:\u001b[0m\u001b[1;33m\u001b[0m\u001b[1;33m\u001b[0m\u001b[0m\n",
      "\u001b[1;31mFileNotFoundError\u001b[0m: [Errno 2] No such file or directory: 'date.txt'"
     ]
    }
   ],
   "source": [
    "import os \n",
    "import sys \n",
    "import psycopg2\n",
    "\n",
    "database = sys.argv[1]\t#name of the database is obtained from the command line argument\n",
    "user = os.environ.get('PGUSER') \n",
    "password = os.environ.get('PGPASSWORD') \n",
    "host = os.environ.get('PGHOST')\n",
    "port = os.environ.get('PGPORT')\n",
    "\n",
    "                      \n",
    "f = open('date.txt')\n",
    "\n",
    "for i in f:\n",
    "    year=200+(int(i))\n",
    "    q='select b.ISBN_no from book_catalogue as b where b.year='+str(year)\n",
    "conn=ps.connect(database=database,user=user,password=password,host=host,port=port)\n",
    "curr=conn.cursor()\n",
    "curr.execute(q)\n",
    "t=curr.fetchall()\n",
    "for j in t :\n",
    "    for k in j:\n",
    "        print(k)"
   ]
  },
  {
   "cell_type": "code",
   "execution_count": 1,
   "id": "8414b39d",
   "metadata": {},
   "outputs": [
    {
     "name": "stdout",
     "output_type": "stream",
     "text": [
      "2\n"
     ]
    }
   ],
   "source": [
    "l={1:\"m\",2:\"o\"}\n",
    "print(len(l))"
   ]
  },
  {
   "cell_type": "code",
   "execution_count": 2,
   "id": "857d997f",
   "metadata": {},
   "outputs": [],
   "source": [
    "def ascendingBinarySearch(arr,low,high,key):\n",
    "    while(low<=high):\n",
    "        mid=low+(high-low)//2\n",
    "        if(arr[mid]==key):\n",
    "            return mid\n",
    "        if(arr[mid]>key):\n",
    "            high=mid-1\n",
    "        else:\n",
    "            low=mid+1\n",
    "    return -1\n",
    "def descendingBinarySearch(arr,low,high,key):\n",
    "    while(low<=high):\n",
    "        mid=low+(high-low)//2\n",
    "        if(arr[mid]==key):\n",
    "            return mid\n",
    "        if(arr[mid]<key):\n",
    "            high=mid-1\n",
    "        else:\n",
    "            low=mid+1\n",
    "    return -1\n",
    "def findBitonicPoint(arr,n,l,r):\n",
    "    mid=(l+r)//2\n",
    "    if(arr[mid]>arr[mid-1] and arr[mid]>arr[mid+1]):\n",
    "        return mid\n",
    "    elif(arr[mid]>arr[mid-1] and arr[mid]<arr[mid+1]):\n",
    "        return findBitonicPoint(arr,n,mid,r)\n",
    "    elif(arr[mid]<arr[mid-1] and arr[mid]>arr[mid+1]):\n",
    "        return findBitonicPoint(arr,n,l,mid)\n",
    "def searchBitonic(arr,n,key,index):\n",
    "    if(key>arr[index]):\n",
    "        return -1\n",
    "    elif(key==arr[index]):\n",
    "        return index\n",
    "    else:\n",
    "        temp=ascendingBinarySearch(arr,0,index-1,key)\n",
    "        if(temp!=-1):\n",
    "            return temp\n",
    "        return descendingBinarySearch(arr,index+1,n-1,key)\n",
    "def solveQ(arr,b):\n",
    "    index=findBitonicPoint(arr,len(arr),0,len(arr)-1)\n",
    "    x=searchBitonic(arr,len(arr),b,index)\n",
    "    return x \n",
    "class Solution:\n",
    "    # @param A : list of integers\n",
    "    # @param B : integer\n",
    "    # @return an integer\n",
    "    def solve(self, A, B):\n",
    "        return solveQ(A,B)"
   ]
  },
  {
   "cell_type": "code",
   "execution_count": 3,
   "id": "0f41ebdf",
   "metadata": {},
   "outputs": [
    {
     "name": "stderr",
     "output_type": "stream",
     "text": [
      "<>:1: SyntaxWarning: 'list' object is not callable; perhaps you missed a comma?\n",
      "<>:1: SyntaxWarning: 'list' object is not callable; perhaps you missed a comma?\n",
      "C:\\Users\\mkhus\\AppData\\Local\\Temp/ipykernel_21932/1909286565.py:1: SyntaxWarning: 'list' object is not callable; perhaps you missed a comma?\n",
      "  print([0](2))\n"
     ]
    },
    {
     "ename": "TypeError",
     "evalue": "'list' object is not callable",
     "output_type": "error",
     "traceback": [
      "\u001b[1;31m---------------------------------------------------------------------------\u001b[0m",
      "\u001b[1;31mTypeError\u001b[0m                                 Traceback (most recent call last)",
      "\u001b[1;32m~\\AppData\\Local\\Temp/ipykernel_21932/1909286565.py\u001b[0m in \u001b[0;36m<module>\u001b[1;34m\u001b[0m\n\u001b[1;32m----> 1\u001b[1;33m \u001b[0mprint\u001b[0m\u001b[1;33m(\u001b[0m\u001b[1;33m[\u001b[0m\u001b[1;36m0\u001b[0m\u001b[1;33m]\u001b[0m\u001b[1;33m(\u001b[0m\u001b[1;36m2\u001b[0m\u001b[1;33m)\u001b[0m\u001b[1;33m)\u001b[0m\u001b[1;33m\u001b[0m\u001b[1;33m\u001b[0m\u001b[0m\n\u001b[0m",
      "\u001b[1;31mTypeError\u001b[0m: 'list' object is not callable"
     ]
    }
   ],
   "source": []
  },
  {
   "cell_type": "code",
   "execution_count": 6,
   "id": "5a548a21",
   "metadata": {},
   "outputs": [
    {
     "name": "stdout",
     "output_type": "stream",
     "text": [
      "[0, 0, 1]\n"
     ]
    }
   ],
   "source": [
    "n=[0]*(2)+[1]\n",
    "print(n)\n"
   ]
  },
  {
   "cell_type": "code",
   "execution_count": 7,
   "id": "542f8a0d",
   "metadata": {},
   "outputs": [
    {
     "name": "stdout",
     "output_type": "stream",
     "text": [
      "1\n",
      "50 60 10 10\n",
      "first\n"
     ]
    }
   ],
   "source": [
    "T=int(input())\n",
    "if (T>=1 and T<=5000):\n",
    "    for i in range(T):\n",
    "        a,b,c,d=map(int,input().split())\n",
    "        if (a>=1 and a<=100 and b>=1 and b<=100):\n",
    "            if (c>=0 and c<=a and d>=0 and d<=b):\n",
    "                x=a-c\n",
    "                y=b-d\n",
    "                if (x>y):\n",
    "                    print(\"second\")\n",
    "                elif (y>x):\n",
    "                    print(\"first\")\n",
    "                else:\n",
    "                    print(\"any\")"
   ]
  },
  {
   "cell_type": "code",
   "execution_count": 8,
   "id": "0f64d0d7",
   "metadata": {},
   "outputs": [
    {
     "name": "stdout",
     "output_type": "stream",
     "text": [
      "1\n",
      "5\n",
      "1 2 3 4 5 5\n",
      "[1, 2, 3, 4, 5, 5]\n"
     ]
    }
   ],
   "source": [
    "T=int(input())\n",
    "if (T>=1 and T<=500):\n",
    "    for i in range (T):\n",
    "        n=int(input())\n",
    "        a=list(map(int,input().split()))\n",
    "        if (n>=1 and n<=1000):\n",
    "            for i in a:\n",
    "                if (i>=1 and i<=n):\n",
    "                    \n",
    "    "
   ]
  },
  {
   "cell_type": "code",
   "execution_count": 32,
   "id": "623ebdbb",
   "metadata": {},
   "outputs": [
    {
     "name": "stdout",
     "output_type": "stream",
     "text": [
      "3\n",
      "2\n",
      "4\n",
      "8\n",
      "3\n",
      "3 5\n",
      "13\n",
      "4\n",
      "5 2 6\n",
      "19\n"
     ]
    }
   ],
   "source": [
    "time=0\n",
    "t=int(input())\n",
    "if (t>=1 and t<=100):\n",
    "    for i in range (t):\n",
    "        n=int(input())\n",
    "        x=list(map(int,input().split()))\n",
    "        s1=0\n",
    "        s2=x[0]\n",
    "        if (n>=1 and n<=10**5):\n",
    "            for j in range (len(x)):\n",
    "                s1+=x[j]\n",
    "                if (s2>=s1):\n",
    "                    s2+=x[j]\n",
    "                else:\n",
    "                    s2=s1\n",
    "                    s2+=x[j]\n",
    "        print(s2)"
   ]
  },
  {
   "cell_type": "code",
   "execution_count": 28,
   "id": "f2e62dbb",
   "metadata": {},
   "outputs": [
    {
     "name": "stdout",
     "output_type": "stream",
     "text": [
      "1\n",
      "1000000\n"
     ]
    },
    {
     "ename": "KeyboardInterrupt",
     "evalue": "",
     "output_type": "error",
     "traceback": [
      "\u001b[1;31m---------------------------------------------------------------------------\u001b[0m",
      "\u001b[1;31mKeyboardInterrupt\u001b[0m                         Traceback (most recent call last)",
      "\u001b[1;32m~\\AppData\\Local\\Temp/ipykernel_22352/2205293875.py\u001b[0m in \u001b[0;36m<module>\u001b[1;34m\u001b[0m\n\u001b[0;32m      5\u001b[0m         \u001b[1;32mfor\u001b[0m \u001b[0mi\u001b[0m \u001b[1;32min\u001b[0m \u001b[0mrange\u001b[0m \u001b[1;33m(\u001b[0m\u001b[1;36m1\u001b[0m\u001b[1;33m,\u001b[0m\u001b[0mx\u001b[0m\u001b[1;33m//\u001b[0m\u001b[1;36m2\u001b[0m\u001b[1;33m)\u001b[0m\u001b[1;33m:\u001b[0m\u001b[1;33m\u001b[0m\u001b[1;33m\u001b[0m\u001b[0m\n\u001b[0;32m      6\u001b[0m             \u001b[1;32mfor\u001b[0m \u001b[0mj\u001b[0m \u001b[1;32min\u001b[0m \u001b[0mrange\u001b[0m\u001b[1;33m(\u001b[0m\u001b[1;36m1\u001b[0m\u001b[1;33m,\u001b[0m\u001b[0mx\u001b[0m\u001b[1;33m//\u001b[0m\u001b[1;36m2\u001b[0m\u001b[1;33m)\u001b[0m\u001b[1;33m:\u001b[0m\u001b[1;33m\u001b[0m\u001b[1;33m\u001b[0m\u001b[0m\n\u001b[1;32m----> 7\u001b[1;33m                 \u001b[1;32mif\u001b[0m \u001b[1;33m(\u001b[0m\u001b[1;33m(\u001b[0m\u001b[1;36m2\u001b[0m\u001b[1;33m*\u001b[0m\u001b[0mi\u001b[0m \u001b[1;33m+\u001b[0m \u001b[1;36m2\u001b[0m\u001b[1;33m*\u001b[0m\u001b[0mj\u001b[0m \u001b[1;33m+\u001b[0m\u001b[0mi\u001b[0m\u001b[1;33m*\u001b[0m\u001b[0mj\u001b[0m\u001b[1;33m)\u001b[0m\u001b[1;33m==\u001b[0m\u001b[0mx\u001b[0m\u001b[1;33m)\u001b[0m\u001b[1;33m:\u001b[0m\u001b[1;33m\u001b[0m\u001b[1;33m\u001b[0m\u001b[0m\n\u001b[0m\u001b[0;32m      8\u001b[0m                     \u001b[0mflag\u001b[0m\u001b[1;33m=\u001b[0m\u001b[1;36m1\u001b[0m\u001b[1;33m\u001b[0m\u001b[1;33m\u001b[0m\u001b[0m\n\u001b[0;32m      9\u001b[0m                     \u001b[1;32mbreak\u001b[0m\u001b[1;33m\u001b[0m\u001b[1;33m\u001b[0m\u001b[0m\n",
      "\u001b[1;31mKeyboardInterrupt\u001b[0m: "
     ]
    }
   ],
   "source": [
    "t=int(input())\n",
    "if (t>=1 and t<=100):\n",
    "    for i in range (t):\n",
    "        x=int(input())\n",
    "        for i in range (1,x//2):\n",
    "            for j in range(1,x//2):\n",
    "                if ((2*i + 2*j +i*j)==x):\n",
    "                    flag=1\n",
    "                    break\n",
    "                else:\n",
    "                    flag=0\n",
    "        if (flag):\n",
    "            print(\"yes\")\n",
    "        else:\n",
    "            print(\"no\")"
   ]
  },
  {
   "cell_type": "code",
   "execution_count": 33,
   "id": "c8138037",
   "metadata": {},
   "outputs": [
    {
     "data": {
      "text/plain": [
       "5"
      ]
     },
     "execution_count": 33,
     "metadata": {},
     "output_type": "execute_result"
    }
   ],
   "source": [
    "1^4"
   ]
  },
  {
   "cell_type": "code",
   "execution_count": 34,
   "id": "cb66f7de",
   "metadata": {},
   "outputs": [
    {
     "name": "stdout",
     "output_type": "stream",
     "text": [
      "3\n",
      "1 6 99\n",
      "9\n",
      "[15]\n"
     ]
    },
    {
     "ename": "KeyboardInterrupt",
     "evalue": "Interrupted by user",
     "output_type": "error",
     "traceback": [
      "\u001b[1;31m---------------------------------------------------------------------------\u001b[0m",
      "\u001b[1;31mKeyboardInterrupt\u001b[0m                         Traceback (most recent call last)",
      "\u001b[1;32m~\\AppData\\Local\\Temp/ipykernel_22352/497901893.py\u001b[0m in \u001b[0;36m<module>\u001b[1;34m\u001b[0m\n\u001b[0;32m      1\u001b[0m \u001b[0mt\u001b[0m\u001b[1;33m=\u001b[0m\u001b[0mint\u001b[0m\u001b[1;33m(\u001b[0m\u001b[0minput\u001b[0m\u001b[1;33m(\u001b[0m\u001b[1;33m)\u001b[0m\u001b[1;33m)\u001b[0m\u001b[1;33m\u001b[0m\u001b[1;33m\u001b[0m\u001b[0m\n\u001b[0;32m      2\u001b[0m \u001b[1;32mfor\u001b[0m \u001b[0mi\u001b[0m \u001b[1;32min\u001b[0m \u001b[0mrange\u001b[0m\u001b[1;33m(\u001b[0m\u001b[0mt\u001b[0m\u001b[1;33m)\u001b[0m\u001b[1;33m:\u001b[0m\u001b[1;33m\u001b[0m\u001b[1;33m\u001b[0m\u001b[0m\n\u001b[1;32m----> 3\u001b[1;33m     \u001b[0mn\u001b[0m\u001b[1;33m,\u001b[0m\u001b[0mx\u001b[0m\u001b[1;33m,\u001b[0m\u001b[0my\u001b[0m\u001b[1;33m=\u001b[0m\u001b[0mmap\u001b[0m\u001b[1;33m(\u001b[0m\u001b[0mint\u001b[0m\u001b[1;33m,\u001b[0m\u001b[0minput\u001b[0m\u001b[1;33m(\u001b[0m\u001b[1;33m)\u001b[0m\u001b[1;33m.\u001b[0m\u001b[0msplit\u001b[0m\u001b[1;33m(\u001b[0m\u001b[1;33m)\u001b[0m\u001b[1;33m)\u001b[0m\u001b[1;33m\u001b[0m\u001b[1;33m\u001b[0m\u001b[0m\n\u001b[0m\u001b[0;32m      4\u001b[0m     \u001b[0ma\u001b[0m\u001b[1;33m=\u001b[0m\u001b[0mlist\u001b[0m\u001b[1;33m(\u001b[0m\u001b[0mmap\u001b[0m\u001b[1;33m(\u001b[0m\u001b[0mint\u001b[0m\u001b[1;33m,\u001b[0m\u001b[0minput\u001b[0m\u001b[1;33m(\u001b[0m\u001b[1;33m)\u001b[0m\u001b[1;33m.\u001b[0m\u001b[0msplit\u001b[0m\u001b[1;33m(\u001b[0m\u001b[1;33m)\u001b[0m\u001b[1;33m)\u001b[0m\u001b[1;33m)\u001b[0m\u001b[1;33m\u001b[0m\u001b[1;33m\u001b[0m\u001b[0m\n\u001b[0;32m      5\u001b[0m     \u001b[1;32mfor\u001b[0m \u001b[0mj\u001b[0m \u001b[1;32min\u001b[0m \u001b[0mrange\u001b[0m\u001b[1;33m(\u001b[0m\u001b[0my\u001b[0m\u001b[1;33m)\u001b[0m\u001b[1;33m:\u001b[0m\u001b[1;33m\u001b[0m\u001b[1;33m\u001b[0m\u001b[0m\n",
      "\u001b[1;32m~\\anaconda3\\lib\\site-packages\\ipykernel\\kernelbase.py\u001b[0m in \u001b[0;36mraw_input\u001b[1;34m(self, prompt)\u001b[0m\n\u001b[0;32m   1004\u001b[0m                 \u001b[1;34m\"raw_input was called, but this frontend does not support input requests.\"\u001b[0m\u001b[1;33m\u001b[0m\u001b[1;33m\u001b[0m\u001b[0m\n\u001b[0;32m   1005\u001b[0m             )\n\u001b[1;32m-> 1006\u001b[1;33m         return self._input_request(\n\u001b[0m\u001b[0;32m   1007\u001b[0m             \u001b[0mstr\u001b[0m\u001b[1;33m(\u001b[0m\u001b[0mprompt\u001b[0m\u001b[1;33m)\u001b[0m\u001b[1;33m,\u001b[0m\u001b[1;33m\u001b[0m\u001b[1;33m\u001b[0m\u001b[0m\n\u001b[0;32m   1008\u001b[0m             \u001b[0mself\u001b[0m\u001b[1;33m.\u001b[0m\u001b[0m_parent_ident\u001b[0m\u001b[1;33m[\u001b[0m\u001b[1;34m\"shell\"\u001b[0m\u001b[1;33m]\u001b[0m\u001b[1;33m,\u001b[0m\u001b[1;33m\u001b[0m\u001b[1;33m\u001b[0m\u001b[0m\n",
      "\u001b[1;32m~\\anaconda3\\lib\\site-packages\\ipykernel\\kernelbase.py\u001b[0m in \u001b[0;36m_input_request\u001b[1;34m(self, prompt, ident, parent, password)\u001b[0m\n\u001b[0;32m   1049\u001b[0m             \u001b[1;32mexcept\u001b[0m \u001b[0mKeyboardInterrupt\u001b[0m\u001b[1;33m:\u001b[0m\u001b[1;33m\u001b[0m\u001b[1;33m\u001b[0m\u001b[0m\n\u001b[0;32m   1050\u001b[0m                 \u001b[1;31m# re-raise KeyboardInterrupt, to truncate traceback\u001b[0m\u001b[1;33m\u001b[0m\u001b[1;33m\u001b[0m\u001b[0m\n\u001b[1;32m-> 1051\u001b[1;33m                 \u001b[1;32mraise\u001b[0m \u001b[0mKeyboardInterrupt\u001b[0m\u001b[1;33m(\u001b[0m\u001b[1;34m\"Interrupted by user\"\u001b[0m\u001b[1;33m)\u001b[0m \u001b[1;32mfrom\u001b[0m \u001b[1;32mNone\u001b[0m\u001b[1;33m\u001b[0m\u001b[1;33m\u001b[0m\u001b[0m\n\u001b[0m\u001b[0;32m   1052\u001b[0m             \u001b[1;32mexcept\u001b[0m \u001b[0mException\u001b[0m\u001b[1;33m:\u001b[0m\u001b[1;33m\u001b[0m\u001b[1;33m\u001b[0m\u001b[0m\n\u001b[0;32m   1053\u001b[0m                 \u001b[0mself\u001b[0m\u001b[1;33m.\u001b[0m\u001b[0mlog\u001b[0m\u001b[1;33m.\u001b[0m\u001b[0mwarning\u001b[0m\u001b[1;33m(\u001b[0m\u001b[1;34m\"Invalid Message:\"\u001b[0m\u001b[1;33m,\u001b[0m \u001b[0mexc_info\u001b[0m\u001b[1;33m=\u001b[0m\u001b[1;32mTrue\u001b[0m\u001b[1;33m)\u001b[0m\u001b[1;33m\u001b[0m\u001b[1;33m\u001b[0m\u001b[0m\n",
      "\u001b[1;31mKeyboardInterrupt\u001b[0m: Interrupted by user"
     ]
    }
   ],
   "source": [
    "t=int(input())\n",
    "if (t>=1 and t<=10**4):\n",
    "    \n",
    "    for i in range(t):\n",
    "        n,x,y=map(int,input().split())\n",
    "        if (n>=1 and n<=10**5 and y>=1 and y<=10**9 and x>=1 and x<=2**30):\n",
    "            \n",
    "            a=list(map(int,input().split()))\n",
    "            for i in a:\n",
    "                if (i>=1 and i<=2**30):\n",
    "                    \n",
    "            \n",
    "                    for j in range(y):\n",
    "                        s=min(a)\n",
    "                        ind=a.index(s)\n",
    "                        s1=s^x\n",
    "                        a=a[:ind]+[s1]+a[ind+1:]\n",
    "                    a.sort()\n",
    "                print(a)"
   ]
  },
  {
   "cell_type": "code",
   "execution_count": 53,
   "id": "cd0f0072",
   "metadata": {},
   "outputs": [],
   "source": [
    "def fun(nums,target):\n",
    "    hashMap = {}\n",
    "\n",
    "    for i in range(len(nums)):\n",
    "        hashMap[nums[i]] = i\n",
    "\n",
    "    for i in range(len(nums)):\n",
    "        rem =  target -nums[i] \n",
    "        if rem in hashMap and hashMap[rem] != i:\n",
    "            print(hashMap)\n",
    "            return [i,hashMap[rem]]\n"
   ]
  },
  {
   "cell_type": "code",
   "execution_count": 54,
   "id": "ca6f0b44",
   "metadata": {},
   "outputs": [
    {
     "name": "stdout",
     "output_type": "stream",
     "text": [
      "{-1: 0, -2: 1, -3: 2, -4: 3, -5: 4}\n"
     ]
    },
    {
     "data": {
      "text/plain": [
       "[2, 4]"
      ]
     },
     "execution_count": 54,
     "metadata": {},
     "output_type": "execute_result"
    }
   ],
   "source": [
    "fun([-1,-2,-3,-4,-5],-8)"
   ]
  },
  {
   "cell_type": "code",
   "execution_count": 57,
   "id": "584dfc5b",
   "metadata": {},
   "outputs": [
    {
     "name": "stdout",
     "output_type": "stream",
     "text": [
      "121\n"
     ]
    }
   ],
   "source": [
    "x=abs(-121)\n",
    "print(x)"
   ]
  },
  {
   "cell_type": "code",
   "execution_count": 61,
   "id": "bdc3bcc3",
   "metadata": {},
   "outputs": [],
   "source": [
    "def fun(x):\n",
    "    \n",
    "    x1=str(abs(x))\n",
    "    n=len(x1)\n",
    "    for i in range(n):\n",
    "        if(x1[i]==x1[n-i-1] and x>=0):\n",
    "            return(\"true\")\n",
    "        else:\n",
    "            return(\"false\")"
   ]
  },
  {
   "cell_type": "code",
   "execution_count": 62,
   "id": "12d61540",
   "metadata": {},
   "outputs": [
    {
     "data": {
      "text/plain": [
       "'false'"
      ]
     },
     "execution_count": 62,
     "metadata": {},
     "output_type": "execute_result"
    }
   ],
   "source": [
    "fun(-121)"
   ]
  },
  {
   "cell_type": "code",
   "execution_count": 13,
   "id": "5693b67c",
   "metadata": {},
   "outputs": [
    {
     "name": "stdout",
     "output_type": "stream",
     "text": [
      "5 10\n",
      "5\n"
     ]
    }
   ],
   "source": [
    "a,b=map(int,input().split())\n",
    "div=0\n",
    "if(a>=1 and a<=100 and b>=1 and b<=100):\n",
    "    for i in range(1,min(a,b)+1):\n",
    "        if(a%i==b%i==0):\n",
    "            div=i\n",
    "m=max(a,b)\n",
    "if(div==1):\n",
    "    print(m)\n",
    "      "
   ]
  },
  {
   "cell_type": "code",
   "execution_count": 11,
   "id": "cebadb6e",
   "metadata": {},
   "outputs": [
    {
     "name": "stdout",
     "output_type": "stream",
     "text": [
      "1\n"
     ]
    }
   ],
   "source": [
    "num1=5\n",
    "num2=3\n",
    "divisor=0\n",
    "for i in range(1,min(num1,num2)+1):\n",
    "    if(num1%i == num2%i == 0):\n",
    "        divisor = i\n",
    "print(divisor)"
   ]
  },
  {
   "cell_type": "code",
   "execution_count": 19,
   "id": "644786a7",
   "metadata": {},
   "outputs": [
    {
     "name": "stdout",
     "output_type": "stream",
     "text": [
      "1\n",
      "1 2 3\n",
      "fail\n"
     ]
    }
   ],
   "source": [
    "t=int(input())\n",
    "if (t>0 and t<=1000):\n",
    "    for i in range(t):\n",
    "        p=list((map(int,input().split())))\n",
    "        #p=list(a,b,c)\n",
    "        if(a>=1 and a<=100 and b>=1 and b<=100 and c>=1 and c<=100):\n",
    "        x=min(p)\n",
    "        p.remove(x)\n",
    "        y=min(p)\n",
    "        av=(x+y)/2\n",
    "        if(av>34):\n",
    "            print(\"pass\")\n",
    "        else:\n",
    "            print(\"fail\")\n",
    "            \n",
    "    "
   ]
  },
  {
   "cell_type": "code",
   "execution_count": 17,
   "id": "f937f539",
   "metadata": {},
   "outputs": [
    {
     "ename": "TypeError",
     "evalue": "unsupported operand type(s) for -: 'list' and 'list'",
     "output_type": "error",
     "traceback": [
      "\u001b[1;31m---------------------------------------------------------------------------\u001b[0m",
      "\u001b[1;31mTypeError\u001b[0m                                 Traceback (most recent call last)",
      "\u001b[1;32m~\\AppData\\Local\\Temp/ipykernel_36388/4192825179.py\u001b[0m in \u001b[0;36m<module>\u001b[1;34m\u001b[0m\n\u001b[1;32m----> 1\u001b[1;33m \u001b[1;33m[\u001b[0m\u001b[1;36m1\u001b[0m\u001b[1;33m,\u001b[0m\u001b[1;36m2\u001b[0m\u001b[1;33m]\u001b[0m\u001b[1;33m-\u001b[0m\u001b[1;33m[\u001b[0m\u001b[1;36m2\u001b[0m\u001b[1;33m]\u001b[0m\u001b[1;33m\u001b[0m\u001b[1;33m\u001b[0m\u001b[0m\n\u001b[0m",
      "\u001b[1;31mTypeError\u001b[0m: unsupported operand type(s) for -: 'list' and 'list'"
     ]
    }
   ],
   "source": [
    "[1,2]-[2]"
   ]
  },
  {
   "cell_type": "code",
   "execution_count": null,
   "id": "3fa155c7",
   "metadata": {},
   "outputs": [],
   "source": [
    "t=int(input())\n",
    "if (t>0 and t<=1000):\n",
    "    for i in range(t):\n",
    "        a,b,c=map(int,input().split())\n",
    "        if(a>=1 and a<=100 and b>=1 and b<=100 and c>=1 and c<=100):\n",
    "            if((a+b)/2<34 or (a+c)/2<34 or (c+b)/2<34):\n",
    "                print(\"fail\")\n",
    "            else:\n",
    "                print(\"pass\")\n",
    "        "
   ]
  }
 ],
 "metadata": {
  "kernelspec": {
   "display_name": "Python 3 (ipykernel)",
   "language": "python",
   "name": "python3"
  },
  "language_info": {
   "codemirror_mode": {
    "name": "ipython",
    "version": 3
   },
   "file_extension": ".py",
   "mimetype": "text/x-python",
   "name": "python",
   "nbconvert_exporter": "python",
   "pygments_lexer": "ipython3",
   "version": "3.9.7"
  }
 },
 "nbformat": 4,
 "nbformat_minor": 5
}
