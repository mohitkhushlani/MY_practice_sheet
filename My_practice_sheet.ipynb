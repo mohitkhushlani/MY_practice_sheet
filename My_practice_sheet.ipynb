{
 "cells": [
  {
   "cell_type": "code",
   "execution_count": 2,
   "id": "98e00231",
   "metadata": {},
   "outputs": [
    {
     "name": "stdout",
     "output_type": "stream",
     "text": [
      "[(1, 2, 3, 4, 5), (1, 2, 3, 4, 6), (1, 2, 3, 4, 7), (1, 2, 3, 4, 8), (1, 2, 3, 5, 6), (1, 2, 3, 5, 7), (1, 2, 3, 5, 8), (1, 2, 3, 6, 7), (1, 2, 3, 6, 8), (1, 2, 3, 7, 8), (1, 2, 4, 5, 6), (1, 2, 4, 5, 7), (1, 2, 4, 5, 8), (1, 2, 4, 6, 7), (1, 2, 4, 6, 8), (1, 2, 4, 7, 8), (1, 2, 5, 6, 7), (1, 2, 5, 6, 8), (1, 2, 5, 7, 8), (1, 2, 6, 7, 8), (1, 3, 4, 5, 6), (1, 3, 4, 5, 7), (1, 3, 4, 5, 8), (1, 3, 4, 6, 7), (1, 3, 4, 6, 8), (1, 3, 4, 7, 8), (1, 3, 5, 6, 7), (1, 3, 5, 6, 8), (1, 3, 5, 7, 8), (1, 3, 6, 7, 8), (1, 4, 5, 6, 7), (1, 4, 5, 6, 8), (1, 4, 5, 7, 8), (1, 4, 6, 7, 8), (1, 5, 6, 7, 8), (2, 3, 4, 5, 6), (2, 3, 4, 5, 7), (2, 3, 4, 5, 8), (2, 3, 4, 6, 7), (2, 3, 4, 6, 8), (2, 3, 4, 7, 8), (2, 3, 5, 6, 7), (2, 3, 5, 6, 8), (2, 3, 5, 7, 8), (2, 3, 6, 7, 8), (2, 4, 5, 6, 7), (2, 4, 5, 6, 8), (2, 4, 5, 7, 8), (2, 4, 6, 7, 8), (2, 5, 6, 7, 8), (3, 4, 5, 6, 7), (3, 4, 5, 6, 8), (3, 4, 5, 7, 8), (3, 4, 6, 7, 8), (3, 5, 6, 7, 8), (4, 5, 6, 7, 8)]\n"
     ]
    }
   ],
   "source": [
    "# Python Program to Print\n",
    "# all subsets of given size of a set\n",
    "\n",
    "import itertools\n",
    "\n",
    "def findsubsets(s, n):\n",
    "\treturn list(itertools.combinations(s, n))\n",
    "\n",
    "# Driver Code\n",
    "#s = [1,2,3,4,5,6,7,8]\n",
    "#n = 5\n",
    "\n",
    "l=(findsubsets(s, n))\n",
    "l1=[]\n",
    "for i in l:\n",
    "    a=max(i)\n",
    "    b=min(i)\n",
    "    c=a-b\n",
    "    l1.append(c)\n",
    "print(min(l1))\n"
   ]
  },
  {
   "cell_type": "code",
   "execution_count": 4,
   "id": "51906d76",
   "metadata": {},
   "outputs": [
    {
     "name": "stdout",
     "output_type": "stream",
     "text": [
      "[[3, 4, 5], [2, 4, 5], [2, 3, 5], [2, 3, 4], [1, 4, 5], [1, 3, 5], [1, 3, 4], [1, 2, 5], [1, 2, 4], [1, 2, 3]]\n"
     ]
    }
   ],
   "source": [
    "def subsets(numbers):\n",
    "\tif numbers == []:\n",
    "\t\treturn [[]]\n",
    "\tx = subsets(numbers[1:])\n",
    "\treturn x + [[numbers[0]] + y for y in x]\n",
    "\n",
    "# wrapper function\n",
    "def subsets_of_given_size(numbers, n):\n",
    "\treturn [x for x in subsets(numbers) if len(x)==n]\n",
    "\n",
    "if __name__ == '__main__':\n",
    "\tnumbers = [1, 2, 3, 4,5]\n",
    "\tn = 3\n",
    "\tprint(subsets_of_given_size(numbers, n))\n"
   ]
  },
  {
   "cell_type": "code",
   "execution_count": 5,
   "id": "ea7f4264",
   "metadata": {},
   "outputs": [
    {
     "name": "stdout",
     "output_type": "stream",
     "text": [
      "4\n",
      "1\n"
     ]
    }
   ],
   "source": [
    "i=(1,2,4)\n",
    "print(max(i))\n",
    "print(min(i))"
   ]
  },
  {
   "cell_type": "code",
   "execution_count": 7,
   "id": "a11d4dfb",
   "metadata": {},
   "outputs": [
    {
     "name": "stdout",
     "output_type": "stream",
     "text": [
      "2\n"
     ]
    },
    {
     "ename": "KeyboardInterrupt",
     "evalue": "Interrupted by user",
     "output_type": "error",
     "traceback": [
      "\u001b[1;31m---------------------------------------------------------------------------\u001b[0m",
      "\u001b[1;31mKeyboardInterrupt\u001b[0m                         Traceback (most recent call last)",
      "\u001b[1;32m~\\AppData\\Local\\Temp/ipykernel_12088/2721613952.py\u001b[0m in \u001b[0;36m<module>\u001b[1;34m\u001b[0m\n\u001b[0;32m     20\u001b[0m \u001b[0mprint\u001b[0m\u001b[1;33m(\u001b[0m\u001b[0mmin\u001b[0m\u001b[1;33m(\u001b[0m\u001b[0ml1\u001b[0m\u001b[1;33m)\u001b[0m\u001b[1;33m)\u001b[0m\u001b[1;33m\u001b[0m\u001b[1;33m\u001b[0m\u001b[0m\n\u001b[0;32m     21\u001b[0m \u001b[1;33m\u001b[0m\u001b[0m\n\u001b[1;32m---> 22\u001b[1;33m \u001b[0mL\u001b[0m\u001b[1;33m=\u001b[0m\u001b[0meval\u001b[0m\u001b[1;33m(\u001b[0m\u001b[0minput\u001b[0m\u001b[1;33m(\u001b[0m\u001b[1;33m)\u001b[0m\u001b[1;33m.\u001b[0m\u001b[0mstrip\u001b[0m\u001b[1;33m(\u001b[0m\u001b[1;33m)\u001b[0m\u001b[1;33m)\u001b[0m\u001b[1;33m\u001b[0m\u001b[1;33m\u001b[0m\u001b[0m\n\u001b[0m\u001b[0;32m     23\u001b[0m \u001b[0mP\u001b[0m\u001b[1;33m=\u001b[0m\u001b[0mint\u001b[0m\u001b[1;33m(\u001b[0m\u001b[0minput\u001b[0m\u001b[1;33m(\u001b[0m\u001b[1;33m)\u001b[0m\u001b[1;33m)\u001b[0m\u001b[1;33m\u001b[0m\u001b[1;33m\u001b[0m\u001b[0m\n\u001b[0;32m     24\u001b[0m \u001b[0mprint\u001b[0m\u001b[1;33m(\u001b[0m\u001b[0mfind_Min_Difference\u001b[0m\u001b[1;33m(\u001b[0m\u001b[0mL\u001b[0m\u001b[1;33m,\u001b[0m\u001b[0mP\u001b[0m\u001b[1;33m)\u001b[0m\u001b[1;33m)\u001b[0m\u001b[1;33m\u001b[0m\u001b[1;33m\u001b[0m\u001b[0m\n",
      "\u001b[1;32m~\\anaconda3\\lib\\site-packages\\ipykernel\\kernelbase.py\u001b[0m in \u001b[0;36mraw_input\u001b[1;34m(self, prompt)\u001b[0m\n\u001b[0;32m   1004\u001b[0m                 \u001b[1;34m\"raw_input was called, but this frontend does not support input requests.\"\u001b[0m\u001b[1;33m\u001b[0m\u001b[1;33m\u001b[0m\u001b[0m\n\u001b[0;32m   1005\u001b[0m             )\n\u001b[1;32m-> 1006\u001b[1;33m         return self._input_request(\n\u001b[0m\u001b[0;32m   1007\u001b[0m             \u001b[0mstr\u001b[0m\u001b[1;33m(\u001b[0m\u001b[0mprompt\u001b[0m\u001b[1;33m)\u001b[0m\u001b[1;33m,\u001b[0m\u001b[1;33m\u001b[0m\u001b[1;33m\u001b[0m\u001b[0m\n\u001b[0;32m   1008\u001b[0m             \u001b[0mself\u001b[0m\u001b[1;33m.\u001b[0m\u001b[0m_parent_ident\u001b[0m\u001b[1;33m[\u001b[0m\u001b[1;34m\"shell\"\u001b[0m\u001b[1;33m]\u001b[0m\u001b[1;33m,\u001b[0m\u001b[1;33m\u001b[0m\u001b[1;33m\u001b[0m\u001b[0m\n",
      "\u001b[1;32m~\\anaconda3\\lib\\site-packages\\ipykernel\\kernelbase.py\u001b[0m in \u001b[0;36m_input_request\u001b[1;34m(self, prompt, ident, parent, password)\u001b[0m\n\u001b[0;32m   1049\u001b[0m             \u001b[1;32mexcept\u001b[0m \u001b[0mKeyboardInterrupt\u001b[0m\u001b[1;33m:\u001b[0m\u001b[1;33m\u001b[0m\u001b[1;33m\u001b[0m\u001b[0m\n\u001b[0;32m   1050\u001b[0m                 \u001b[1;31m# re-raise KeyboardInterrupt, to truncate traceback\u001b[0m\u001b[1;33m\u001b[0m\u001b[1;33m\u001b[0m\u001b[0m\n\u001b[1;32m-> 1051\u001b[1;33m                 \u001b[1;32mraise\u001b[0m \u001b[0mKeyboardInterrupt\u001b[0m\u001b[1;33m(\u001b[0m\u001b[1;34m\"Interrupted by user\"\u001b[0m\u001b[1;33m)\u001b[0m \u001b[1;32mfrom\u001b[0m \u001b[1;32mNone\u001b[0m\u001b[1;33m\u001b[0m\u001b[1;33m\u001b[0m\u001b[0m\n\u001b[0m\u001b[0;32m   1052\u001b[0m             \u001b[1;32mexcept\u001b[0m \u001b[0mException\u001b[0m\u001b[1;33m:\u001b[0m\u001b[1;33m\u001b[0m\u001b[1;33m\u001b[0m\u001b[0m\n\u001b[0;32m   1053\u001b[0m                 \u001b[0mself\u001b[0m\u001b[1;33m.\u001b[0m\u001b[0mlog\u001b[0m\u001b[1;33m.\u001b[0m\u001b[0mwarning\u001b[0m\u001b[1;33m(\u001b[0m\u001b[1;34m\"Invalid Message:\"\u001b[0m\u001b[1;33m,\u001b[0m \u001b[0mexc_info\u001b[0m\u001b[1;33m=\u001b[0m\u001b[1;32mTrue\u001b[0m\u001b[1;33m)\u001b[0m\u001b[1;33m\u001b[0m\u001b[1;33m\u001b[0m\u001b[0m\n",
      "\u001b[1;31mKeyboardInterrupt\u001b[0m: Interrupted by user"
     ]
    }
   ],
   "source": [
    "# Python Program to Print\n",
    "# all subsets of given size of a set\n",
    "\n",
    "import itertools\n",
    "\n",
    "def find_Min_Difference(s, n):\n",
    "\treturn list(itertools.combinations(s, n))\n",
    "\n",
    "# Driver Code\n",
    "#s = [1,2,3,4,5,6,7,8]\n",
    "#n = 5\n",
    "\n",
    "l=(find_Min_Difference(s, n))\n",
    "l1=[]\n",
    "for i in l:\n",
    "    a=max(i)\n",
    "    b=min(i)\n",
    "    c=a-b\n",
    "    l1.append(c)\n",
    "print(min(l1))\n",
    "\n",
    "L=eval(input().strip())\n",
    "P=int(input())\n",
    "print(find_Min_Difference(L,P))"
   ]
  },
  {
   "cell_type": "code",
   "execution_count": 1,
   "id": "40446694",
   "metadata": {},
   "outputs": [
    {
     "ename": "IndentationError",
     "evalue": "expected an indented block (Temp/ipykernel_25528/1818584256.py, line 12)",
     "output_type": "error",
     "traceback": [
      "\u001b[1;36m  File \u001b[1;32m\"C:\\Users\\mkhus\\AppData\\Local\\Temp/ipykernel_25528/1818584256.py\"\u001b[1;36m, line \u001b[1;32m12\u001b[0m\n\u001b[1;33m    if prime(i+2)==True:\u001b[0m\n\u001b[1;37m    ^\u001b[0m\n\u001b[1;31mIndentationError\u001b[0m\u001b[1;31m:\u001b[0m expected an indented block\n"
     ]
    }
   ],
   "source": [
    "def prime(n):\n",
    "    if n < 2:\n",
    "        return False\n",
    "    for i in range(2,n//2+1):\n",
    "        if n%i==0:\n",
    "            return False\n",
    "    return True\n",
    "def Twin_Primes(n, m):\n",
    "    Res=[]\n",
    "    for i in range(n,m-1):\n",
    "        if prime(i)==True:\n",
    "        if prime(i+2)==True:\n",
    "            Res.append((i,i+2))\n",
    "    return(Res)"
   ]
  },
  {
   "cell_type": "code",
   "execution_count": 3,
   "id": "624c3b27",
   "metadata": {},
   "outputs": [
    {
     "name": "stdout",
     "output_type": "stream",
     "text": [
      "1\n"
     ]
    }
   ],
   "source": [
    "l=[1,2,3,3,2]\n",
    "for i in l:\n",
    "    if(l.count(i)==1):\n",
    "        print(i)\n",
    "        break"
   ]
  },
  {
   "cell_type": "code",
   "execution_count": 4,
   "id": "2e79aec6",
   "metadata": {},
   "outputs": [
    {
     "ename": "SyntaxError",
     "evalue": "'break' outside loop (Temp/ipykernel_25528/1324419316.py, line 21)",
     "output_type": "error",
     "traceback": [
      "\u001b[1;36m  File \u001b[1;32m\"C:\\Users\\mkhus\\AppData\\Local\\Temp/ipykernel_25528/1324419316.py\"\u001b[1;36m, line \u001b[1;32m21\u001b[0m\n\u001b[1;33m    break\u001b[0m\n\u001b[1;37m    ^\u001b[0m\n\u001b[1;31mSyntaxError\u001b[0m\u001b[1;31m:\u001b[0m 'break' outside loop\n"
     ]
    }
   ],
   "source": [
    "class XYZ_Courier:\n",
    "    def __init__(self,Route_map):\n",
    "        self.Route_map = Route_map\n",
    "    def dijkstra(self,WList,s):\n",
    "        infinity = 1 + len(WList.keys())*max([d for u in WList.keys()for\n",
    "(v,d) in WList[u]])\n",
    "    (visited,distance,prev) = ({},{},{})\n",
    "    for v in WList.keys():\n",
    "        (visited[v],distance[v],prev[v]) = (False,infinity,None)\n",
    "    distance[s] = 0\n",
    "    for u in WList.keys():\n",
    "        nextd = min([distance[v] for v in WList.keys() if not\n",
    "\n",
    "visited[v]])\n",
    "\n",
    "    nextvlist = [v for v in WList.keys() if (not visited[v]) and\n",
    "\n",
    "distance[v] == nextd]\n",
    "\n",
    "    if nextvlist == []:\n",
    "        break\n",
    "    nextv = min(nextvlist)\n",
    "    visited[nextv] = True\n",
    "    for (v,d) in WList[nextv]:\n",
    "        if not visited[v]:\n",
    "            if distance[v] > distance[nextv]+d:\n",
    "                distance[v] = distance[nextv]+d\n",
    "                prev[v] = nextv\n",
    "\n",
    "    return(distance,prev)\n",
    "\n",
    "    def cost(self,source,destination):\n",
    "        distance,path = self.dijkstra(self.Route_map, source)\n",
    "        return 5 * distance[destination]\n",
    "    \n",
    "    def route(self,source,destination):\n",
    "        distance,path = self.dijkstra(self.Route_map, source)\n",
    "        Route=[]\n",
    "        if distance[destination]!=0:\n",
    "            dest = destination\n",
    "            while dest != source:\n",
    "                Route = [dest] + Route\n",
    "                for i,j in path.items():\n",
    "                    if dest == i:\n",
    "                        dest = j\n",
    "                        break\n",
    "            Route = [dest] + Route\n",
    "        return Route"
   ]
  },
  {
   "cell_type": "code",
   "execution_count": 5,
   "id": "58953770",
   "metadata": {},
   "outputs": [],
   "source": [
    "def bellmanford(WList,s):\n",
    "    infinity = 1 + len(WList.keys())*max([d for u in WList.keys() for (v,d) in WList[u]])\n",
    "    distance = {}\n",
    "    prev = {}\n",
    "    for v in WList.keys():\n",
    "        distance[v] = infinity\n",
    "        prev[v] = None\n",
    "    distance[s] = 0\n",
    "    for i in WList.keys():\n",
    "        for u in WList.keys():\n",
    "            for (v,d) in WList[u]:\n",
    "                if distance[v] > distance[u] + d:\n",
    "                    distance[v] = distance[u] + d\n",
    "                    prev[v] = u\n",
    "    return (distance,prev)\n",
    "\n",
    "def min_cost(route_map,source,destination):\n",
    "    distance1,path1 = bellmanford(route_map, source)\n",
    "    tot_dist = distance1[destination]\n",
    "    Route_S_D = []\n",
    "    # shortest route for source to destination\n",
    "    if distance1[destination] != 0:\n",
    "        dest = destination\n",
    "        while dest != source:\n",
    "            Route_S_D = [dest] + Route_S_D\n",
    "            for i,j in path1.items():\n",
    "                if dest == i:\n",
    "                    dest = j\n",
    "                    break\n",
    "\n",
    "        Route_S_D = [dest] + Route_S_D\n",
    "    return (tot_dist,Route_S_D)"
   ]
  },
  {
   "cell_type": "code",
   "execution_count": 31,
   "id": "1dd21389",
   "metadata": {},
   "outputs": [
    {
     "name": "stdout",
     "output_type": "stream",
     "text": [
      "enter the key--> mohit khushlani\n",
      "enter the msg--> khush\n",
      "mohitkuslan\n",
      "fcghc"
     ]
    }
   ],
   "source": [
    "#key----- alphabets--- remove repitions and spaces \n",
    "#msg--- using above decode the msg \n",
    "\n",
    "from collections import OrderedDict\n",
    "key=input('enter the key--> ')\n",
    "msg=input('enter the msg--> ')\n",
    "alpha=['abcdefghijklmnopqrstuvwxyz']\n",
    "new_key=\"\".join(OrderedDict.fromkeys(key))\n",
    "for i in new_key:\n",
    "    if (i==\" \"):\n",
    "        new_key=new_key.replace(\" \",\"\")\n",
    "\n",
    "print(new_key)\n",
    "\n",
    "#new_msg=\"\"\n",
    "for i in msg:\n",
    "    #print(i)\n",
    "    j=new_key.index(i)\n",
    "    #print(j)\n",
    "    #print(alpha[0][j])\n",
    "    new_msg=\"\".join(alpha[0][j])\n",
    "    print(new_msg,end=\"\")\n",
    "\n",
    "    "
   ]
  },
  {
   "cell_type": "code",
   "execution_count": 13,
   "id": "a758ea98",
   "metadata": {},
   "outputs": [
    {
     "name": "stdout",
     "output_type": "stream",
     "text": [
      "['Mohit', 'kuslan']\n"
     ]
    }
   ],
   "source": [
    "\n",
    "from collections import OrderedDict\n",
    "st='Mohitit Mohitkhushlani'\n",
    "x=\"\".join(OrderedDict.fromkeys(st))\n",
    "x=x.split()\n",
    "print(x)"
   ]
  },
  {
   "cell_type": "code",
   "execution_count": 17,
   "id": "efaa74c0",
   "metadata": {},
   "outputs": [
    {
     "data": {
      "text/plain": [
       "2"
      ]
     },
     "execution_count": 17,
     "metadata": {},
     "output_type": "execute_result"
    }
   ],
   "source": [
    "\"mohit\".index('h')"
   ]
  },
  {
   "cell_type": "code",
   "execution_count": 33,
   "id": "3b227eb3",
   "metadata": {},
   "outputs": [
    {
     "name": "stdout",
     "output_type": "stream",
     "text": [
      "mohit\n"
     ]
    }
   ],
   "source": [
    "new=''\n",
    "for i in \"mohit\":\n",
    "    new+=i\n",
    "print(new)"
   ]
  },
  {
   "cell_type": "code",
   "execution_count": 44,
   "id": "4a349355",
   "metadata": {},
   "outputs": [
    {
     "name": "stdout",
     "output_type": "stream",
     "text": [
      "[True]\n"
     ]
    }
   ],
   "source": [
    "x=[1,1,2,3,4]\n",
    "p=x.index(2)\n",
    "z=[p and p!=1]\n",
    "print(z)"
   ]
  },
  {
   "cell_type": "code",
   "execution_count": 46,
   "id": "9d726b2d",
   "metadata": {},
   "outputs": [
    {
     "name": "stdout",
     "output_type": "stream",
     "text": [
      "[2, 1, 3, 4]\n"
     ]
    }
   ],
   "source": [
    "x=[1,2,1,3,4]\n",
    "x.remove(1)\n",
    "print(x)"
   ]
  },
  {
   "cell_type": "code",
   "execution_count": 2,
   "id": "7f1130b5",
   "metadata": {},
   "outputs": [
    {
     "ename": "TypeError",
     "evalue": "unhashable type: 'list'",
     "output_type": "error",
     "traceback": [
      "\u001b[1;31m---------------------------------------------------------------------------\u001b[0m",
      "\u001b[1;31mTypeError\u001b[0m                                 Traceback (most recent call last)",
      "\u001b[1;32m~\\AppData\\Local\\Temp/ipykernel_20308/2360162205.py\u001b[0m in \u001b[0;36m<module>\u001b[1;34m\u001b[0m\n\u001b[0;32m      3\u001b[0m  [2,-4,2],[-1,-1,2],[-1,0,1],[-1,1,0],[-1,2,-1],[-1,2,-1]]\n\u001b[0;32m      4\u001b[0m \u001b[1;33m\u001b[0m\u001b[0m\n\u001b[1;32m----> 5\u001b[1;33m \u001b[0ml1\u001b[0m\u001b[1;33m=\u001b[0m\u001b[0mset\u001b[0m\u001b[1;33m(\u001b[0m\u001b[0ml\u001b[0m\u001b[1;33m)\u001b[0m\u001b[1;33m\u001b[0m\u001b[1;33m\u001b[0m\u001b[0m\n\u001b[0m\u001b[0;32m      6\u001b[0m \u001b[0mprint\u001b[0m\u001b[1;33m(\u001b[0m\u001b[0ml1\u001b[0m\u001b[1;33m)\u001b[0m\u001b[1;33m\u001b[0m\u001b[1;33m\u001b[0m\u001b[0m\n",
      "\u001b[1;31mTypeError\u001b[0m: unhashable type: 'list'"
     ]
    }
   ],
   "source": [
    "l=[[-1,0,1],[-1,1,0],[-1,2,-1],[-1,2,-1],[-1,-1,2],[0,-1,1],[0,1,-1],[0,1,-1],[0,-1,1],[1,-1,0]\n",
    " ,[1,0,-1],[1,0,-1],[1,-1,0],[2,-1,-1],[2,-1,-1],\n",
    " [2,-4,2],[-1,-1,2],[-1,0,1],[-1,1,0],[-1,2,-1],[-1,2,-1]]\n",
    "\n",
    "l1=set(l)\n",
    "print(l1)"
   ]
  },
  {
   "cell_type": "code",
   "execution_count": 3,
   "id": "6d80cc7e",
   "metadata": {},
   "outputs": [
    {
     "ename": "TypeError",
     "evalue": "unhashable type: 'list'",
     "output_type": "error",
     "traceback": [
      "\u001b[1;31m---------------------------------------------------------------------------\u001b[0m",
      "\u001b[1;31mTypeError\u001b[0m                                 Traceback (most recent call last)",
      "\u001b[1;32m~\\AppData\\Local\\Temp/ipykernel_20308/2529855040.py\u001b[0m in \u001b[0;36m<module>\u001b[1;34m\u001b[0m\n\u001b[1;32m----> 1\u001b[1;33m \u001b[0mset\u001b[0m\u001b[1;33m(\u001b[0m\u001b[1;33m[\u001b[0m\u001b[1;33m[\u001b[0m\u001b[1;36m1\u001b[0m\u001b[1;33m,\u001b[0m\u001b[1;36m2\u001b[0m\u001b[1;33m,\u001b[0m\u001b[1;36m2\u001b[0m\u001b[1;33m]\u001b[0m\u001b[1;33m,\u001b[0m\u001b[1;33m[\u001b[0m\u001b[1;36m2\u001b[0m\u001b[1;33m,\u001b[0m\u001b[1;36m2\u001b[0m\u001b[1;33m,\u001b[0m\u001b[1;36m1\u001b[0m\u001b[1;33m]\u001b[0m\u001b[1;33m,\u001b[0m\u001b[1;33m[\u001b[0m\u001b[1;36m1\u001b[0m\u001b[1;33m,\u001b[0m\u001b[1;36m1\u001b[0m\u001b[1;33m,\u001b[0m\u001b[1;36m1\u001b[0m\u001b[1;33m]\u001b[0m\u001b[1;33m]\u001b[0m\u001b[1;33m)\u001b[0m\u001b[1;33m\u001b[0m\u001b[1;33m\u001b[0m\u001b[0m\n\u001b[0m",
      "\u001b[1;31mTypeError\u001b[0m: unhashable type: 'list'"
     ]
    }
   ],
   "source": [
    "set([[1,2,2],[2,2,1],[1,1,1]])"
   ]
  },
  {
   "cell_type": "code",
   "execution_count": 23,
   "id": "41af249d",
   "metadata": {},
   "outputs": [
    {
     "name": "stdout",
     "output_type": "stream",
     "text": [
      "-120\n",
      "-21\n"
     ]
    }
   ],
   "source": [
    "n=-120\n",
    "m=str(n)\n",
    "print(m)\n",
    "st=\"\"\n",
    "if(m[0]=='-'):\n",
    "    m=m[1:]\n",
    "    for i in m:\n",
    "        st=i+st\n",
    "    st='-'+st\n",
    "else:\n",
    "    for i in m:\n",
    "        st=i+st\n",
    "print(int(st))"
   ]
  },
  {
   "cell_type": "code",
   "execution_count": 30,
   "id": "961251f2",
   "metadata": {},
   "outputs": [
    {
     "data": {
      "text/plain": [
       "'-32'"
      ]
     },
     "execution_count": 30,
     "metadata": {},
     "output_type": "execute_result"
    }
   ],
   "source": [
    "'   -32 '.strip()"
   ]
  },
  {
   "cell_type": "code",
   "execution_count": 46,
   "id": "48d27b4a",
   "metadata": {},
   "outputs": [
    {
     "name": "stdout",
     "output_type": "stream",
     "text": [
      "mohit -87\n",
      "-87\n"
     ]
    }
   ],
   "source": [
    "n=input().strip()\n",
    "st=''\n",
    "for i in n:\n",
    "    if (i==\"-\"):\n",
    "        if (i.isdigit()):\n",
    "            st+=i\n",
    "        st=\"-\"+st\n",
    "    else:\n",
    "        if (i.isdigit()):\n",
    "            st+=i\n",
    "        \n",
    "        \n",
    "    \n",
    "print(int(st))\n",
    "        \n",
    "        \n",
    "        "
   ]
  },
  {
   "cell_type": "code",
   "execution_count": 48,
   "id": "ac588ff4",
   "metadata": {},
   "outputs": [
    {
     "ename": "ValueError",
     "evalue": "invalid literal for int() with base 10: ' '",
     "output_type": "error",
     "traceback": [
      "\u001b[1;31m---------------------------------------------------------------------------\u001b[0m",
      "\u001b[1;31mValueError\u001b[0m                                Traceback (most recent call last)",
      "\u001b[1;32m~\\AppData\\Local\\Temp/ipykernel_20308/2966849267.py\u001b[0m in \u001b[0;36m<module>\u001b[1;34m\u001b[0m\n\u001b[1;32m----> 1\u001b[1;33m \u001b[0mint\u001b[0m\u001b[1;33m(\u001b[0m\u001b[1;34m' '\u001b[0m\u001b[1;33m)\u001b[0m\u001b[1;33m\u001b[0m\u001b[1;33m\u001b[0m\u001b[0m\n\u001b[0m",
      "\u001b[1;31mValueError\u001b[0m: invalid literal for int() with base 10: ' '"
     ]
    }
   ],
   "source": [
    "int(' ')"
   ]
  },
  {
   "cell_type": "code",
   "execution_count": 51,
   "id": "102a893e",
   "metadata": {},
   "outputs": [],
   "source": [
    "def f(n):\n",
    "    y = [i for i in range(1, n+1)]\n",
    "    for i in range(3, n):\n",
    "        y[i] = y[i - 1] + y[i - 2]\n",
    "    print(y)\n",
    "    return y[-1]"
   ]
  },
  {
   "cell_type": "code",
   "execution_count": 52,
   "id": "c1a3382c",
   "metadata": {},
   "outputs": [
    {
     "name": "stdout",
     "output_type": "stream",
     "text": [
      "[1, 2, 3, 5, 8]\n"
     ]
    },
    {
     "data": {
      "text/plain": [
       "8"
      ]
     },
     "execution_count": 52,
     "metadata": {},
     "output_type": "execute_result"
    }
   ],
   "source": [
    "f(5)"
   ]
  },
  {
   "cell_type": "code",
   "execution_count": 63,
   "id": "a4e343ba",
   "metadata": {},
   "outputs": [
    {
     "name": "stdout",
     "output_type": "stream",
     "text": [
      "2\n",
      "2 3\n",
      "6\n",
      "4 5\n",
      "20\n"
     ]
    }
   ],
   "source": [
    "n=int(input())\n",
    "for i in range (n):\n",
    "    m=input().split()\n",
    "    for i in range (len(m)):\n",
    "        prod=int(m[0])*int(m[1])\n",
    "    print(prod)"
   ]
  },
  {
   "cell_type": "code",
   "execution_count": 57,
   "id": "aef3a3ae",
   "metadata": {},
   "outputs": [
    {
     "data": {
      "text/plain": [
       "6"
      ]
     },
     "execution_count": 57,
     "metadata": {},
     "output_type": "execute_result"
    }
   ],
   "source": [
    "2*3"
   ]
  },
  {
   "cell_type": "code",
   "execution_count": 74,
   "id": "ffa2d299",
   "metadata": {},
   "outputs": [
    {
     "name": "stdout",
     "output_type": "stream",
     "text": [
      "[1, 2, 3, 4, 4, 5, 5]\n"
     ]
    }
   ],
   "source": [
    "l=[1,2,3,4,4,5,5,6,6,6,6,6]\n",
    "for i in range(l.count(6)):\n",
    "    l.remove(6)\n",
    "print(l)"
   ]
  },
  {
   "cell_type": "code",
   "execution_count": 1,
   "id": "716c748b",
   "metadata": {},
   "outputs": [
    {
     "name": "stdout",
     "output_type": "stream",
     "text": [
      "5 4 4\n",
      "5\n"
     ]
    }
   ],
   "source": [
    "l=list(map(int,input().split()))[:3]\n",
    "count=0\n",
    "for i in range(3):\n",
    "    while(l[0]>0 or l[1]>0 or l[2]>0):\n",
    "        \n",
    "        if (l[0]>0):\n",
    "            l[0]-=1\n",
    "        \n",
    "        if (l[1]>0):\n",
    "            l[1]-=1\n",
    "            \n",
    "        if (l[2]>0):\n",
    "            l[2]-=1\n",
    "        count+=1\n",
    "print(count)"
   ]
  },
  {
   "cell_type": "code",
   "execution_count": 3,
   "id": "c013d92a",
   "metadata": {},
   "outputs": [
    {
     "name": "stdout",
     "output_type": "stream",
     "text": [
      "5\n"
     ]
    }
   ],
   "source": [
    "l=[5,4,4]\n",
    "x=l[0]^l[1]^l[2]\n",
    "print(x)"
   ]
  },
  {
   "cell_type": "code",
   "execution_count": 6,
   "id": "dbb8f6bb",
   "metadata": {},
   "outputs": [
    {
     "name": "stdout",
     "output_type": "stream",
     "text": [
      "0 6 7\n",
      "7\n"
     ]
    }
   ],
   "source": [
    "l=list(map(int,input().split()))[:3]\n",
    "l.sort()\n",
    "\n",
    "#for i in range (3):\n",
    "x=l[1]\n",
    "y=l[2]-x\n",
    "\n",
    "l[0]-=y\n",
    "if (l[0]>-1):\n",
    "    x+=l[0]\n",
    "else:\n",
    "    x+=y\n",
    "print(x)"
   ]
  },
  {
   "cell_type": "code",
   "execution_count": 1,
   "id": "9fdf988c",
   "metadata": {},
   "outputs": [],
   "source": [
    "def MaxValue(Items,W):\n",
    "    (m,n) = (len(Items),W)\n",
    "    c = []\n",
    "    for i in range(m+1):\n",
    "        row = []\n",
    "        for j in range(n+1):\n",
    "            row.append(0)\n",
    "        c.append(row.copy())\n",
    "    for i in range(1,m+1):\n",
    "        for w in range(1,n+1):\n",
    "            if Items[i][0] > w:\n",
    "                c[i][w] = c[i-1][w]\n",
    "            else:\n",
    "                c[i][w] = max(c[i-1][w],Items[i][1]+c[i-1][w-Items[i][0]])\n",
    "\n",
    "    return(int(c[m][n]))"
   ]
  },
  {
   "cell_type": "code",
   "execution_count": 2,
   "id": "ccc71c72",
   "metadata": {},
   "outputs": [],
   "source": [
    "def tuplesort(L, index):\n",
    "    L_ = []\n",
    "    for t in L:\n",
    "        L_.append(t[index:index+1] + t[:index] + t[index+1:])\n",
    "    L_.sort()\n",
    "    \n",
    "    L__ = []\n",
    "    for t in L_:\n",
    "        L__.append(t[1:index+1] + t[0:1] + t[index+1:])\n",
    "    return L__\n",
    "\n",
    "def MaxProfit(Activity):\n",
    "    n = len(Activity)\n",
    "    act = tuplesort(Activity, 2)\n",
    "    MaxProfit = []\n",
    "    for a in act:\n",
    "        MaxProfit.append(a[3])\n",
    "    for i in range(1, n):\n",
    "        for j in range(0, i):\n",
    "            if act[i][1] >= act[j][2] and MaxProfit[i] < MaxProfit[j] +act[i][3] + 1:\n",
    "                MaxProfit[i] = MaxProfit[j] + act[i][3]\n",
    "\n",
    "    return max(MaxProfit)"
   ]
  },
  {
   "cell_type": "code",
   "execution_count": 1,
   "id": "addaba7b",
   "metadata": {},
   "outputs": [
    {
     "name": "stdout",
     "output_type": "stream",
     "text": [
      "5\n",
      "yes\n"
     ]
    }
   ],
   "source": [
    "c=int(input())\n",
    "if (c<=10000 and c>=1):\n",
    "    if(c<=1000):\n",
    "        print(\"yes\")\n",
    "    else:\n",
    "        print(\"no\")\n",
    "    "
   ]
  },
  {
   "cell_type": "code",
   "execution_count": 2,
   "id": "7872a3d5",
   "metadata": {},
   "outputs": [
    {
     "ename": "KeyboardInterrupt",
     "evalue": "Interrupted by user",
     "output_type": "error",
     "traceback": [
      "\u001b[1;31m---------------------------------------------------------------------------\u001b[0m",
      "\u001b[1;31mKeyboardInterrupt\u001b[0m                         Traceback (most recent call last)",
      "\u001b[1;32m~\\AppData\\Local\\Temp/ipykernel_12068/3847080202.py\u001b[0m in \u001b[0;36m<module>\u001b[1;34m\u001b[0m\n\u001b[0;32m      2\u001b[0m \u001b[1;31m#at most B\u001b[0m\u001b[1;33m\u001b[0m\u001b[1;33m\u001b[0m\u001b[0m\n\u001b[0;32m      3\u001b[0m \u001b[1;31m#at least C\u001b[0m\u001b[1;33m\u001b[0m\u001b[1;33m\u001b[0m\u001b[0m\n\u001b[1;32m----> 4\u001b[1;33m \u001b[0mT\u001b[0m\u001b[1;33m=\u001b[0m\u001b[0mint\u001b[0m\u001b[1;33m(\u001b[0m\u001b[0minput\u001b[0m\u001b[1;33m(\u001b[0m\u001b[1;33m)\u001b[0m\u001b[1;33m)\u001b[0m\u001b[1;33m\u001b[0m\u001b[1;33m\u001b[0m\u001b[0m\n\u001b[0m\u001b[0;32m      5\u001b[0m \u001b[1;32mif\u001b[0m \u001b[1;33m(\u001b[0m\u001b[0mT\u001b[0m\u001b[1;33m>=\u001b[0m\u001b[1;36m1\u001b[0m \u001b[1;32mand\u001b[0m \u001b[0mT\u001b[0m\u001b[1;33m<=\u001b[0m\u001b[1;36m100\u001b[0m\u001b[1;33m)\u001b[0m\u001b[1;33m:\u001b[0m\u001b[1;33m\u001b[0m\u001b[1;33m\u001b[0m\u001b[0m\n\u001b[0;32m      6\u001b[0m     \u001b[1;32mfor\u001b[0m \u001b[0mi\u001b[0m \u001b[1;32min\u001b[0m \u001b[0mrange\u001b[0m\u001b[1;33m(\u001b[0m\u001b[0mT\u001b[0m\u001b[1;33m)\u001b[0m\u001b[1;33m:\u001b[0m\u001b[1;33m\u001b[0m\u001b[1;33m\u001b[0m\u001b[0m\n",
      "\u001b[1;32m~\\anaconda3\\lib\\site-packages\\ipykernel\\kernelbase.py\u001b[0m in \u001b[0;36mraw_input\u001b[1;34m(self, prompt)\u001b[0m\n\u001b[0;32m   1004\u001b[0m                 \u001b[1;34m\"raw_input was called, but this frontend does not support input requests.\"\u001b[0m\u001b[1;33m\u001b[0m\u001b[1;33m\u001b[0m\u001b[0m\n\u001b[0;32m   1005\u001b[0m             )\n\u001b[1;32m-> 1006\u001b[1;33m         return self._input_request(\n\u001b[0m\u001b[0;32m   1007\u001b[0m             \u001b[0mstr\u001b[0m\u001b[1;33m(\u001b[0m\u001b[0mprompt\u001b[0m\u001b[1;33m)\u001b[0m\u001b[1;33m,\u001b[0m\u001b[1;33m\u001b[0m\u001b[1;33m\u001b[0m\u001b[0m\n\u001b[0;32m   1008\u001b[0m             \u001b[0mself\u001b[0m\u001b[1;33m.\u001b[0m\u001b[0m_parent_ident\u001b[0m\u001b[1;33m[\u001b[0m\u001b[1;34m\"shell\"\u001b[0m\u001b[1;33m]\u001b[0m\u001b[1;33m,\u001b[0m\u001b[1;33m\u001b[0m\u001b[1;33m\u001b[0m\u001b[0m\n",
      "\u001b[1;32m~\\anaconda3\\lib\\site-packages\\ipykernel\\kernelbase.py\u001b[0m in \u001b[0;36m_input_request\u001b[1;34m(self, prompt, ident, parent, password)\u001b[0m\n\u001b[0;32m   1049\u001b[0m             \u001b[1;32mexcept\u001b[0m \u001b[0mKeyboardInterrupt\u001b[0m\u001b[1;33m:\u001b[0m\u001b[1;33m\u001b[0m\u001b[1;33m\u001b[0m\u001b[0m\n\u001b[0;32m   1050\u001b[0m                 \u001b[1;31m# re-raise KeyboardInterrupt, to truncate traceback\u001b[0m\u001b[1;33m\u001b[0m\u001b[1;33m\u001b[0m\u001b[0m\n\u001b[1;32m-> 1051\u001b[1;33m                 \u001b[1;32mraise\u001b[0m \u001b[0mKeyboardInterrupt\u001b[0m\u001b[1;33m(\u001b[0m\u001b[1;34m\"Interrupted by user\"\u001b[0m\u001b[1;33m)\u001b[0m \u001b[1;32mfrom\u001b[0m \u001b[1;32mNone\u001b[0m\u001b[1;33m\u001b[0m\u001b[1;33m\u001b[0m\u001b[0m\n\u001b[0m\u001b[0;32m   1052\u001b[0m             \u001b[1;32mexcept\u001b[0m \u001b[0mException\u001b[0m\u001b[1;33m:\u001b[0m\u001b[1;33m\u001b[0m\u001b[1;33m\u001b[0m\u001b[0m\n\u001b[0;32m   1053\u001b[0m                 \u001b[0mself\u001b[0m\u001b[1;33m.\u001b[0m\u001b[0mlog\u001b[0m\u001b[1;33m.\u001b[0m\u001b[0mwarning\u001b[0m\u001b[1;33m(\u001b[0m\u001b[1;34m\"Invalid Message:\"\u001b[0m\u001b[1;33m,\u001b[0m \u001b[0mexc_info\u001b[0m\u001b[1;33m=\u001b[0m\u001b[1;32mTrue\u001b[0m\u001b[1;33m)\u001b[0m\u001b[1;33m\u001b[0m\u001b[1;33m\u001b[0m\u001b[0m\n",
      "\u001b[1;31mKeyboardInterrupt\u001b[0m: Interrupted by user"
     ]
    }
   ],
   "source": [
    "#at least A\n",
    "#at most B\n",
    "#at least C\n",
    "T=int(input())\n",
    "if (T>=1 and T<=100):\n",
    "    for i in range(T):\n",
    "        a,b,c=map(int,input().split())\n",
    "        if(a>=1 and a<=100 and b>=1 and b<=100 and c>=1 and c<=100):\n",
    "            if(max(a,c)<=b):\n",
    "                print(\"yes\")\n",
    "            else:\n",
    "                print(\"no\")\n",
    "    "
   ]
  },
  {
   "cell_type": "code",
   "execution_count": null,
   "id": "0ecefb42",
   "metadata": {},
   "outputs": [],
   "source": [
    "T=int(input())\n",
    "if(T>=1 and T<=100):\n",
    "    for i in range(T):\n",
    "        N=int(input())\n",
    "        l=[]\n",
    "        if(N>=1 and N<=100):\n",
    "            s=list(map(int,input().split()))\n",
    "            for i in s:\n",
    "                if(i>=1 and i<=100):\n",
    "                    v=input()\n",
    "                    if (len(v)==N):\n",
    "                        for j in v:\n",
    "                            if(j==0 or j==1 and v.count(\"0\")>0 ):\n",
    "                                if (j==0):\n",
    "                                    l.append(i)\n",
    "            print(l)\n",
    "            #print(min(l))\n",
    "                                    \n",
    "                                "
   ]
  },
  {
   "cell_type": "code",
   "execution_count": 5,
   "id": "598f8213",
   "metadata": {},
   "outputs": [
    {
     "name": "stdout",
     "output_type": "stream",
     "text": [
      "3\n"
     ]
    }
   ],
   "source": [
    "v=\"01010\"\n",
    "x=v.count(\"0\")\n",
    "print(x)"
   ]
  },
  {
   "cell_type": "code",
   "execution_count": 16,
   "id": "261b10a2",
   "metadata": {},
   "outputs": [
    {
     "name": "stdout",
     "output_type": "stream",
     "text": [
      "1\n",
      "3\n",
      "1 2 3\n",
      "000\n",
      "[1, 1, 1, 2, 2, 2, 3, 3, 3]\n"
     ]
    }
   ],
   "source": [
    "T=int(input())\n",
    "if(T>=1 and T<=100):\n",
    "    for i in range(T):\n",
    "        l=[]\n",
    "        d={}\n",
    "        N=int(input())\n",
    "        s=list(map(int,input().split()))\n",
    "        v=input()\n",
    "        if(N>=1 and N<=100):\n",
    "            for i in s:\n",
    "                if(i>=1 and i<=100):\n",
    "                    if(len(v)==N):\n",
    "                        for j in v:\n",
    "                            if((j==\"0\" or j==\"1\") and v.count(\"0\")>0):\n",
    "                                flag=1\n",
    "                            else:\n",
    "                                flag=0\n",
    "        \n",
    "        if(flag):\n",
    "            for i in s:\n",
    "                d[i]=\"0\"\n",
    "            \n",
    "            \n",
    "                                \n",
    "                                   \n",
    "        \n",
    "        print(min(l))\n",
    "        #print(min(l))\n",
    "               "
   ]
  },
  {
   "cell_type": "code",
   "execution_count": 1,
   "id": "cf611f5d",
   "metadata": {},
   "outputs": [
    {
     "ename": "IndentationError",
     "evalue": "expected an indented block (Temp/ipykernel_8532/1558854091.py, line 10)",
     "output_type": "error",
     "traceback": [
      "\u001b[1;36m  File \u001b[1;32m\"C:\\Users\\mkhus\\AppData\\Local\\Temp/ipykernel_8532/1558854091.py\"\u001b[1;36m, line \u001b[1;32m10\u001b[0m\n\u001b[1;33m    \u001b[0m\n\u001b[1;37m    ^\u001b[0m\n\u001b[1;31mIndentationError\u001b[0m\u001b[1;31m:\u001b[0m expected an indented block\n"
     ]
    }
   ],
   "source": [
    "T=int(input())\n",
    "if (T>=1 and T<=100):\n",
    "    for i in range(T):\n",
    "        N=int(input())\n",
    "        s=list(map(int,input().split()))\n",
    "        v=input()\n",
    "        if(N>=1 and N<=100):\n",
    "            #for i in range(N):\n",
    "            \n",
    "        "
   ]
  },
  {
   "cell_type": "code",
   "execution_count": null,
   "id": "e37db1ff",
   "metadata": {},
   "outputs": [],
   "source": []
  },
  {
   "cell_type": "code",
   "execution_count": null,
   "id": "4214c2cd",
   "metadata": {},
   "outputs": [],
   "source": []
  }
 ],
 "metadata": {
  "kernelspec": {
   "display_name": "Python 3 (ipykernel)",
   "language": "python",
   "name": "python3"
  },
  "language_info": {
   "codemirror_mode": {
    "name": "ipython",
    "version": 3
   },
   "file_extension": ".py",
   "mimetype": "text/x-python",
   "name": "python",
   "nbconvert_exporter": "python",
   "pygments_lexer": "ipython3",
   "version": "3.9.7"
  }
 },
 "nbformat": 4,
 "nbformat_minor": 5
}
